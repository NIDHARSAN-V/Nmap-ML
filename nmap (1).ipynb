{
  "cells": [
    {
      "cell_type": "code",
      "execution_count": null,
      "metadata": {
        "id": "Q0k3xgZD83Q7"
      },
      "outputs": [],
      "source": [
        "\n",
        "!pip install datasets\n",
        "!pip install sklearn\n",
        "!pip install pandas"
      ]
    },
    {
      "cell_type": "code",
      "execution_count": null,
      "metadata": {
        "id": "e0NftQhm0Fry"
      },
      "outputs": [],
      "source": []
    },
    {
      "cell_type": "code",
      "execution_count": null,
      "metadata": {
        "id": "WLYKbRIy7F8O"
      },
      "outputs": [],
      "source": [
        "import pandas as pd\n",
        "from datasets import Dataset\n",
        "from sklearn.model_selection import train_test_split"
      ]
    },
    {
      "cell_type": "code",
      "execution_count": null,
      "metadata": {
        "id": "6o1RaqlwvBGR"
      },
      "outputs": [],
      "source": [
        "data = [\n",
        "    {\"input\": \"Identify reachable IP addresses using Nmap, excluding 192.168.1.1.\", \"output\": \"nmap 192.168.1.0/24 --exclude 192.168.1.1\"},\n",
        "    {\"input\": \"Scan the local network for active services.\", \"output\": \"nmap 192.168.1.0/24\"},\n",
        "    {\"input\": \"Investigate which devices are online in the 192.168.1.0/24 subnet.\", \"output\": \"nmap 192.168.1.0/24\"},\n",
        "    {\"input\": \"Perform an Nmap scan on the IP addresses listed in targets.txt.\", \"output\": \"nmap -iL targets.txt\"},\n",
        "    {\"input\": \"Scan a random set of 100 IP addresses.\", \"output\": \"nmap -iR 100\"},\n",
        "    {\"input\": \"Probe 192.168.1.1 for open ports using Nmap’s SYN scan.\", \"output\": \"nmap 192.168.1.1 -sS\"},\n",
        "    {\"input\": \"Check for open ports on 192.168.1.0/24 network using Nmap.\", \"output\": \"nmap 192.168.1.0/24 -p 1-65535\"},\n",
        "    {\"input\": \"Perform an intense scan on 192.168.1.0/24 subnet with Nmap.\", \"output\": \"nmap -T4 -A -v 192.168.1.0/24\"},\n",
        "    {\"input\": \"Scan 192.168.1.0/24 network and output results to a file.\", \"output\": \"nmap -oN scan_results.txt 192.168.1.0/24\"},\n",
        "    {\"input\": \"Identify live hosts on the local network using Nmap.\", \"output\": \"nmap -sn 192.168.1.0/24\"},\n",
        "    {\"input\": \"Perform a stealth scan on 192.168.1.0/24 subnet with Nmap.\", \"output\": \"nmap -sS 192.168.1.0/24\"},\n",
        "    {\"input\": \"Scan 192.168.1.0/24 network and only show open ports.\", \"output\": \"nmap --open 192.168.1.0/24\"},\n",
        "    {\"input\": \"Check for vulnerable services on 192.168.1.0/24 subnet using Nmap.\", \"output\": \"nmap --script vuln 192.168.1.0/24\"},\n",
        "    {\"input\": \"Probe 192.168.1.0/24 for services with Nmap's version detection.\", \"output\": \"nmap -sV 192.168.1.0/24\"},\n",
        "    {\"input\": \"Scan 192.168.1.0/24 network and perform a UDP scan.\", \"output\": \"nmap -sU 192.168.1.0/24\"},\n",
        "    {\"input\": \"Identify OS of devices in 192.168.1.0/24 subnet using Nmap.\", \"output\": \"nmap -O 192.168.1.0/24\"},\n",
        "    {\"input\": \"Scan 192.168.1.0/24 network and perform a ping scan.\", \"output\": \"nmap -sP 192.168.1.0/24\"},\n",
        "    {\"input\": \"Perform a quick scan on 192.168.1.0/24 subnet with Nmap.\", \"output\": \"nmap -T4 -F 192.168.1.0/24\"},\n",
        "    {\"input\": \"Scan 192.168.1.0/24 network and disable DNS resolution.\", \"output\": \"nmap -n 192.168.1.0/24\"},\n",
        "    {\"input\": \"Investigate live hosts on 192.168.1.0/24 subnet with aggressive scan.\", \"output\": \"nmap -A 192.168.1.0/24\"},\n",
        "    {\"input\": \"Scan 192.168.1.0/24 network and detect firewall presence.\", \"output\": \"nmap -sA 192.168.1.0/24\"},\n",
        "    {\"input\": \"Check for SSL/TLS services on 192.168.1.0/24 subnet using Nmap.\", \"output\": \"nmap --script ssl-enum-ciphers 192.168.1.0/24\"},\n",
        "    {\"input\": \"Scan 192.168.1.0/24 network and perform a TCP connect scan.\", \"output\": \"nmap -sT 192.168.1.0/24\"},\n",
        "    {\"input\": \"Identify IP addresses in 192.168.1.0/24 subnet with Nmap.\", \"output\": \"nmap -sL 192.168.1.0/24\"},\n",
        "    {\"input\": \"Scan 192.168.1.0/24 network and output results in XML format.\", \"output\": \"nmap -oX scan_results.xml 192.168.1.0/24\"},\n",
        "    {\"input\": \"Investigate which services are running on 192.168.1.0/24 subnet using Nmap.\", \"output\": \"nmap -sV -p 1-65535 192.168.1.0/24\"},\n",
        "    {\"input\": \"Scan 192.168.1.0/24 network and perform a service version detection.\", \"output\": \"nmap -sV 192.168.1.0/24\"},\n",
        "    {\"input\": \"Identify devices in 192.168.1.0/24 subnet with Nmap and display verbose output.\", \"output\": \"nmap -v 192.168.1.0/24\"},\n",
        "    {\"input\": \"Scan 192.168.1.0/24 network and perform a full port scan.\", \"output\": \"nmap -p- 192.168.1.0/24\"},\n",
        "    {\"input\": \"Investigate which IP addresses are up in the 192.168.1.0/24 subnet using Nmap.\", \"output\": \"nmap -sP 192.168.1.0/24\"},\n",
        "    {\"input\": \"Scan 192.168.1.0/24 network and detect HTTP services.\", \"output\": \"nmap --script http-enum 192.168.1.0/24\"},\n",
        "    {\"input\": \"Check for SSH services on 192.168.1.0/24 subnet using Nmap.\", \"output\": \"nmap -p 22 192.168.1.0/24\"},\n",
        "    {\"input\": \"Probe 192.168.1.0/24 for open ports using Nmap with TCP SYN scan.\", \"output\": \"nmap -sS 192.168.1.0/24\"},\n",
        "    {\"input\": \"Scan 192.168.1.0/24 network and perform a stealthy scan with Nmap.\", \"output\": \"nmap -sS -T4 -A -v 192.168.1.0/24\"},\n",
        "    {\"input\": \"Investigate which devices are live in the 192.168.1.0/24 subnet using Nmap.\", \"output\": \"nmap -sn 192.168.1.0/24\"},\n",
        "    {\"input\": \"Scan 192.168.1.0/24 network and perform a UDP scan with Nmap.\", \"output\": \"nmap -sU 192.168.1.0/24\"},\n",
        "    {\"input\": \"Check for vulnerable services in the 192.168.1.0/24 subnet using Nmap.\", \"output\": \"nmap --script vuln 192.168.1.0/24\"},\n",
        "    {\"input\": \"Probe 192.168.1.0/24 for services with Nmap's version detection.\", \"output\": \"nmap -sV 192.168.1.0/24\"},\n",
        "    {\"input\": \"Scan 192.168.1.0/24 network and perform a ping scan using Nmap.\", \"output\": \"nmap -sP 192.168.1.0/24\"},\n",
        "    {\"input\": \"Identify OS of devices in 192.168.1.0/24 subnet with Nmap.\", \"output\": \"nmap -O 192.168.1.0/24\"},\n",
        "    {\"input\": \"Scan 192.168.1.0/24 network and perform a quick scan with Nmap.\", \"output\": \"nmap -T4 -F 192.168.1.0/24\"},\n",
        "    {\"input\": \"Check for open ports on 192.168.1.0/24 network using Nmap.\", \"output\": \"nmap -p 1-65535 192.168.1.0/24\"},\n",
        "    {\"input\": \"Investigate live hosts on the 192.168.1.0/24 subnet with Nmap.\", \"output\": \"nmap -A 192.168.1.0/24\"},\n",
        "    {\"input\": \"Scan 192.168.1.0/24 network and detect firewall presence with Nmap.\", \"output\": \"nmap -sA 192.168.1.0/24\"},\n",
        "    {\"input\": \"Identify SSL/TLS services on 192.168.1.0/24 subnet using Nmap.\", \"output\": \"nmap --script ssl-enum-ciphers 192.168.1.0/24\"},\n",
        "    {\"input\": \"Scan 192.168.1.0/24 network and perform a TCP connect scan.\", \"output\": \"nmap -sT 192.168.1.0/24\"},\n",
        "    {\"input\": \"Identify IP addresses in 192.168.1.0/24 subnet with Nmap.\", \"output\": \"nmap -sL 192.168.1.0/24\"},\n",
        "    {\"input\": \"Scan 192.168.1.0/24 network and output results in XML format.\", \"output\": \"nmap -oX scan_results.xml 192.168.1.0/24\"},\n",
        "    {\"input\": \"Investigate which services are running on 192.168.1.0/24 subnet using Nmap.\", \"output\": \"nmap -sV -p 1-65535 192.168.1.0/24\"},\n",
        "    {\"input\": \"Scan 192.168.1.0/24 network and perform a service version detection.\", \"output\": \"nmap -sV 192.168.1.0/24\"},\n",
        "    {\"input\": \"Identify devices in 192.168.1.0/24 subnet with Nmap and display verbose output.\", \"output\": \"nmap -v 192.168.1.0/24\"},\n",
        "    {\"input\": \"Scan 192.168.1.0/24 network and perform a full port scan.\", \"output\": \"nmap -p- 192.168.1.0/24\"},\n",
        "    {\"input\": \"Investigate which IP addresses are up in the 192.168.1.0/24 subnet using Nmap.\", \"output\": \"nmap -sP 192.168.1.0/24\"},\n",
        "    {\"input\": \"Scan 192.168.1.0/24 network and detect HTTP services.\", \"output\": \"nmap --script http-enum 192.168.1.0/24\"},\n",
        "    {\"input\": \"Check for SSH services on 192.168.1.0/24 subnet using Nmap.\", \"output\": \"nmap -p 22 192.168.1.0/24\"},\n",
        "    {\"input\": \"Probe 192.168.1.0/24 for open ports using Nmap with TCP SYN scan.\", \"output\": \"nmap -sS 192.168.1.0/24\"},\n",
        "    {\"input\": \"Scan 192.168.1.0/24 network and perform a stealthy scan with Nmap.\", \"output\": \"nmap -sS -T4 -A -v 192.168.1.0/24\"},\n",
        "    {\"input\": \"Investigate which devices are live in the 192.168.1.0/24 subnet using Nmap.\", \"output\": \"nmap -sn 192.168.1.0/24\"},\n",
        "    {\"input\": \"Scan 192.168.1.0/24 network and perform a UDP scan with Nmap.\", \"output\": \"nmap -sU 192.168.1.0/24\"},\n",
        "    {\"input\": \"Check for vulnerable services in the 192.168.1.0/24 subnet using Nmap.\", \"output\": \"nmap --script vuln 192.168.1.0/24\"},\n",
        "    {\"input\": \"Probe 192.168.1.0/24 for services with Nmap's version detection.\", \"output\": \"nmap -sV 192.168.1.0/24\"},\n",
        "    {\"input\": \"Scan 192.168.1.0/24 network and perform a ping scan using Nmap.\", \"output\": \"nmap -sP 192.168.1.0/24\"},\n",
        "    {\"input\": \"Identify OS of devices in 192.168.1.0/24 subnet with Nmap.\", \"output\": \"nmap -O 192.168.1.0/24\"},\n",
        "    {\"input\": \"Scan 192.168.1.0/24 network and perform a quick scan with Nmap.\", \"output\": \"nmap -T4 -F 192.168.1.0/24\"},\n",
        "    {\"input\": \"Check for open ports on 192.168.1.0/24 network using Nmap.\", \"output\": \"nmap -p 1-65535 192.168.1.0/24\"},\n",
        "    {\"input\": \"Investigate live hosts on the 192.168.1.0/24 subnet with Nmap.\", \"output\": \"nmap -A 192.168.1.0/24\"},\n",
        "    {\"input\": \"Scan 192.168.1.0/24 network and detect firewall presence with Nmap.\", \"output\": \"nmap -sA 192.168.1.0/24\"},\n",
        "    {\"input\": \"Identify SSL/TLS services on 192.168.1.0/24 subnet using Nmap.\", \"output\": \"nmap --script ssl-\"}\n",
        "]"
      ]
    },
    {
      "cell_type": "code",
      "execution_count": null,
      "metadata": {
        "id": "kXaQkB2bvIAo"
      },
      "outputs": [],
      "source": [
        "df= pd.DataFrame(data)\n",
        "print(df.head())"
      ]
    },
    {
      "cell_type": "code",
      "execution_count": null,
      "metadata": {
        "id": "VVvXmGP5whqv"
      },
      "outputs": [],
      "source": [
        "train_df_data , val_df_data = train_test_split(df  , test_size = 0.2)\n",
        "\n",
        "train_data  = Dataset.from_pandas(train_df_data)\n",
        "\n",
        "validation_data = Dataset.from_pandas(val_df_data)\n",
        "\n",
        "print(train_data)"
      ]
    },
    {
      "cell_type": "code",
      "execution_count": null,
      "metadata": {
        "id": "PlKuY21lxLr_"
      },
      "outputs": [],
      "source": [
        "from transformers import T5Tokenizer , T5ForConditionalGeneration"
      ]
    },
    {
      "cell_type": "code",
      "execution_count": null,
      "metadata": {
        "id": "3OyZr58nxDE_"
      },
      "outputs": [],
      "source": [
        "tokenizer = T5Tokenizer.from_pretrained('t5-small')\n",
        "\n",
        "model = T5ForConditionalGeneration.from_pretrained('t5-small')\n"
      ]
    },
    {
      "cell_type": "code",
      "execution_count": null,
      "metadata": {
        "id": "SVVt6YdA0Gey"
      },
      "outputs": [],
      "source": [
        "def preprocess(datas):\n",
        "\n",
        "  inp = [x for x in datas['input']]\n",
        "\n",
        "  out = [x for x in datas['output']]\n",
        "\n",
        "\n",
        "  model_inp = tokenizer(inp , max_length=128 ,truncation=True , padding='max_length')\n",
        "\n",
        "  with tokenizer.as_target_tokenizer():\n",
        "\n",
        "    labels = tokenizer(out ,  max_length=128 ,truncation=True , padding='max_length')\n",
        "\n",
        "  model_inp[\"labels\"] = labels[\"input_ids\"]\n",
        "\n",
        "  # print(labels[\"input_ids\"])\n",
        "\n",
        "  final_data_for_train = model_inp\n",
        "\n",
        "  return final_data_for_train\n",
        "  # print(final_data_for_train)"
      ]
    },
    {
      "cell_type": "code",
      "execution_count": null,
      "metadata": {
        "id": "l-aS_BedU9SC"
      },
      "outputs": [],
      "source": [
        "token_train_data = train_data.map(preprocess , batched=True)\n",
        "\n",
        "token_val_data = validation_data.map(preprocess , batched=True)\n",
        "\n",
        "print(token_train_data)\n",
        "\n",
        "print(token_val_data)\n",
        "\n",
        "for i in token_train_data:\n",
        "\n",
        "  print(i['labels'] , i['input_ids'])\n",
        "\n",
        "print()\n",
        "\n",
        "for i in token_val_data:\n",
        "\n",
        "  print(i['labels'] , i['input_ids'])"
      ]
    },
    {
      "cell_type": "code",
      "execution_count": null,
      "metadata": {
        "id": "ro4Luso87KsQ"
      },
      "outputs": [],
      "source": []
    },
    {
      "cell_type": "code",
      "execution_count": null,
      "metadata": {
        "id": "HVuNdSAg69GA"
      },
      "outputs": [],
      "source": [
        "!pip install accelerate -U\n"
      ]
    },
    {
      "cell_type": "code",
      "execution_count": null,
      "metadata": {
        "collapsed": true,
        "id": "wxDnVEVyeT2y"
      },
      "outputs": [],
      "source": [
        "\n",
        "# import\n",
        "from transformers import TrainingArguments , Trainer\n",
        "\n",
        "\n",
        "training_args = TrainingArguments(\n",
        "    output_dir='./results',\n",
        "    num_train_epochs=50,\n",
        "    per_device_train_batch_size=4,\n",
        "    per_device_eval_batch_size=4,\n",
        "    warmup_steps=500,\n",
        "    weight_decay=0.01,\n",
        "    logging_dir='./logs',\n",
        "    logging_steps=10,\n",
        "    evaluation_strategy=\"epoch\",\n",
        ")\n"
      ]
    },
    {
      "cell_type": "code",
      "execution_count": null,
      "metadata": {
        "id": "---ixs7fwuQ-"
      },
      "outputs": [],
      "source": [
        "trainer = Trainer(\n",
        "    model = model,\n",
        "    args = training_args,\n",
        "    train_dataset = token_train_data,\n",
        "    eval_dataset = token_val_data\n",
        ")"
      ]
    },
    {
      "cell_type": "code",
      "execution_count": null,
      "metadata": {
        "id": "o8lUT5tTfNlI"
      },
      "outputs": [],
      "source": [
        "trainer.train()\n",
        "model.save_pretrained(\"./t5_nmap_model\")\n",
        "tokenizer.save_pretrained(\"./t5_nmap_tokenizer\")"
      ]
    },
    {
      "cell_type": "code",
      "execution_count": null,
      "metadata": {
        "id": "QcKU37n7Wn4X"
      },
      "outputs": [],
      "source": [
        "def generate_command(input_query):\n",
        "    inputs = tokenizer.encode(input_query, return_tensors=\"pt\")\n",
        "    outputs = model.generate(inputs, max_length=128, num_beams=4, early_stopping=True)\n",
        "    predicted_command = tokenizer.decode(outputs[0], skip_special_tokens=True)\n",
        "    return predicted_command\n",
        "\n",
        "input_query = \"Identify reachable IP addresses using Nmap, excluding 192.168.1.1.\"\n",
        "predicted_command = generate_command(input_query)\n",
        "\n",
        "print(f\"Input Query: {input_query}\")\n",
        "print(f\"Predicted Command: {predicted_command}\")"
      ]
    },
    {
      "cell_type": "code",
      "execution_count": null,
      "metadata": {
        "id": "ZFRVUKu1f7Zi"
      },
      "outputs": [],
      "source": [
        "# !pip install transformers datasets\n",
        "# import pandas as pd\n",
        "# from datasets import Dataset\n",
        "# from sklearn.model_selection import train_test_split\n",
        "# from transformers import T5Tokenizer, T5ForConditionalGeneration, Trainer, TrainingArguments\n",
        "# data = [\n",
        "#     {\"input\": \"Identify reachable IP addresses using Nmap, excluding 192.168.1.1.\", \"output\": \"nmap 192.168.1.0/24 --exclude 192.168.1.1\"},\n",
        "#     {\"input\": \"Scan the local network for active services.\", \"output\": \"nmap 192.168.1.0/24\"},\n",
        "#     {\"input\": \"Investigate which devices are online in the 192.168.1.0/24 subnet.\", \"output\": \"nmap 192.168.1.0/24\"},\n",
        "#     {\"input\": \"Perform an Nmap scan on the IP addresses listed in targets.txt.\", \"output\": \"nmap -iL targets.txt\"},\n",
        "#     {\"input\": \"Scan a random set of 100 IP addresses.\", \"output\": \"nmap -iR 100\"},\n",
        "#     {\"input\": \"Probe 192.168.1.1 for open ports using Nmap’s SYN scan.\", \"output\": \"nmap 192.168.1.1 -sS\"},\n",
        "#     {\"input\": \"Check for open ports on 192.168.1.0/24 network using Nmap.\", \"output\": \"nmap 192.168.1.0/24 -p 1-65535\"},\n",
        "#     {\"input\": \"Perform an intense scan on 192.168.1.0/24 subnet with Nmap.\", \"output\": \"nmap -T4 -A -v 192.168.1.0/24\"},\n",
        "#     {\"input\": \"Scan 192.168.1.0/24 network and output results to a file.\", \"output\": \"nmap -oN scan_results.txt 192.168.1.0/24\"},\n",
        "#     {\"input\": \"Identify live hosts on the local network using Nmap.\", \"output\": \"nmap -sn 192.168.1.0/24\"},\n",
        "#     {\"input\": \"Perform a stealth scan on 192.168.1.0/24 subnet with Nmap.\", \"output\": \"nmap -sS 192.168.1.0/24\"},\n",
        "#     {\"input\": \"Scan 192.168.1.0/24 network and only show open ports.\", \"output\": \"nmap --open 192.168.1.0/24\"},\n",
        "#     {\"input\": \"Check for vulnerable services on 192.168.1.0/24 subnet using Nmap.\", \"output\": \"nmap --script vuln 192.168.1.0/24\"},\n",
        "#     {\"input\": \"Probe 192.168.1.0/24 for services with Nmap's version detection.\", \"output\": \"nmap -sV 192.168.1.0/24\"},\n",
        "#     {\"input\": \"Scan 192.168.1.0/24 network and perform a UDP scan.\", \"output\": \"nmap -sU 192.168.1.0/24\"},\n",
        "#     {\"input\": \"Identify OS of devices in 192.168.1.0/24 subnet using Nmap.\", \"output\": \"nmap -O 192.168.1.0/24\"},\n",
        "#     {\"input\": \"Scan 192.168.1.0/24 network and perform a ping scan.\", \"output\": \"nmap -sP 192.168.1.0/24\"},\n",
        "#     {\"input\": \"Perform a quick scan on 192.168.1.0/24 subnet with Nmap.\", \"output\": \"nmap -T4 -F 192.168.1.0/24\"},\n",
        "#     {\"input\": \"Scan 192.168.1.0/24 network and disable DNS resolution.\", \"output\": \"nmap -n 192.168.1.0/24\"},\n",
        "#     {\"input\": \"Investigate live hosts on 192.168.1.0/24 subnet with aggressive scan.\", \"output\": \"nmap -A 192.168.1.0/24\"},\n",
        "#     {\"input\": \"Scan 192.168.1.0/24 network and detect firewall presence.\", \"output\": \"nmap -sA 192.168.1.0/24\"},\n",
        "#     {\"input\": \"Check for SSL/TLS services on 192.168.1.0/24 subnet using Nmap.\", \"output\": \"nmap --script ssl-enum-ciphers 192.168.1.0/24\"},\n",
        "#     {\"input\": \"Scan 192.168.1.0/24 network and perform a TCP connect scan.\", \"output\": \"nmap -sT 192.168.1.0/24\"},\n",
        "#     {\"input\": \"Identify IP addresses in 192.168.1.0/24 subnet with Nmap.\", \"output\": \"nmap -sL 192.168.1.0/24\"},\n",
        "#     {\"input\": \"Scan 192.168.1.0/24 network and output results in XML format.\", \"output\": \"nmap -oX scan_results.xml 192.168.1.0/24\"},\n",
        "#     {\"input\": \"Investigate which services are running on 192.168.1.0/24 subnet using Nmap.\", \"output\": \"nmap -sV -p 1-65535 192.168.1.0/24\"},\n",
        "#     {\"input\": \"Scan 192.168.1.0/24 network and perform a service version detection.\", \"output\": \"nmap -sV 192.168.1.0/24\"},\n",
        "#     {\"input\": \"Identify devices in 192.168.1.0/24 subnet with Nmap and display verbose output.\", \"output\": \"nmap -v 192.168.1.0/24\"},\n",
        "#     {\"input\": \"Scan 192.168.1.0/24 network and perform a full port scan.\", \"output\": \"nmap -p- 192.168.1.0/24\"},\n",
        "#     {\"input\": \"Investigate which IP addresses are up in the 192.168.1.0/24 subnet using Nmap.\", \"output\": \"nmap -sP 192.168.1.0/24\"},\n",
        "#     {\"input\": \"Scan 192.168.1.0/24 network and detect HTTP services.\", \"output\": \"nmap --script http-enum 192.168.1.0/24\"},\n",
        "#     {\"input\": \"Check for SSH services on 192.168.1.0/24 subnet using Nmap.\", \"output\": \"nmap -p 22 192.168.1.0/24\"},\n",
        "#     {\"input\": \"Probe 192.168.1.0/24 for open ports using Nmap with TCP SYN scan.\", \"output\": \"nmap -sS 192.168.1.0/24\"},\n",
        "#     {\"input\": \"Scan 192.168.1.0/24 network and perform a stealthy scan with Nmap.\", \"output\": \"nmap -sS -T4 -A -v 192.168.1.0/24\"},\n",
        "#     {\"input\": \"Investigate which devices are live in the 192.168.1.0/24 subnet using Nmap.\", \"output\": \"nmap -sn 192.168.1.0/24\"},\n",
        "#     {\"input\": \"Scan 192.168.1.0/24 network and perform a UDP scan with Nmap.\", \"output\": \"nmap -sU 192.168.1.0/24\"},\n",
        "#     {\"input\": \"Check for vulnerable services in the 192.168.1.0/24 subnet using Nmap.\", \"output\": \"nmap --script vuln 192.168.1.0/24\"},\n",
        "#     {\"input\": \"Probe 192.168.1.0/24 for services with Nmap's version detection.\", \"output\": \"nmap -sV 192.168.1.0/24\"},\n",
        "#     {\"input\": \"Scan 192.168.1.0/24 network and perform a ping scan using Nmap.\", \"output\": \"nmap -sP 192.168.1.0/24\"},\n",
        "#     {\"input\": \"Identify OS of devices in 192.168.1.0/24 subnet with Nmap.\", \"output\": \"nmap -O 192.168.1.0/24\"},\n",
        "#     {\"input\": \"Scan 192.168.1.0/24 network and perform a quick scan with Nmap.\", \"output\": \"nmap -T4 -F 192.168.1.0/24\"},\n",
        "#     {\"input\": \"Check for open ports on 192.168.1.0/24 network using Nmap.\", \"output\": \"nmap -p 1-65535 192.168.1.0/24\"},\n",
        "#     {\"input\": \"Investigate live hosts on the 192.168.1.0/24 subnet with Nmap.\", \"output\": \"nmap -A 192.168.1.0/24\"},\n",
        "#     {\"input\": \"Scan 192.168.1.0/24 network and detect firewall presence with Nmap.\", \"output\": \"nmap -sA 192.168.1.0/24\"},\n",
        "#     {\"input\": \"Identify SSL/TLS services on 192.168.1.0/24 subnet using Nmap.\", \"output\": \"nmap --script ssl-enum-ciphers 192.168.1.0/24\"},\n",
        "#     {\"input\": \"Scan 192.168.1.0/24 network and perform a TCP connect scan.\", \"output\": \"nmap -sT 192.168.1.0/24\"},\n",
        "#     {\"input\": \"Identify IP addresses in 192.168.1.0/24 subnet with Nmap.\", \"output\": \"nmap -sL 192.168.1.0/24\"},\n",
        "#     {\"input\": \"Scan 192.168.1.0/24 network and output results in XML format.\", \"output\": \"nmap -oX scan_results.xml 192.168.1.0/24\"},\n",
        "#     {\"input\": \"Investigate which services are running on 192.168.1.0/24 subnet using Nmap.\", \"output\": \"nmap -sV -p 1-65535 192.168.1.0/24\"},\n",
        "#     {\"input\": \"Scan 192.168.1.0/24 network and perform a service version detection.\", \"output\": \"nmap -sV 192.168.1.0/24\"},\n",
        "#     {\"input\": \"Identify devices in 192.168.1.0/24 subnet with Nmap and display verbose output.\", \"output\": \"nmap -v 192.168.1.0/24\"},\n",
        "#     {\"input\": \"Scan 192.168.1.0/24 network and perform a full port scan.\", \"output\": \"nmap -p- 192.168.1.0/24\"},\n",
        "#     {\"input\": \"Investigate which IP addresses are up in the 192.168.1.0/24 subnet using Nmap.\", \"output\": \"nmap -sP 192.168.1.0/24\"},\n",
        "#     {\"input\": \"Scan 192.168.1.0/24 network and detect HTTP services.\", \"output\": \"nmap --script http-enum 192.168.1.0/24\"},\n",
        "#     {\"input\": \"Check for SSH services on 192.168.1.0/24 subnet using Nmap.\", \"output\": \"nmap -p 22 192.168.1.0/24\"},\n",
        "#     {\"input\": \"Probe 192.168.1.0/24 for open ports using Nmap with TCP SYN scan.\", \"output\": \"nmap -sS 192.168.1.0/24\"},\n",
        "#     {\"input\": \"Scan 192.168.1.0/24 network and perform a stealthy scan with Nmap.\", \"output\": \"nmap -sS -T4 -A -v 192.168.1.0/24\"},\n",
        "#     {\"input\": \"Investigate which devices are live in the 192.168.1.0/24 subnet using Nmap.\", \"output\": \"nmap -sn 192.168.1.0/24\"},\n",
        "#     {\"input\": \"Scan 192.168.1.0/24 network and perform a UDP scan with Nmap.\", \"output\": \"nmap -sU 192.168.1.0/24\"},\n",
        "#     {\"input\": \"Check for vulnerable services in the 192.168.1.0/24 subnet using Nmap.\", \"output\": \"nmap --script vuln 192.168.1.0/24\"},\n",
        "#     {\"input\": \"Probe 192.168.1.0/24 for services with Nmap's version detection.\", \"output\": \"nmap -sV 192.168.1.0/24\"},\n",
        "#     {\"input\": \"Scan 192.168.1.0/24 network and perform a ping scan using Nmap.\", \"output\": \"nmap -sP 192.168.1.0/24\"},\n",
        "#     {\"input\": \"Identify OS of devices in 192.168.1.0/24 subnet with Nmap.\", \"output\": \"nmap -O 192.168.1.0/24\"},\n",
        "#     {\"input\": \"Scan 192.168.1.0/24 network and perform a quick scan with Nmap.\", \"output\": \"nmap -T4 -F 192.168.1.0/24\"},\n",
        "#     {\"input\": \"Check for open ports on 192.168.1.0/24 network using Nmap.\", \"output\": \"nmap -p 1-65535 192.168.1.0/24\"},\n",
        "#     {\"input\": \"Investigate live hosts on the 192.168.1.0/24 subnet with Nmap.\", \"output\": \"nmap -A 192.168.1.0/24\"},\n",
        "#     {\"input\": \"Scan 192.168.1.0/24 network and detect firewall presence with Nmap.\", \"output\": \"nmap -sA 192.168.1.0/24\"},\n",
        "#     {\"input\": \"Identify SSL/TLS services on 192.168.1.0/24 subnet using Nmap.\", \"output\": \"nmap --script ssl-\"}\n",
        "# ]\n",
        "\n",
        "# # Convert the data to DataFrame\n",
        "# df = pd.DataFrame(data)\n",
        "# train_df, val_df = train_test_split(df, test_size=0.2)\n",
        "# train_dataset = Dataset.from_pandas(train_df)\n",
        "# val_dataset = Dataset.from_pandas(val_df)\n",
        "# tokenizer = T5Tokenizer.from_pretrained('t5-small')\n",
        "# model = T5ForConditionalGeneration.from_pretrained('t5-small')\n",
        "# def preprocess_function(examples):\n",
        "#     inputs = [ex for ex in examples['input']]\n",
        "#     targets = [ex for ex in examples['output']]\n",
        "#     model_inputs = tokenizer(inputs, max_length=128, truncation=True, padding='max_length')\n",
        "\n",
        "#     # Setup the tokenizer for targets\n",
        "#     with tokenizer.as_target_tokenizer():\n",
        "#         labels = tokenizer(targets, max_length=128, truncation=True, padding='max_length')\n",
        "\n",
        "#     model_inputs[\"labels\"] = labels[\"input_ids\"]\n",
        "#     return model_inputs\n",
        "\n",
        "# tokenized_train_dataset = train_dataset.map(preprocess_function, batched=True)\n",
        "# tokenized_val_dataset = val_dataset.map(preprocess_function, batched=True)\n",
        "# training_args = TrainingArguments(\n",
        "#     output_dir='./results',\n",
        "#     num_train_epochs=30,\n",
        "#     per_device_train_batch_size=4,\n",
        "#     per_device_eval_batch_size=4,\n",
        "#     warmup_steps=500,\n",
        "#     weight_decay=0.01,\n",
        "#     logging_dir='./logs',\n",
        "#     logging_steps=10,\n",
        "#     evaluation_strategy=\"epoch\",\n",
        "# )\n",
        "# trainer = Trainer(\n",
        "#     model=model,\n",
        "#     args=training_args,\n",
        "#     train_dataset=tokenized_train_dataset,\n",
        "#     eval_dataset=tokenized_val_dataset,\n",
        "# )\n",
        "# trainer = Trainer(\n",
        "#     model=model,\n",
        "#     args=training_args,\n",
        "#     train_dataset=tokenized_train_dataset,\n",
        "#     eval_dataset=tokenized_val_dataset,\n",
        "# )\n",
        "# trainer.train()\n",
        "# model.save_pretrained('./t5_command_model')\n",
        "# tokenizer.save_pretrained('./t5_command_model')\n",
        "# def generate_command(input_query):\n",
        "#     inputs = tokenizer.encode(input_query, return_tensors=\"pt\")\n",
        "#     outputs = model.generate(inputs, max_length=128, num_beams=4, early_stopping=True)\n",
        "#     predicted_command = tokenizer.decode(outputs[0], skip_special_tokens=True)\n",
        "#     return predicted_command\n",
        "\n",
        "# # Sample prediction\n",
        "# input_query = \"Identify reachable IP addresses using Nmap, excluding 192.168.1.1.\"\n",
        "# predicted_command = generate_command(input_query)\n",
        "\n",
        "# print(f\"Input Query: {input_query}\")\n",
        "# print(f\"Predicted Command: {predicted_command}\")\n"
      ]
    },
    {
      "cell_type": "code",
      "execution_count": null,
      "metadata": {
        "id": "A5coJRSZaA9X"
      },
      "outputs": [],
      "source": [
        "# import pandas as pd\n",
        "# from datasets import Dataset\n",
        "# from sklearn.model_selection import train_test_split\n",
        "# from transformers import BartTokenizer, BartForConditionalGeneration, Trainer, TrainingArguments\n",
        "\n",
        "# # Define your data\n",
        "# data = [\n",
        "#     {\"input\": \"Identify reachable IP addresses using Nmap, excluding 192.168.1.1.\", \"output\": \"nmap 192.168.1.0/24 --exclude 192.168.1.1\"},\n",
        "#     {\"input\": \"Scan the local network for active services.\", \"output\": \"nmap 192.168.1.0/24\"},\n",
        "#     {\"input\": \"Investigate which devices are online in the 192.168.1.0/24 subnet.\", \"output\": \"nmap 192.168.1.0/24\"},\n",
        "#     # Add more examples...\n",
        "# ]\n",
        "\n",
        "# # Convert the data to DataFrame\n",
        "# df = pd.DataFrame(data)\n",
        "\n",
        "# # Split the data into training and validation sets\n",
        "# train_df, val_df = train_test_split(df, test_size=0.2)\n",
        "\n",
        "# # Convert the data to Huggingface Dataset\n",
        "# train_dataset = Dataset.from_pandas(train_df)\n",
        "# val_dataset = Dataset.from_pandas(val_df)\n",
        "\n",
        "# # Load tokenizer and model\n",
        "# tokenizer = BartTokenizer.from_pretrained('facebook/bart-base')\n",
        "# model = BartForConditionalGeneration.from_pretrained('facebook/bart-base')\n",
        "\n",
        "# # Preprocess function\n",
        "# def preprocess_function(examples):\n",
        "#     inputs = examples['input']\n",
        "#     targets = examples['output']\n",
        "#     model_inputs = tokenizer(inputs, max_length=128, truncation=True, padding='max_length')\n",
        "\n",
        "#     # Setup the tokenizer for targets\n",
        "#     with tokenizer.as_target_tokenizer():\n",
        "#         labels = tokenizer(targets, max_length=128, truncation=True, padding='max_length')\n",
        "\n",
        "#     model_inputs[\"labels\"] = labels[\"input_ids\"]\n",
        "#     return model_inputs\n",
        "\n",
        "# # Tokenize the datasets\n",
        "# tokenized_train_dataset = train_dataset.map(preprocess_function, batched=True)\n",
        "# tokenized_val_dataset = val_dataset.map(preprocess_function, batched=True)\n",
        "\n",
        "# # Define training arguments\n",
        "# training_args = TrainingArguments(\n",
        "#     output_dir='./results',\n",
        "#     num_train_epochs=3,\n",
        "#     per_device_train_batch_size=4,\n",
        "#     per_device_eval_batch_size=4,\n",
        "#     warmup_steps=500,\n",
        "#     weight_decay=0.01,\n",
        "#     logging_dir='./logs',\n",
        "#     logging_steps=10,\n",
        "#     evaluation_strategy=\"epoch\",\n",
        "# )\n",
        "\n",
        "# # Initialize the Trainer\n",
        "# trainer = Trainer(\n",
        "#     model=model,\n",
        "#     args=training_args,\n",
        "#     train_dataset=tokenized_train_dataset,\n",
        "#     eval_dataset=tokenized_val_dataset,\n",
        "# )\n",
        "\n",
        "# # Train the model\n",
        "# trainer.train()\n",
        "\n",
        "# # Save the model and tokenizer\n",
        "# model.save_pretrained('./bart_command_model')\n",
        "# tokenizer.save_pretrained('./bart_command_model')\n",
        "\n",
        "# # Function to generate commands\n",
        "# def generate_command(input_query):\n",
        "#     inputs = tokenizer.encode(input_query, return_tensors=\"pt\")\n",
        "#     outputs = model.generate(inputs, max_length=128, num_beams=4, early_stopping=True)\n",
        "#     predicted_command = tokenizer.decode(outputs[0], skip_special_tokens=True)\n",
        "#     return predicted_command\n",
        "\n",
        "# # Sample prediction\n",
        "# input_query = \"Identify reachable IP addresses using Nmap, excluding 192.168.1.1.\"\n",
        "# predicted_command = generate_command(input_query)\n",
        "\n",
        "# print(f\"Input Query: {input_query}\")\n",
        "# print(f\"Predicted Command: {predicted_command}\")\n"
      ]
    }
  ],
  "metadata": {
    "accelerator": "GPU",
    "colab": {
      "gpuType": "T4",
      "provenance": []
    },
    "kernelspec": {
      "display_name": "Python 3",
      "name": "python3"
    },
    "language_info": {
      "name": "python"
    }
  },
  "nbformat": 4,
  "nbformat_minor": 0
}