{
  "cells": [
    {
      "cell_type": "code",
      "execution_count": null,
      "metadata": {
        "colab": {
          "base_uri": "https://localhost:8080/"
        },
        "id": "Q0k3xgZD83Q7",
        "outputId": "78984511-0fc6-4640-d7ef-76e0a2aa5ed3"
      },
      "outputs": [
        {
          "name": "stdout",
          "output_type": "stream",
          "text": [
            "Collecting datasets\n",
            "  Downloading datasets-2.20.0-py3-none-any.whl (547 kB)\n",
            "\u001b[2K     \u001b[90m━━━━━━━━━━━━━━━━━━━━━━━━━━━━━━━━━━━━━━━━\u001b[0m \u001b[32m547.8/547.8 kB\u001b[0m \u001b[31m5.0 MB/s\u001b[0m eta \u001b[36m0:00:00\u001b[0m\n",
            "\u001b[?25hRequirement already satisfied: filelock in /usr/local/lib/python3.10/dist-packages (from datasets) (3.15.4)\n",
            "Requirement already satisfied: numpy>=1.17 in /usr/local/lib/python3.10/dist-packages (from datasets) (1.25.2)\n",
            "Collecting pyarrow>=15.0.0 (from datasets)\n",
            "  Downloading pyarrow-17.0.0-cp310-cp310-manylinux_2_28_x86_64.whl (39.9 MB)\n",
            "\u001b[2K     \u001b[90m━━━━━━━━━━━━━━━━━━━━━━━━━━━━━━━━━━━━━━━━\u001b[0m \u001b[32m39.9/39.9 MB\u001b[0m \u001b[31m10.5 MB/s\u001b[0m eta \u001b[36m0:00:00\u001b[0m\n",
            "\u001b[?25hRequirement already satisfied: pyarrow-hotfix in /usr/local/lib/python3.10/dist-packages (from datasets) (0.6)\n",
            "Collecting dill<0.3.9,>=0.3.0 (from datasets)\n",
            "  Downloading dill-0.3.8-py3-none-any.whl (116 kB)\n",
            "\u001b[2K     \u001b[90m━━━━━━━━━━━━━━━━━━━━━━━━━━━━━━━━━━━━━━━━\u001b[0m \u001b[32m116.3/116.3 kB\u001b[0m \u001b[31m8.3 MB/s\u001b[0m eta \u001b[36m0:00:00\u001b[0m\n",
            "\u001b[?25hRequirement already satisfied: pandas in /usr/local/lib/python3.10/dist-packages (from datasets) (2.0.3)\n",
            "Collecting requests>=2.32.2 (from datasets)\n",
            "  Downloading requests-2.32.3-py3-none-any.whl (64 kB)\n",
            "\u001b[2K     \u001b[90m━━━━━━━━━━━━━━━━━━━━━━━━━━━━━━━━━━━━━━━━\u001b[0m \u001b[32m64.9/64.9 kB\u001b[0m \u001b[31m5.6 MB/s\u001b[0m eta \u001b[36m0:00:00\u001b[0m\n",
            "\u001b[?25hRequirement already satisfied: tqdm>=4.66.3 in /usr/local/lib/python3.10/dist-packages (from datasets) (4.66.4)\n",
            "Collecting xxhash (from datasets)\n",
            "  Downloading xxhash-3.4.1-cp310-cp310-manylinux_2_17_x86_64.manylinux2014_x86_64.whl (194 kB)\n",
            "\u001b[2K     \u001b[90m━━━━━━━━━━━━━━━━━━━━━━━━━━━━━━━━━━━━━━━━\u001b[0m \u001b[32m194.1/194.1 kB\u001b[0m \u001b[31m8.5 MB/s\u001b[0m eta \u001b[36m0:00:00\u001b[0m\n",
            "\u001b[?25hCollecting multiprocess (from datasets)\n",
            "  Downloading multiprocess-0.70.16-py310-none-any.whl (134 kB)\n",
            "\u001b[2K     \u001b[90m━━━━━━━━━━━━━━━━━━━━━━━━━━━━━━━━━━━━━━━━\u001b[0m \u001b[32m134.8/134.8 kB\u001b[0m \u001b[31m12.2 MB/s\u001b[0m eta \u001b[36m0:00:00\u001b[0m\n",
            "\u001b[?25hRequirement already satisfied: fsspec[http]<=2024.5.0,>=2023.1.0 in /usr/local/lib/python3.10/dist-packages (from datasets) (2023.6.0)\n",
            "Requirement already satisfied: aiohttp in /usr/local/lib/python3.10/dist-packages (from datasets) (3.9.5)\n",
            "Requirement already satisfied: huggingface-hub>=0.21.2 in /usr/local/lib/python3.10/dist-packages (from datasets) (0.23.5)\n",
            "Requirement already satisfied: packaging in /usr/local/lib/python3.10/dist-packages (from datasets) (24.1)\n",
            "Requirement already satisfied: pyyaml>=5.1 in /usr/local/lib/python3.10/dist-packages (from datasets) (6.0.1)\n",
            "Requirement already satisfied: aiosignal>=1.1.2 in /usr/local/lib/python3.10/dist-packages (from aiohttp->datasets) (1.3.1)\n",
            "Requirement already satisfied: attrs>=17.3.0 in /usr/local/lib/python3.10/dist-packages (from aiohttp->datasets) (23.2.0)\n",
            "Requirement already satisfied: frozenlist>=1.1.1 in /usr/local/lib/python3.10/dist-packages (from aiohttp->datasets) (1.4.1)\n",
            "Requirement already satisfied: multidict<7.0,>=4.5 in /usr/local/lib/python3.10/dist-packages (from aiohttp->datasets) (6.0.5)\n",
            "Requirement already satisfied: yarl<2.0,>=1.0 in /usr/local/lib/python3.10/dist-packages (from aiohttp->datasets) (1.9.4)\n",
            "Requirement already satisfied: async-timeout<5.0,>=4.0 in /usr/local/lib/python3.10/dist-packages (from aiohttp->datasets) (4.0.3)\n",
            "Requirement already satisfied: typing-extensions>=3.7.4.3 in /usr/local/lib/python3.10/dist-packages (from huggingface-hub>=0.21.2->datasets) (4.12.2)\n",
            "Requirement already satisfied: charset-normalizer<4,>=2 in /usr/local/lib/python3.10/dist-packages (from requests>=2.32.2->datasets) (3.3.2)\n",
            "Requirement already satisfied: idna<4,>=2.5 in /usr/local/lib/python3.10/dist-packages (from requests>=2.32.2->datasets) (3.7)\n",
            "Requirement already satisfied: urllib3<3,>=1.21.1 in /usr/local/lib/python3.10/dist-packages (from requests>=2.32.2->datasets) (2.0.7)\n",
            "Requirement already satisfied: certifi>=2017.4.17 in /usr/local/lib/python3.10/dist-packages (from requests>=2.32.2->datasets) (2024.7.4)\n",
            "Requirement already satisfied: python-dateutil>=2.8.2 in /usr/local/lib/python3.10/dist-packages (from pandas->datasets) (2.8.2)\n",
            "Requirement already satisfied: pytz>=2020.1 in /usr/local/lib/python3.10/dist-packages (from pandas->datasets) (2023.4)\n",
            "Requirement already satisfied: tzdata>=2022.1 in /usr/local/lib/python3.10/dist-packages (from pandas->datasets) (2024.1)\n",
            "Requirement already satisfied: six>=1.5 in /usr/local/lib/python3.10/dist-packages (from python-dateutil>=2.8.2->pandas->datasets) (1.16.0)\n",
            "Installing collected packages: xxhash, requests, pyarrow, dill, multiprocess, datasets\n",
            "  Attempting uninstall: requests\n",
            "    Found existing installation: requests 2.31.0\n",
            "    Uninstalling requests-2.31.0:\n",
            "      Successfully uninstalled requests-2.31.0\n",
            "  Attempting uninstall: pyarrow\n",
            "    Found existing installation: pyarrow 14.0.2\n",
            "    Uninstalling pyarrow-14.0.2:\n",
            "      Successfully uninstalled pyarrow-14.0.2\n",
            "\u001b[31mERROR: pip's dependency resolver does not currently take into account all the packages that are installed. This behaviour is the source of the following dependency conflicts.\n",
            "cudf-cu12 24.4.1 requires pyarrow<15.0.0a0,>=14.0.1, but you have pyarrow 17.0.0 which is incompatible.\n",
            "google-colab 1.0.0 requires requests==2.31.0, but you have requests 2.32.3 which is incompatible.\n",
            "ibis-framework 8.0.0 requires pyarrow<16,>=2, but you have pyarrow 17.0.0 which is incompatible.\u001b[0m\u001b[31m\n",
            "\u001b[0mSuccessfully installed datasets-2.20.0 dill-0.3.8 multiprocess-0.70.16 pyarrow-17.0.0 requests-2.32.3 xxhash-3.4.1\n",
            "Collecting sklearn\n"
          ]
        }
      ],
      "source": [
        "\n",
        "!pip install datasets\n",
        "!pip install sklearn\n",
        "!pip install pandas"
      ]
    },
    {
      "cell_type": "code",
      "execution_count": null,
      "metadata": {
        "id": "e0NftQhm0Fry"
      },
      "outputs": [],
      "source": []
    },
    {
      "cell_type": "code",
      "execution_count": null,
      "metadata": {
        "colab": {
          "background_save": true
        },
        "id": "WLYKbRIy7F8O"
      },
      "outputs": [],
      "source": [
        "import pandas as pd\n",
        "from datasets import Dataset\n",
        "from sklearn.model_selection import train_test_split"
      ]
    },
    {
      "cell_type": "code",
      "execution_count": null,
      "metadata": {
        "colab": {
          "background_save": true
        },
        "id": "6o1RaqlwvBGR"
      },
      "outputs": [],
      "source": [
        "data = [\n",
        "    {\"input\": \"Identify reachable IP addresses using Nmap, excluding 192.168.1.1.\", \"output\": \"nmap 192.168.1.0/24 --exclude 192.168.1.1\"},\n",
        "    {\"input\": \"Scan the local network for active services.\", \"output\": \"nmap 192.168.1.0/24\"},\n",
        "    {\"input\": \"Investigate which devices are online in the 192.168.1.0/24 subnet.\", \"output\": \"nmap 192.168.1.0/24\"},\n",
        "    {\"input\": \"Perform an Nmap scan on the IP addresses listed in targets.txt.\", \"output\": \"nmap -iL targets.txt\"},\n",
        "    {\"input\": \"Scan a random set of 100 IP addresses.\", \"output\": \"nmap -iR 100\"},\n",
        "    {\"input\": \"Probe 192.168.1.1 for open ports using Nmap’s SYN scan.\", \"output\": \"nmap 192.168.1.1 -sS\"},\n",
        "    {\"input\": \"Check for open ports on 192.168.1.0/24 network using Nmap.\", \"output\": \"nmap 192.168.1.0/24 -p 1-65535\"},\n",
        "    {\"input\": \"Perform an intense scan on 192.168.1.0/24 subnet with Nmap.\", \"output\": \"nmap -T4 -A -v 192.168.1.0/24\"},\n",
        "    {\"input\": \"Scan 192.168.1.0/24 network and output results to a file.\", \"output\": \"nmap -oN scan_results.txt 192.168.1.0/24\"},\n",
        "    {\"input\": \"Identify live hosts on the local network using Nmap.\", \"output\": \"nmap -sn 192.168.1.0/24\"},\n",
        "    {\"input\": \"Perform a stealth scan on 192.168.1.0/24 subnet with Nmap.\", \"output\": \"nmap -sS 192.168.1.0/24\"},\n",
        "    {\"input\": \"Scan 192.168.1.0/24 network and only show open ports.\", \"output\": \"nmap --open 192.168.1.0/24\"},\n",
        "    {\"input\": \"Check for vulnerable services on 192.168.1.0/24 subnet using Nmap.\", \"output\": \"nmap --script vuln 192.168.1.0/24\"},\n",
        "    {\"input\": \"Probe 192.168.1.0/24 for services with Nmap's version detection.\", \"output\": \"nmap -sV 192.168.1.0/24\"},\n",
        "    {\"input\": \"Scan 192.168.1.0/24 network and perform a UDP scan.\", \"output\": \"nmap -sU 192.168.1.0/24\"},\n",
        "    {\"input\": \"Identify OS of devices in 192.168.1.0/24 subnet using Nmap.\", \"output\": \"nmap -O 192.168.1.0/24\"},\n",
        "    {\"input\": \"Scan 192.168.1.0/24 network and perform a ping scan.\", \"output\": \"nmap -sP 192.168.1.0/24\"},\n",
        "    {\"input\": \"Perform a quick scan on 192.168.1.0/24 subnet with Nmap.\", \"output\": \"nmap -T4 -F 192.168.1.0/24\"},\n",
        "    {\"input\": \"Scan 192.168.1.0/24 network and disable DNS resolution.\", \"output\": \"nmap -n 192.168.1.0/24\"},\n",
        "    {\"input\": \"Investigate live hosts on 192.168.1.0/24 subnet with aggressive scan.\", \"output\": \"nmap -A 192.168.1.0/24\"},\n",
        "    {\"input\": \"Scan 192.168.1.0/24 network and detect firewall presence.\", \"output\": \"nmap -sA 192.168.1.0/24\"},\n",
        "    {\"input\": \"Check for SSL/TLS services on 192.168.1.0/24 subnet using Nmap.\", \"output\": \"nmap --script ssl-enum-ciphers 192.168.1.0/24\"},\n",
        "    {\"input\": \"Scan 192.168.1.0/24 network and perform a TCP connect scan.\", \"output\": \"nmap -sT 192.168.1.0/24\"},\n",
        "    {\"input\": \"Identify IP addresses in 192.168.1.0/24 subnet with Nmap.\", \"output\": \"nmap -sL 192.168.1.0/24\"},\n",
        "    {\"input\": \"Scan 192.168.1.0/24 network and output results in XML format.\", \"output\": \"nmap -oX scan_results.xml 192.168.1.0/24\"},\n",
        "    {\"input\": \"Investigate which services are running on 192.168.1.0/24 subnet using Nmap.\", \"output\": \"nmap -sV -p 1-65535 192.168.1.0/24\"},\n",
        "    {\"input\": \"Scan 192.168.1.0/24 network and perform a service version detection.\", \"output\": \"nmap -sV 192.168.1.0/24\"},\n",
        "    {\"input\": \"Identify devices in 192.168.1.0/24 subnet with Nmap and display verbose output.\", \"output\": \"nmap -v 192.168.1.0/24\"},\n",
        "    {\"input\": \"Scan 192.168.1.0/24 network and perform a full port scan.\", \"output\": \"nmap -p- 192.168.1.0/24\"},\n",
        "    {\"input\": \"Investigate which IP addresses are up in the 192.168.1.0/24 subnet using Nmap.\", \"output\": \"nmap -sP 192.168.1.0/24\"},\n",
        "    {\"input\": \"Scan 192.168.1.0/24 network and detect HTTP services.\", \"output\": \"nmap --script http-enum 192.168.1.0/24\"},\n",
        "    {\"input\": \"Check for SSH services on 192.168.1.0/24 subnet using Nmap.\", \"output\": \"nmap -p 22 192.168.1.0/24\"},\n",
        "    {\"input\": \"Probe 192.168.1.0/24 for open ports using Nmap with TCP SYN scan.\", \"output\": \"nmap -sS 192.168.1.0/24\"},\n",
        "    {\"input\": \"Scan 192.168.1.0/24 network and perform a stealthy scan with Nmap.\", \"output\": \"nmap -sS -T4 -A -v 192.168.1.0/24\"},\n",
        "    {\"input\": \"Investigate which devices are live in the 192.168.1.0/24 subnet using Nmap.\", \"output\": \"nmap -sn 192.168.1.0/24\"},\n",
        "    {\"input\": \"Scan 192.168.1.0/24 network and perform a UDP scan with Nmap.\", \"output\": \"nmap -sU 192.168.1.0/24\"},\n",
        "    {\"input\": \"Check for vulnerable services in the 192.168.1.0/24 subnet using Nmap.\", \"output\": \"nmap --script vuln 192.168.1.0/24\"},\n",
        "    {\"input\": \"Probe 192.168.1.0/24 for services with Nmap's version detection.\", \"output\": \"nmap -sV 192.168.1.0/24\"},\n",
        "    {\"input\": \"Scan 192.168.1.0/24 network and perform a ping scan using Nmap.\", \"output\": \"nmap -sP 192.168.1.0/24\"},\n",
        "    {\"input\": \"Identify OS of devices in 192.168.1.0/24 subnet with Nmap.\", \"output\": \"nmap -O 192.168.1.0/24\"},\n",
        "    {\"input\": \"Scan 192.168.1.0/24 network and perform a quick scan with Nmap.\", \"output\": \"nmap -T4 -F 192.168.1.0/24\"},\n",
        "    {\"input\": \"Check for open ports on 192.168.1.0/24 network using Nmap.\", \"output\": \"nmap -p 1-65535 192.168.1.0/24\"},\n",
        "    {\"input\": \"Investigate live hosts on the 192.168.1.0/24 subnet with Nmap.\", \"output\": \"nmap -A 192.168.1.0/24\"},\n",
        "    {\"input\": \"Scan 192.168.1.0/24 network and detect firewall presence with Nmap.\", \"output\": \"nmap -sA 192.168.1.0/24\"},\n",
        "    {\"input\": \"Identify SSL/TLS services on 192.168.1.0/24 subnet using Nmap.\", \"output\": \"nmap --script ssl-enum-ciphers 192.168.1.0/24\"},\n",
        "    {\"input\": \"Scan 192.168.1.0/24 network and perform a TCP connect scan.\", \"output\": \"nmap -sT 192.168.1.0/24\"},\n",
        "    {\"input\": \"Identify IP addresses in 192.168.1.0/24 subnet with Nmap.\", \"output\": \"nmap -sL 192.168.1.0/24\"},\n",
        "    {\"input\": \"Scan 192.168.1.0/24 network and output results in XML format.\", \"output\": \"nmap -oX scan_results.xml 192.168.1.0/24\"},\n",
        "    {\"input\": \"Investigate which services are running on 192.168.1.0/24 subnet using Nmap.\", \"output\": \"nmap -sV -p 1-65535 192.168.1.0/24\"},\n",
        "    {\"input\": \"Scan 192.168.1.0/24 network and perform a service version detection.\", \"output\": \"nmap -sV 192.168.1.0/24\"},\n",
        "    {\"input\": \"Identify devices in 192.168.1.0/24 subnet with Nmap and display verbose output.\", \"output\": \"nmap -v 192.168.1.0/24\"},\n",
        "    {\"input\": \"Scan 192.168.1.0/24 network and perform a full port scan.\", \"output\": \"nmap -p- 192.168.1.0/24\"},\n",
        "    {\"input\": \"Investigate which IP addresses are up in the 192.168.1.0/24 subnet using Nmap.\", \"output\": \"nmap -sP 192.168.1.0/24\"},\n",
        "    {\"input\": \"Scan 192.168.1.0/24 network and detect HTTP services.\", \"output\": \"nmap --script http-enum 192.168.1.0/24\"},\n",
        "    {\"input\": \"Check for SSH services on 192.168.1.0/24 subnet using Nmap.\", \"output\": \"nmap -p 22 192.168.1.0/24\"},\n",
        "    {\"input\": \"Probe 192.168.1.0/24 for open ports using Nmap with TCP SYN scan.\", \"output\": \"nmap -sS 192.168.1.0/24\"},\n",
        "    {\"input\": \"Scan 192.168.1.0/24 network and perform a stealthy scan with Nmap.\", \"output\": \"nmap -sS -T4 -A -v 192.168.1.0/24\"},\n",
        "    {\"input\": \"Investigate which devices are live in the 192.168.1.0/24 subnet using Nmap.\", \"output\": \"nmap -sn 192.168.1.0/24\"},\n",
        "    {\"input\": \"Scan 192.168.1.0/24 network and perform a UDP scan with Nmap.\", \"output\": \"nmap -sU 192.168.1.0/24\"},\n",
        "    {\"input\": \"Check for vulnerable services in the 192.168.1.0/24 subnet using Nmap.\", \"output\": \"nmap --script vuln 192.168.1.0/24\"},\n",
        "    {\"input\": \"Probe 192.168.1.0/24 for services with Nmap's version detection.\", \"output\": \"nmap -sV 192.168.1.0/24\"},\n",
        "    {\"input\": \"Scan 192.168.1.0/24 network and perform a ping scan using Nmap.\", \"output\": \"nmap -sP 192.168.1.0/24\"},\n",
        "    {\"input\": \"Identify OS of devices in 192.168.1.0/24 subnet with Nmap.\", \"output\": \"nmap -O 192.168.1.0/24\"},\n",
        "    {\"input\": \"Scan 192.168.1.0/24 network and perform a quick scan with Nmap.\", \"output\": \"nmap -T4 -F 192.168.1.0/24\"},\n",
        "    {\"input\": \"Check for open ports on 192.168.1.0/24 network using Nmap.\", \"output\": \"nmap -p 1-65535 192.168.1.0/24\"},\n",
        "    {\"input\": \"Investigate live hosts on the 192.168.1.0/24 subnet with Nmap.\", \"output\": \"nmap -A 192.168.1.0/24\"},\n",
        "    {\"input\": \"Scan 192.168.1.0/24 network and detect firewall presence with Nmap.\", \"output\": \"nmap -sA 192.168.1.0/24\"},\n",
        "    {\"input\": \"Identify SSL/TLS services on 192.168.1.0/24 subnet using Nmap.\", \"output\": \"nmap --script ssl-\"}\n",
        "]"
      ]
    },
    {
      "cell_type": "code",
      "execution_count": null,
      "metadata": {
        "colab": {
          "background_save": true
        },
        "id": "kXaQkB2bvIAo",
        "outputId": "9f5098f3-957f-43bd-ec38-e5ca57eef2a5"
      },
      "outputs": [
        {
          "name": "stdout",
          "output_type": "stream",
          "text": [
            "                                               input  \\\n",
            "0  Identify reachable IP addresses using Nmap, ex...   \n",
            "1        Scan the local network for active services.   \n",
            "2  Investigate which devices are online in the 19...   \n",
            "3  Perform an Nmap scan on the IP addresses liste...   \n",
            "4             Scan a random set of 100 IP addresses.   \n",
            "\n",
            "                                      output  \n",
            "0  nmap 192.168.1.0/24 --exclude 192.168.1.1  \n",
            "1                        nmap 192.168.1.0/24  \n",
            "2                        nmap 192.168.1.0/24  \n",
            "3                       nmap -iL targets.txt  \n",
            "4                               nmap -iR 100  \n"
          ]
        }
      ],
      "source": [
        "df= pd.DataFrame(data)\n",
        "print(df.head())"
      ]
    },
    {
      "cell_type": "code",
      "execution_count": null,
      "metadata": {
        "colab": {
          "background_save": true
        },
        "id": "VVvXmGP5whqv",
        "outputId": "1aa9124a-1b1b-4760-8b4c-aad4649f92b2"
      },
      "outputs": [
        {
          "name": "stdout",
          "output_type": "stream",
          "text": [
            "{'input': 'Check for SSH services on 192.168.1.0/24 subnet using Nmap.', 'output': 'nmap -p 22 192.168.1.0/24', '__index_level_0__': 31}\n",
            "{'input': 'Investigate live hosts on the 192.168.1.0/24 subnet with Nmap.', 'output': 'nmap -A 192.168.1.0/24', '__index_level_0__': 65}\n",
            "{'input': 'Investigate which services are running on 192.168.1.0/24 subnet using Nmap.', 'output': 'nmap -sV -p 1-65535 192.168.1.0/24', '__index_level_0__': 48}\n",
            "{'input': 'Scan a random set of 100 IP addresses.', 'output': 'nmap -iR 100', '__index_level_0__': 4}\n",
            "{'input': 'Probe 192.168.1.1 for open ports using Nmap’s SYN scan.', 'output': 'nmap 192.168.1.1 -sS', '__index_level_0__': 5}\n",
            "{'input': 'Scan 192.168.1.0/24 network and detect HTTP services.', 'output': 'nmap --script http-enum 192.168.1.0/24', '__index_level_0__': 30}\n",
            "{'input': 'Check for open ports on 192.168.1.0/24 network using Nmap.', 'output': 'nmap 192.168.1.0/24 -p 1-65535', '__index_level_0__': 6}\n",
            "{'input': 'Identify devices in 192.168.1.0/24 subnet with Nmap and display verbose output.', 'output': 'nmap -v 192.168.1.0/24', '__index_level_0__': 27}\n",
            "{'input': 'Scan 192.168.1.0/24 network and perform a ping scan using Nmap.', 'output': 'nmap -sP 192.168.1.0/24', '__index_level_0__': 38}\n",
            "{'input': 'Perform an intense scan on 192.168.1.0/24 subnet with Nmap.', 'output': 'nmap -T4 -A -v 192.168.1.0/24', '__index_level_0__': 7}\n",
            "{'input': 'Check for open ports on 192.168.1.0/24 network using Nmap.', 'output': 'nmap -p 1-65535 192.168.1.0/24', '__index_level_0__': 64}\n",
            "{'input': 'Perform an Nmap scan on the IP addresses listed in targets.txt.', 'output': 'nmap -iL targets.txt', '__index_level_0__': 3}\n",
            "{'input': 'Scan 192.168.1.0/24 network and perform a ping scan.', 'output': 'nmap -sP 192.168.1.0/24', '__index_level_0__': 16}\n",
            "{'input': 'Identify IP addresses in 192.168.1.0/24 subnet with Nmap.', 'output': 'nmap -sL 192.168.1.0/24', '__index_level_0__': 46}\n",
            "{'input': 'Investigate which IP addresses are up in the 192.168.1.0/24 subnet using Nmap.', 'output': 'nmap -sP 192.168.1.0/24', '__index_level_0__': 52}\n",
            "{'input': 'Scan 192.168.1.0/24 network and perform a full port scan.', 'output': 'nmap -p- 192.168.1.0/24', '__index_level_0__': 51}\n",
            "{'input': 'Check for vulnerable services in the 192.168.1.0/24 subnet using Nmap.', 'output': 'nmap --script vuln 192.168.1.0/24', '__index_level_0__': 36}\n",
            "{'input': 'Identify live hosts on the local network using Nmap.', 'output': 'nmap -sn 192.168.1.0/24', '__index_level_0__': 9}\n",
            "{'input': 'Investigate which devices are online in the 192.168.1.0/24 subnet.', 'output': 'nmap 192.168.1.0/24', '__index_level_0__': 2}\n",
            "{'input': 'Investigate which devices are live in the 192.168.1.0/24 subnet using Nmap.', 'output': 'nmap -sn 192.168.1.0/24', '__index_level_0__': 57}\n",
            "{'input': 'Probe 192.168.1.0/24 for open ports using Nmap with TCP SYN scan.', 'output': 'nmap -sS 192.168.1.0/24', '__index_level_0__': 55}\n",
            "{'input': 'Scan 192.168.1.0/24 network and perform a UDP scan with Nmap.', 'output': 'nmap -sU 192.168.1.0/24', '__index_level_0__': 58}\n",
            "{'input': 'Perform a quick scan on 192.168.1.0/24 subnet with Nmap.', 'output': 'nmap -T4 -F 192.168.1.0/24', '__index_level_0__': 17}\n",
            "{'input': 'Scan 192.168.1.0/24 network and perform a stealthy scan with Nmap.', 'output': 'nmap -sS -T4 -A -v 192.168.1.0/24', '__index_level_0__': 56}\n",
            "{'input': \"Probe 192.168.1.0/24 for services with Nmap's version detection.\", 'output': 'nmap -sV 192.168.1.0/24', '__index_level_0__': 60}\n",
            "{'input': 'Identify SSL/TLS services on 192.168.1.0/24 subnet using Nmap.', 'output': 'nmap --script ssl-', '__index_level_0__': 67}\n",
            "{'input': 'Check for vulnerable services in the 192.168.1.0/24 subnet using Nmap.', 'output': 'nmap --script vuln 192.168.1.0/24', '__index_level_0__': 59}\n",
            "{'input': 'Identify IP addresses in 192.168.1.0/24 subnet with Nmap.', 'output': 'nmap -sL 192.168.1.0/24', '__index_level_0__': 23}\n",
            "{'input': 'Scan 192.168.1.0/24 network and detect firewall presence.', 'output': 'nmap -sA 192.168.1.0/24', '__index_level_0__': 20}\n",
            "{'input': \"Probe 192.168.1.0/24 for services with Nmap's version detection.\", 'output': 'nmap -sV 192.168.1.0/24', '__index_level_0__': 37}\n",
            "{'input': 'Scan 192.168.1.0/24 network and perform a ping scan using Nmap.', 'output': 'nmap -sP 192.168.1.0/24', '__index_level_0__': 61}\n",
            "{'input': 'Investigate live hosts on 192.168.1.0/24 subnet with aggressive scan.', 'output': 'nmap -A 192.168.1.0/24', '__index_level_0__': 19}\n",
            "{'input': 'Scan 192.168.1.0/24 network and perform a stealthy scan with Nmap.', 'output': 'nmap -sS -T4 -A -v 192.168.1.0/24', '__index_level_0__': 33}\n",
            "{'input': 'Investigate which services are running on 192.168.1.0/24 subnet using Nmap.', 'output': 'nmap -sV -p 1-65535 192.168.1.0/24', '__index_level_0__': 25}\n",
            "{'input': 'Scan 192.168.1.0/24 network and perform a quick scan with Nmap.', 'output': 'nmap -T4 -F 192.168.1.0/24', '__index_level_0__': 63}\n",
            "{'input': 'Check for SSL/TLS services on 192.168.1.0/24 subnet using Nmap.', 'output': 'nmap --script ssl-enum-ciphers 192.168.1.0/24', '__index_level_0__': 21}\n",
            "{'input': 'Probe 192.168.1.0/24 for open ports using Nmap with TCP SYN scan.', 'output': 'nmap -sS 192.168.1.0/24', '__index_level_0__': 32}\n",
            "{'input': 'Scan 192.168.1.0/24 network and detect HTTP services.', 'output': 'nmap --script http-enum 192.168.1.0/24', '__index_level_0__': 53}\n",
            "{'input': 'Scan 192.168.1.0/24 network and output results in XML format.', 'output': 'nmap -oX scan_results.xml 192.168.1.0/24', '__index_level_0__': 47}\n",
            "{'input': 'Check for vulnerable services on 192.168.1.0/24 subnet using Nmap.', 'output': 'nmap --script vuln 192.168.1.0/24', '__index_level_0__': 12}\n",
            "{'input': 'Identify OS of devices in 192.168.1.0/24 subnet using Nmap.', 'output': 'nmap -O 192.168.1.0/24', '__index_level_0__': 15}\n",
            "{'input': 'Scan 192.168.1.0/24 network and perform a UDP scan with Nmap.', 'output': 'nmap -sU 192.168.1.0/24', '__index_level_0__': 35}\n",
            "{'input': 'Investigate which devices are live in the 192.168.1.0/24 subnet using Nmap.', 'output': 'nmap -sn 192.168.1.0/24', '__index_level_0__': 34}\n",
            "{'input': 'Scan 192.168.1.0/24 network and perform a service version detection.', 'output': 'nmap -sV 192.168.1.0/24', '__index_level_0__': 26}\n",
            "{'input': 'Scan 192.168.1.0/24 network and output results in XML format.', 'output': 'nmap -oX scan_results.xml 192.168.1.0/24', '__index_level_0__': 24}\n",
            "{'input': 'Identify SSL/TLS services on 192.168.1.0/24 subnet using Nmap.', 'output': 'nmap --script ssl-enum-ciphers 192.168.1.0/24', '__index_level_0__': 44}\n",
            "{'input': 'Identify OS of devices in 192.168.1.0/24 subnet with Nmap.', 'output': 'nmap -O 192.168.1.0/24', '__index_level_0__': 62}\n",
            "{'input': 'Scan the local network for active services.', 'output': 'nmap 192.168.1.0/24', '__index_level_0__': 1}\n",
            "{'input': 'Identify reachable IP addresses using Nmap, excluding 192.168.1.1.', 'output': 'nmap 192.168.1.0/24 --exclude 192.168.1.1', '__index_level_0__': 0}\n",
            "{'input': 'Scan 192.168.1.0/24 network and perform a TCP connect scan.', 'output': 'nmap -sT 192.168.1.0/24', '__index_level_0__': 45}\n",
            "{'input': 'Investigate live hosts on the 192.168.1.0/24 subnet with Nmap.', 'output': 'nmap -A 192.168.1.0/24', '__index_level_0__': 42}\n",
            "{'input': 'Scan 192.168.1.0/24 network and output results to a file.', 'output': 'nmap -oN scan_results.txt 192.168.1.0/24', '__index_level_0__': 8}\n",
            "{'input': 'Check for SSH services on 192.168.1.0/24 subnet using Nmap.', 'output': 'nmap -p 22 192.168.1.0/24', '__index_level_0__': 54}\n",
            "{'input': 'Check for open ports on 192.168.1.0/24 network using Nmap.', 'output': 'nmap -p 1-65535 192.168.1.0/24', '__index_level_0__': 41}\n"
          ]
        }
      ],
      "source": [
        "train_df_data , val_df_data = train_test_split(df  , test_size = 0.2)\n",
        "\n",
        "train_data  = Dataset.from_pandas(train_df_data)\n",
        "\n",
        "validation_data = Dataset.from_pandas(val_df_data)\n",
        "\n",
        "for i in train_data:\n",
        "   print(i)"
      ]
    },
    {
      "cell_type": "code",
      "execution_count": null,
      "metadata": {
        "colab": {
          "background_save": true
        },
        "id": "PlKuY21lxLr_"
      },
      "outputs": [],
      "source": [
        "from transformers import T5Tokenizer , T5ForConditionalGeneration"
      ]
    },
    {
      "cell_type": "code",
      "execution_count": null,
      "metadata": {
        "colab": {
          "background_save": true,
          "referenced_widgets": [
            "9a6ff318d2b5446687e2cd7d8a2124c6",
            "09c100876bcd446cbe6d7df2e64e2d69",
            "3b0a7a9043e34646ba1970a5551e4b87",
            "372e1f1049bc49b1887fa5314a80cfa7",
            "7539f3fc9df44e7aa7a70d4422c979e5",
            "11ad2cb68d4b4d00bc4ec8ae46e31bba"
          ]
        },
        "id": "3OyZr58nxDE_",
        "outputId": "6b9bc52e-e0ab-4ece-da9b-70c8f75a2896"
      },
      "outputs": [
        {
          "name": "stderr",
          "output_type": "stream",
          "text": [
            "/usr/local/lib/python3.10/dist-packages/huggingface_hub/utils/_token.py:99: UserWarning: \n",
            "Error while fetching `HF_TOKEN` secret value from your vault: 'Requesting secret HF_TOKEN timed out. Secrets can only be fetched when running from the Colab UI.'.\n",
            "You are not authenticated with the Hugging Face Hub in this notebook.\n",
            "If the error persists, please let us know by opening an issue on GitHub (https://github.com/huggingface/huggingface_hub/issues/new).\n",
            "  warnings.warn(\n"
          ]
        },
        {
          "data": {
            "application/vnd.jupyter.widget-view+json": {
              "model_id": "9a6ff318d2b5446687e2cd7d8a2124c6",
              "version_major": 2,
              "version_minor": 0
            },
            "text/plain": [
              "tokenizer_config.json:   0%|          | 0.00/2.32k [00:00<?, ?B/s]"
            ]
          },
          "metadata": {},
          "output_type": "display_data"
        },
        {
          "data": {
            "application/vnd.jupyter.widget-view+json": {
              "model_id": "09c100876bcd446cbe6d7df2e64e2d69",
              "version_major": 2,
              "version_minor": 0
            },
            "text/plain": [
              "spiece.model:   0%|          | 0.00/792k [00:00<?, ?B/s]"
            ]
          },
          "metadata": {},
          "output_type": "display_data"
        },
        {
          "data": {
            "application/vnd.jupyter.widget-view+json": {
              "model_id": "3b0a7a9043e34646ba1970a5551e4b87",
              "version_major": 2,
              "version_minor": 0
            },
            "text/plain": [
              "tokenizer.json:   0%|          | 0.00/1.39M [00:00<?, ?B/s]"
            ]
          },
          "metadata": {},
          "output_type": "display_data"
        },
        {
          "name": "stderr",
          "output_type": "stream",
          "text": [
            "You are using the default legacy behaviour of the <class 'transformers.models.t5.tokenization_t5.T5Tokenizer'>. This is expected, and simply means that the `legacy` (previous) behavior will be used so nothing changes for you. If you want to use the new behaviour, set `legacy=False`. This should only be set if you understand what it means, and thoroughly read the reason why this was added as explained in https://github.com/huggingface/transformers/pull/24565\n",
            "Special tokens have been added in the vocabulary, make sure the associated word embeddings are fine-tuned or trained.\n"
          ]
        },
        {
          "data": {
            "application/vnd.jupyter.widget-view+json": {
              "model_id": "372e1f1049bc49b1887fa5314a80cfa7",
              "version_major": 2,
              "version_minor": 0
            },
            "text/plain": [
              "config.json:   0%|          | 0.00/1.21k [00:00<?, ?B/s]"
            ]
          },
          "metadata": {},
          "output_type": "display_data"
        },
        {
          "data": {
            "application/vnd.jupyter.widget-view+json": {
              "model_id": "7539f3fc9df44e7aa7a70d4422c979e5",
              "version_major": 2,
              "version_minor": 0
            },
            "text/plain": [
              "model.safetensors:   0%|          | 0.00/242M [00:00<?, ?B/s]"
            ]
          },
          "metadata": {},
          "output_type": "display_data"
        },
        {
          "data": {
            "application/vnd.jupyter.widget-view+json": {
              "model_id": "11ad2cb68d4b4d00bc4ec8ae46e31bba",
              "version_major": 2,
              "version_minor": 0
            },
            "text/plain": [
              "generation_config.json:   0%|          | 0.00/147 [00:00<?, ?B/s]"
            ]
          },
          "metadata": {},
          "output_type": "display_data"
        }
      ],
      "source": [
        "tokenizer = T5Tokenizer.from_pretrained('t5-small')\n",
        "\n",
        "model = T5ForConditionalGeneration.from_pretrained('t5-small')\n"
      ]
    },
    {
      "cell_type": "code",
      "execution_count": null,
      "metadata": {
        "colab": {
          "background_save": true
        },
        "id": "SVVt6YdA0Gey"
      },
      "outputs": [],
      "source": [
        "def preprocess(datas):\n",
        "\n",
        "  inp = [x for x in datas['input']]\n",
        "\n",
        "  out = [x for x in datas['output']]\n",
        "  print(out)\n",
        "\n",
        "\n",
        "  model_inp = tokenizer(inp , max_length=128 ,truncation=True , padding='max_length')\n",
        "\n",
        "  with tokenizer.as_target_tokenizer():\n",
        "\n",
        "    labels = tokenizer(out ,  max_length=128 ,truncation=True , padding='max_length')\n",
        "  # print(labels)\n",
        "  model_inp[\"labels\"] = labels[\"input_ids\"]\n",
        "  for input_ids, label_ids in zip(model_inp[\"labels\"], labels[\"input_ids\"]):\n",
        "    decoded_input = tokenizer.decode(input_ids, skip_special_tokens=True)\n",
        "    decoded_label = tokenizer.decode(label_ids, skip_special_tokens=True)\n",
        "    print(f\"Input: {decoded_input} ======>>>> Label: {decoded_label}\")\n",
        "  # print(labels[\"output\"])\n",
        "  print(model_inp[\"labels\"])\n",
        "\n",
        "  final_data_for_train = model_inp\n",
        "\n",
        "  return final_data_for_train\n",
        "  # print(final_data_for_train)\n",
        "\n"
      ]
    },
    {
      "cell_type": "code",
      "execution_count": null,
      "metadata": {
        "colab": {
          "background_save": true,
          "referenced_widgets": [
            "05773e14611441828346206874687ded",
            "5e1896d1d95c4ba68f5e8caa985efcd7"
          ]
        },
        "id": "l-aS_BedU9SC",
        "outputId": "9eadd719-ec7a-4e2b-dcc3-24b494411ba4"
      },
      "outputs": [
        {
          "data": {
            "application/vnd.jupyter.widget-view+json": {
              "model_id": "05773e14611441828346206874687ded",
              "version_major": 2,
              "version_minor": 0
            },
            "text/plain": [
              "Map:   0%|          | 0/54 [00:00<?, ? examples/s]"
            ]
          },
          "metadata": {},
          "output_type": "display_data"
        },
        {
          "name": "stdout",
          "output_type": "stream",
          "text": [
            "['nmap -p 22 192.168.1.0/24', 'nmap -A 192.168.1.0/24', 'nmap -sV -p 1-65535 192.168.1.0/24', 'nmap -iR 100', 'nmap 192.168.1.1 -sS', 'nmap --script http-enum 192.168.1.0/24', 'nmap 192.168.1.0/24 -p 1-65535', 'nmap -v 192.168.1.0/24', 'nmap -sP 192.168.1.0/24', 'nmap -T4 -A -v 192.168.1.0/24', 'nmap -p 1-65535 192.168.1.0/24', 'nmap -iL targets.txt', 'nmap -sP 192.168.1.0/24', 'nmap -sL 192.168.1.0/24', 'nmap -sP 192.168.1.0/24', 'nmap -p- 192.168.1.0/24', 'nmap --script vuln 192.168.1.0/24', 'nmap -sn 192.168.1.0/24', 'nmap 192.168.1.0/24', 'nmap -sn 192.168.1.0/24', 'nmap -sS 192.168.1.0/24', 'nmap -sU 192.168.1.0/24', 'nmap -T4 -F 192.168.1.0/24', 'nmap -sS -T4 -A -v 192.168.1.0/24', 'nmap -sV 192.168.1.0/24', 'nmap --script ssl-', 'nmap --script vuln 192.168.1.0/24', 'nmap -sL 192.168.1.0/24', 'nmap -sA 192.168.1.0/24', 'nmap -sV 192.168.1.0/24', 'nmap -sP 192.168.1.0/24', 'nmap -A 192.168.1.0/24', 'nmap -sS -T4 -A -v 192.168.1.0/24', 'nmap -sV -p 1-65535 192.168.1.0/24', 'nmap -T4 -F 192.168.1.0/24', 'nmap --script ssl-enum-ciphers 192.168.1.0/24', 'nmap -sS 192.168.1.0/24', 'nmap --script http-enum 192.168.1.0/24', 'nmap -oX scan_results.xml 192.168.1.0/24', 'nmap --script vuln 192.168.1.0/24', 'nmap -O 192.168.1.0/24', 'nmap -sU 192.168.1.0/24', 'nmap -sn 192.168.1.0/24', 'nmap -sV 192.168.1.0/24', 'nmap -oX scan_results.xml 192.168.1.0/24', 'nmap --script ssl-enum-ciphers 192.168.1.0/24', 'nmap -O 192.168.1.0/24', 'nmap 192.168.1.0/24', 'nmap 192.168.1.0/24 --exclude 192.168.1.1', 'nmap -sT 192.168.1.0/24', 'nmap -A 192.168.1.0/24', 'nmap -oN scan_results.txt 192.168.1.0/24', 'nmap -p 22 192.168.1.0/24', 'nmap -p 1-65535 192.168.1.0/24']\n"
          ]
        },
        {
          "name": "stderr",
          "output_type": "stream",
          "text": [
            "/usr/local/lib/python3.10/dist-packages/transformers/tokenization_utils_base.py:4016: UserWarning: `as_target_tokenizer` is deprecated and will be removed in v5 of Transformers. You can tokenize your labels by using the argument `text_target` of the regular `__call__` method (either in the same call as your input texts if you use the same keyword arguments, or in a separate call.\n",
            "  warnings.warn(\n"
          ]
        },
        {
          "name": "stdout",
          "output_type": "stream",
          "text": [
            "Input: nmap -p 22 192.168.1.0/24 ======>>>> Label: nmap -p 22 192.168.1.0/24\n",
            "Input: nmap -A 192.168.1.0/24 ======>>>> Label: nmap -A 192.168.1.0/24\n",
            "Input: nmap -sV -p 1-65535 192.168.1.0/24 ======>>>> Label: nmap -sV -p 1-65535 192.168.1.0/24\n",
            "Input: nmap -iR 100 ======>>>> Label: nmap -iR 100\n",
            "Input: nmap 192.168.1.1 -sS ======>>>> Label: nmap 192.168.1.1 -sS\n",
            "Input: nmap --script http-enum 192.168.1.0/24 ======>>>> Label: nmap --script http-enum 192.168.1.0/24\n",
            "Input: nmap 192.168.1.0/24 -p 1-65535 ======>>>> Label: nmap 192.168.1.0/24 -p 1-65535\n",
            "Input: nmap -v 192.168.1.0/24 ======>>>> Label: nmap -v 192.168.1.0/24\n",
            "Input: nmap -sP 192.168.1.0/24 ======>>>> Label: nmap -sP 192.168.1.0/24\n",
            "Input: nmap -T4 -A -v 192.168.1.0/24 ======>>>> Label: nmap -T4 -A -v 192.168.1.0/24\n",
            "Input: nmap -p 1-65535 192.168.1.0/24 ======>>>> Label: nmap -p 1-65535 192.168.1.0/24\n",
            "Input: nmap -iL targets.txt ======>>>> Label: nmap -iL targets.txt\n",
            "Input: nmap -sP 192.168.1.0/24 ======>>>> Label: nmap -sP 192.168.1.0/24\n",
            "Input: nmap -sL 192.168.1.0/24 ======>>>> Label: nmap -sL 192.168.1.0/24\n",
            "Input: nmap -sP 192.168.1.0/24 ======>>>> Label: nmap -sP 192.168.1.0/24\n",
            "Input: nmap -p- 192.168.1.0/24 ======>>>> Label: nmap -p- 192.168.1.0/24\n",
            "Input: nmap --script vuln 192.168.1.0/24 ======>>>> Label: nmap --script vuln 192.168.1.0/24\n",
            "Input: nmap -sn 192.168.1.0/24 ======>>>> Label: nmap -sn 192.168.1.0/24\n",
            "Input: nmap 192.168.1.0/24 ======>>>> Label: nmap 192.168.1.0/24\n",
            "Input: nmap -sn 192.168.1.0/24 ======>>>> Label: nmap -sn 192.168.1.0/24\n",
            "Input: nmap -sS 192.168.1.0/24 ======>>>> Label: nmap -sS 192.168.1.0/24\n",
            "Input: nmap -sU 192.168.1.0/24 ======>>>> Label: nmap -sU 192.168.1.0/24\n",
            "Input: nmap -T4 -F 192.168.1.0/24 ======>>>> Label: nmap -T4 -F 192.168.1.0/24\n",
            "Input: nmap -sS -T4 -A -v 192.168.1.0/24 ======>>>> Label: nmap -sS -T4 -A -v 192.168.1.0/24\n",
            "Input: nmap -sV 192.168.1.0/24 ======>>>> Label: nmap -sV 192.168.1.0/24\n",
            "Input: nmap --script ssl- ======>>>> Label: nmap --script ssl-\n",
            "Input: nmap --script vuln 192.168.1.0/24 ======>>>> Label: nmap --script vuln 192.168.1.0/24\n",
            "Input: nmap -sL 192.168.1.0/24 ======>>>> Label: nmap -sL 192.168.1.0/24\n",
            "Input: nmap -sA 192.168.1.0/24 ======>>>> Label: nmap -sA 192.168.1.0/24\n",
            "Input: nmap -sV 192.168.1.0/24 ======>>>> Label: nmap -sV 192.168.1.0/24\n",
            "Input: nmap -sP 192.168.1.0/24 ======>>>> Label: nmap -sP 192.168.1.0/24\n",
            "Input: nmap -A 192.168.1.0/24 ======>>>> Label: nmap -A 192.168.1.0/24\n",
            "Input: nmap -sS -T4 -A -v 192.168.1.0/24 ======>>>> Label: nmap -sS -T4 -A -v 192.168.1.0/24\n",
            "Input: nmap -sV -p 1-65535 192.168.1.0/24 ======>>>> Label: nmap -sV -p 1-65535 192.168.1.0/24\n",
            "Input: nmap -T4 -F 192.168.1.0/24 ======>>>> Label: nmap -T4 -F 192.168.1.0/24\n",
            "Input: nmap --script ssl-enum-ciphers 192.168.1.0/24 ======>>>> Label: nmap --script ssl-enum-ciphers 192.168.1.0/24\n",
            "Input: nmap -sS 192.168.1.0/24 ======>>>> Label: nmap -sS 192.168.1.0/24\n",
            "Input: nmap --script http-enum 192.168.1.0/24 ======>>>> Label: nmap --script http-enum 192.168.1.0/24\n",
            "Input: nmap -oX scan_results.xml 192.168.1.0/24 ======>>>> Label: nmap -oX scan_results.xml 192.168.1.0/24\n",
            "Input: nmap --script vuln 192.168.1.0/24 ======>>>> Label: nmap --script vuln 192.168.1.0/24\n",
            "Input: nmap -O 192.168.1.0/24 ======>>>> Label: nmap -O 192.168.1.0/24\n",
            "Input: nmap -sU 192.168.1.0/24 ======>>>> Label: nmap -sU 192.168.1.0/24\n",
            "Input: nmap -sn 192.168.1.0/24 ======>>>> Label: nmap -sn 192.168.1.0/24\n",
            "Input: nmap -sV 192.168.1.0/24 ======>>>> Label: nmap -sV 192.168.1.0/24\n",
            "Input: nmap -oX scan_results.xml 192.168.1.0/24 ======>>>> Label: nmap -oX scan_results.xml 192.168.1.0/24\n",
            "Input: nmap --script ssl-enum-ciphers 192.168.1.0/24 ======>>>> Label: nmap --script ssl-enum-ciphers 192.168.1.0/24\n",
            "Input: nmap -O 192.168.1.0/24 ======>>>> Label: nmap -O 192.168.1.0/24\n",
            "Input: nmap 192.168.1.0/24 ======>>>> Label: nmap 192.168.1.0/24\n",
            "Input: nmap 192.168.1.0/24 --exclude 192.168.1.1 ======>>>> Label: nmap 192.168.1.0/24 --exclude 192.168.1.1\n",
            "Input: nmap -sT 192.168.1.0/24 ======>>>> Label: nmap -sT 192.168.1.0/24\n",
            "Input: nmap -A 192.168.1.0/24 ======>>>> Label: nmap -A 192.168.1.0/24\n",
            "Input: nmap -oN scan_results.txt 192.168.1.0/24 ======>>>> Label: nmap -oN scan_results.txt 192.168.1.0/24\n",
            "Input: nmap -p 22 192.168.1.0/24 ======>>>> Label: nmap -p 22 192.168.1.0/24\n",
            "Input: nmap -p 1-65535 192.168.1.0/24 ======>>>> Label: nmap -p 1-65535 192.168.1.0/24\n",
            "[[3, 29, 11576, 3, 18, 102, 1630, 3, 19978, 5, 24274, 5, 12734, 87, 2266, 1, 0, 0, 0, 0, 0, 0, 0, 0, 0, 0, 0, 0, 0, 0, 0, 0, 0, 0, 0, 0, 0, 0, 0, 0, 0, 0, 0, 0, 0, 0, 0, 0, 0, 0, 0, 0, 0, 0, 0, 0, 0, 0, 0, 0, 0, 0, 0, 0, 0, 0, 0, 0, 0, 0, 0, 0, 0, 0, 0, 0, 0, 0, 0, 0, 0, 0, 0, 0, 0, 0, 0, 0, 0, 0, 0, 0, 0, 0, 0, 0, 0, 0, 0, 0, 0, 0, 0, 0, 0, 0, 0, 0, 0, 0, 0, 0, 0, 0, 0, 0, 0, 0, 0, 0, 0, 0, 0, 0, 0, 0, 0, 0], [3, 29, 11576, 3, 18, 188, 3, 19978, 5, 24274, 5, 12734, 87, 2266, 1, 0, 0, 0, 0, 0, 0, 0, 0, 0, 0, 0, 0, 0, 0, 0, 0, 0, 0, 0, 0, 0, 0, 0, 0, 0, 0, 0, 0, 0, 0, 0, 0, 0, 0, 0, 0, 0, 0, 0, 0, 0, 0, 0, 0, 0, 0, 0, 0, 0, 0, 0, 0, 0, 0, 0, 0, 0, 0, 0, 0, 0, 0, 0, 0, 0, 0, 0, 0, 0, 0, 0, 0, 0, 0, 0, 0, 0, 0, 0, 0, 0, 0, 0, 0, 0, 0, 0, 0, 0, 0, 0, 0, 0, 0, 0, 0, 0, 0, 0, 0, 0, 0, 0, 0, 0, 0, 0, 0, 0, 0, 0, 0, 0], [3, 29, 11576, 3, 18, 7, 553, 3, 18, 102, 3, 27019, 3769, 2469, 3, 19978, 5, 24274, 5, 12734, 87, 2266, 1, 0, 0, 0, 0, 0, 0, 0, 0, 0, 0, 0, 0, 0, 0, 0, 0, 0, 0, 0, 0, 0, 0, 0, 0, 0, 0, 0, 0, 0, 0, 0, 0, 0, 0, 0, 0, 0, 0, 0, 0, 0, 0, 0, 0, 0, 0, 0, 0, 0, 0, 0, 0, 0, 0, 0, 0, 0, 0, 0, 0, 0, 0, 0, 0, 0, 0, 0, 0, 0, 0, 0, 0, 0, 0, 0, 0, 0, 0, 0, 0, 0, 0, 0, 0, 0, 0, 0, 0, 0, 0, 0, 0, 0, 0, 0, 0, 0, 0, 0, 0, 0, 0, 0, 0, 0], [3, 29, 11576, 3, 18, 23, 448, 910, 1, 0, 0, 0, 0, 0, 0, 0, 0, 0, 0, 0, 0, 0, 0, 0, 0, 0, 0, 0, 0, 0, 0, 0, 0, 0, 0, 0, 0, 0, 0, 0, 0, 0, 0, 0, 0, 0, 0, 0, 0, 0, 0, 0, 0, 0, 0, 0, 0, 0, 0, 0, 0, 0, 0, 0, 0, 0, 0, 0, 0, 0, 0, 0, 0, 0, 0, 0, 0, 0, 0, 0, 0, 0, 0, 0, 0, 0, 0, 0, 0, 0, 0, 0, 0, 0, 0, 0, 0, 0, 0, 0, 0, 0, 0, 0, 0, 0, 0, 0, 0, 0, 0, 0, 0, 0, 0, 0, 0, 0, 0, 0, 0, 0, 0, 0, 0, 0, 0, 0], [3, 29, 11576, 3, 19978, 5, 24274, 5, 11039, 3, 18, 7, 134, 1, 0, 0, 0, 0, 0, 0, 0, 0, 0, 0, 0, 0, 0, 0, 0, 0, 0, 0, 0, 0, 0, 0, 0, 0, 0, 0, 0, 0, 0, 0, 0, 0, 0, 0, 0, 0, 0, 0, 0, 0, 0, 0, 0, 0, 0, 0, 0, 0, 0, 0, 0, 0, 0, 0, 0, 0, 0, 0, 0, 0, 0, 0, 0, 0, 0, 0, 0, 0, 0, 0, 0, 0, 0, 0, 0, 0, 0, 0, 0, 0, 0, 0, 0, 0, 0, 0, 0, 0, 0, 0, 0, 0, 0, 0, 0, 0, 0, 0, 0, 0, 0, 0, 0, 0, 0, 0, 0, 0, 0, 0, 0, 0, 0, 0], [3, 29, 11576, 1636, 11815, 2649, 18, 35, 440, 3, 19978, 5, 24274, 5, 12734, 87, 2266, 1, 0, 0, 0, 0, 0, 0, 0, 0, 0, 0, 0, 0, 0, 0, 0, 0, 0, 0, 0, 0, 0, 0, 0, 0, 0, 0, 0, 0, 0, 0, 0, 0, 0, 0, 0, 0, 0, 0, 0, 0, 0, 0, 0, 0, 0, 0, 0, 0, 0, 0, 0, 0, 0, 0, 0, 0, 0, 0, 0, 0, 0, 0, 0, 0, 0, 0, 0, 0, 0, 0, 0, 0, 0, 0, 0, 0, 0, 0, 0, 0, 0, 0, 0, 0, 0, 0, 0, 0, 0, 0, 0, 0, 0, 0, 0, 0, 0, 0, 0, 0, 0, 0, 0, 0, 0, 0, 0, 0, 0, 0], [3, 29, 11576, 3, 19978, 5, 24274, 5, 12734, 87, 2266, 3, 18, 102, 3, 27019, 3769, 2469, 1, 0, 0, 0, 0, 0, 0, 0, 0, 0, 0, 0, 0, 0, 0, 0, 0, 0, 0, 0, 0, 0, 0, 0, 0, 0, 0, 0, 0, 0, 0, 0, 0, 0, 0, 0, 0, 0, 0, 0, 0, 0, 0, 0, 0, 0, 0, 0, 0, 0, 0, 0, 0, 0, 0, 0, 0, 0, 0, 0, 0, 0, 0, 0, 0, 0, 0, 0, 0, 0, 0, 0, 0, 0, 0, 0, 0, 0, 0, 0, 0, 0, 0, 0, 0, 0, 0, 0, 0, 0, 0, 0, 0, 0, 0, 0, 0, 0, 0, 0, 0, 0, 0, 0, 0, 0, 0, 0, 0, 0], [3, 29, 11576, 3, 18, 208, 3, 19978, 5, 24274, 5, 12734, 87, 2266, 1, 0, 0, 0, 0, 0, 0, 0, 0, 0, 0, 0, 0, 0, 0, 0, 0, 0, 0, 0, 0, 0, 0, 0, 0, 0, 0, 0, 0, 0, 0, 0, 0, 0, 0, 0, 0, 0, 0, 0, 0, 0, 0, 0, 0, 0, 0, 0, 0, 0, 0, 0, 0, 0, 0, 0, 0, 0, 0, 0, 0, 0, 0, 0, 0, 0, 0, 0, 0, 0, 0, 0, 0, 0, 0, 0, 0, 0, 0, 0, 0, 0, 0, 0, 0, 0, 0, 0, 0, 0, 0, 0, 0, 0, 0, 0, 0, 0, 0, 0, 0, 0, 0, 0, 0, 0, 0, 0, 0, 0, 0, 0, 0, 0], [3, 29, 11576, 3, 18, 7, 345, 3, 19978, 5, 24274, 5, 12734, 87, 2266, 1, 0, 0, 0, 0, 0, 0, 0, 0, 0, 0, 0, 0, 0, 0, 0, 0, 0, 0, 0, 0, 0, 0, 0, 0, 0, 0, 0, 0, 0, 0, 0, 0, 0, 0, 0, 0, 0, 0, 0, 0, 0, 0, 0, 0, 0, 0, 0, 0, 0, 0, 0, 0, 0, 0, 0, 0, 0, 0, 0, 0, 0, 0, 0, 0, 0, 0, 0, 0, 0, 0, 0, 0, 0, 0, 0, 0, 0, 0, 0, 0, 0, 0, 0, 0, 0, 0, 0, 0, 0, 0, 0, 0, 0, 0, 0, 0, 0, 0, 0, 0, 0, 0, 0, 0, 0, 0, 0, 0, 0, 0, 0, 0], [3, 29, 11576, 3, 18, 382, 591, 3, 18, 188, 3, 18, 208, 3, 19978, 5, 24274, 5, 12734, 87, 2266, 1, 0, 0, 0, 0, 0, 0, 0, 0, 0, 0, 0, 0, 0, 0, 0, 0, 0, 0, 0, 0, 0, 0, 0, 0, 0, 0, 0, 0, 0, 0, 0, 0, 0, 0, 0, 0, 0, 0, 0, 0, 0, 0, 0, 0, 0, 0, 0, 0, 0, 0, 0, 0, 0, 0, 0, 0, 0, 0, 0, 0, 0, 0, 0, 0, 0, 0, 0, 0, 0, 0, 0, 0, 0, 0, 0, 0, 0, 0, 0, 0, 0, 0, 0, 0, 0, 0, 0, 0, 0, 0, 0, 0, 0, 0, 0, 0, 0, 0, 0, 0, 0, 0, 0, 0, 0, 0], [3, 29, 11576, 3, 18, 102, 3, 27019, 3769, 2469, 3, 19978, 5, 24274, 5, 12734, 87, 2266, 1, 0, 0, 0, 0, 0, 0, 0, 0, 0, 0, 0, 0, 0, 0, 0, 0, 0, 0, 0, 0, 0, 0, 0, 0, 0, 0, 0, 0, 0, 0, 0, 0, 0, 0, 0, 0, 0, 0, 0, 0, 0, 0, 0, 0, 0, 0, 0, 0, 0, 0, 0, 0, 0, 0, 0, 0, 0, 0, 0, 0, 0, 0, 0, 0, 0, 0, 0, 0, 0, 0, 0, 0, 0, 0, 0, 0, 0, 0, 0, 0, 0, 0, 0, 0, 0, 0, 0, 0, 0, 0, 0, 0, 0, 0, 0, 0, 0, 0, 0, 0, 0, 0, 0, 0, 0, 0, 0, 0, 0], [3, 29, 11576, 3, 18, 23, 434, 8874, 5, 17, 226, 17, 1, 0, 0, 0, 0, 0, 0, 0, 0, 0, 0, 0, 0, 0, 0, 0, 0, 0, 0, 0, 0, 0, 0, 0, 0, 0, 0, 0, 0, 0, 0, 0, 0, 0, 0, 0, 0, 0, 0, 0, 0, 0, 0, 0, 0, 0, 0, 0, 0, 0, 0, 0, 0, 0, 0, 0, 0, 0, 0, 0, 0, 0, 0, 0, 0, 0, 0, 0, 0, 0, 0, 0, 0, 0, 0, 0, 0, 0, 0, 0, 0, 0, 0, 0, 0, 0, 0, 0, 0, 0, 0, 0, 0, 0, 0, 0, 0, 0, 0, 0, 0, 0, 0, 0, 0, 0, 0, 0, 0, 0, 0, 0, 0, 0, 0, 0], [3, 29, 11576, 3, 18, 7, 345, 3, 19978, 5, 24274, 5, 12734, 87, 2266, 1, 0, 0, 0, 0, 0, 0, 0, 0, 0, 0, 0, 0, 0, 0, 0, 0, 0, 0, 0, 0, 0, 0, 0, 0, 0, 0, 0, 0, 0, 0, 0, 0, 0, 0, 0, 0, 0, 0, 0, 0, 0, 0, 0, 0, 0, 0, 0, 0, 0, 0, 0, 0, 0, 0, 0, 0, 0, 0, 0, 0, 0, 0, 0, 0, 0, 0, 0, 0, 0, 0, 0, 0, 0, 0, 0, 0, 0, 0, 0, 0, 0, 0, 0, 0, 0, 0, 0, 0, 0, 0, 0, 0, 0, 0, 0, 0, 0, 0, 0, 0, 0, 0, 0, 0, 0, 0, 0, 0, 0, 0, 0, 0], [3, 29, 11576, 3, 18, 7, 434, 3, 19978, 5, 24274, 5, 12734, 87, 2266, 1, 0, 0, 0, 0, 0, 0, 0, 0, 0, 0, 0, 0, 0, 0, 0, 0, 0, 0, 0, 0, 0, 0, 0, 0, 0, 0, 0, 0, 0, 0, 0, 0, 0, 0, 0, 0, 0, 0, 0, 0, 0, 0, 0, 0, 0, 0, 0, 0, 0, 0, 0, 0, 0, 0, 0, 0, 0, 0, 0, 0, 0, 0, 0, 0, 0, 0, 0, 0, 0, 0, 0, 0, 0, 0, 0, 0, 0, 0, 0, 0, 0, 0, 0, 0, 0, 0, 0, 0, 0, 0, 0, 0, 0, 0, 0, 0, 0, 0, 0, 0, 0, 0, 0, 0, 0, 0, 0, 0, 0, 0, 0, 0], [3, 29, 11576, 3, 18, 7, 345, 3, 19978, 5, 24274, 5, 12734, 87, 2266, 1, 0, 0, 0, 0, 0, 0, 0, 0, 0, 0, 0, 0, 0, 0, 0, 0, 0, 0, 0, 0, 0, 0, 0, 0, 0, 0, 0, 0, 0, 0, 0, 0, 0, 0, 0, 0, 0, 0, 0, 0, 0, 0, 0, 0, 0, 0, 0, 0, 0, 0, 0, 0, 0, 0, 0, 0, 0, 0, 0, 0, 0, 0, 0, 0, 0, 0, 0, 0, 0, 0, 0, 0, 0, 0, 0, 0, 0, 0, 0, 0, 0, 0, 0, 0, 0, 0, 0, 0, 0, 0, 0, 0, 0, 0, 0, 0, 0, 0, 0, 0, 0, 0, 0, 0, 0, 0, 0, 0, 0, 0, 0, 0], [3, 29, 11576, 3, 18, 102, 18, 3, 19978, 5, 24274, 5, 12734, 87, 2266, 1, 0, 0, 0, 0, 0, 0, 0, 0, 0, 0, 0, 0, 0, 0, 0, 0, 0, 0, 0, 0, 0, 0, 0, 0, 0, 0, 0, 0, 0, 0, 0, 0, 0, 0, 0, 0, 0, 0, 0, 0, 0, 0, 0, 0, 0, 0, 0, 0, 0, 0, 0, 0, 0, 0, 0, 0, 0, 0, 0, 0, 0, 0, 0, 0, 0, 0, 0, 0, 0, 0, 0, 0, 0, 0, 0, 0, 0, 0, 0, 0, 0, 0, 0, 0, 0, 0, 0, 0, 0, 0, 0, 0, 0, 0, 0, 0, 0, 0, 0, 0, 0, 0, 0, 0, 0, 0, 0, 0, 0, 0, 0, 0], [3, 29, 11576, 1636, 11815, 3, 12388, 29, 3, 19978, 5, 24274, 5, 12734, 87, 2266, 1, 0, 0, 0, 0, 0, 0, 0, 0, 0, 0, 0, 0, 0, 0, 0, 0, 0, 0, 0, 0, 0, 0, 0, 0, 0, 0, 0, 0, 0, 0, 0, 0, 0, 0, 0, 0, 0, 0, 0, 0, 0, 0, 0, 0, 0, 0, 0, 0, 0, 0, 0, 0, 0, 0, 0, 0, 0, 0, 0, 0, 0, 0, 0, 0, 0, 0, 0, 0, 0, 0, 0, 0, 0, 0, 0, 0, 0, 0, 0, 0, 0, 0, 0, 0, 0, 0, 0, 0, 0, 0, 0, 0, 0, 0, 0, 0, 0, 0, 0, 0, 0, 0, 0, 0, 0, 0, 0, 0, 0, 0, 0], [3, 29, 11576, 3, 18, 7, 29, 3, 19978, 5, 24274, 5, 12734, 87, 2266, 1, 0, 0, 0, 0, 0, 0, 0, 0, 0, 0, 0, 0, 0, 0, 0, 0, 0, 0, 0, 0, 0, 0, 0, 0, 0, 0, 0, 0, 0, 0, 0, 0, 0, 0, 0, 0, 0, 0, 0, 0, 0, 0, 0, 0, 0, 0, 0, 0, 0, 0, 0, 0, 0, 0, 0, 0, 0, 0, 0, 0, 0, 0, 0, 0, 0, 0, 0, 0, 0, 0, 0, 0, 0, 0, 0, 0, 0, 0, 0, 0, 0, 0, 0, 0, 0, 0, 0, 0, 0, 0, 0, 0, 0, 0, 0, 0, 0, 0, 0, 0, 0, 0, 0, 0, 0, 0, 0, 0, 0, 0, 0, 0], [3, 29, 11576, 3, 19978, 5, 24274, 5, 12734, 87, 2266, 1, 0, 0, 0, 0, 0, 0, 0, 0, 0, 0, 0, 0, 0, 0, 0, 0, 0, 0, 0, 0, 0, 0, 0, 0, 0, 0, 0, 0, 0, 0, 0, 0, 0, 0, 0, 0, 0, 0, 0, 0, 0, 0, 0, 0, 0, 0, 0, 0, 0, 0, 0, 0, 0, 0, 0, 0, 0, 0, 0, 0, 0, 0, 0, 0, 0, 0, 0, 0, 0, 0, 0, 0, 0, 0, 0, 0, 0, 0, 0, 0, 0, 0, 0, 0, 0, 0, 0, 0, 0, 0, 0, 0, 0, 0, 0, 0, 0, 0, 0, 0, 0, 0, 0, 0, 0, 0, 0, 0, 0, 0, 0, 0, 0, 0, 0, 0], [3, 29, 11576, 3, 18, 7, 29, 3, 19978, 5, 24274, 5, 12734, 87, 2266, 1, 0, 0, 0, 0, 0, 0, 0, 0, 0, 0, 0, 0, 0, 0, 0, 0, 0, 0, 0, 0, 0, 0, 0, 0, 0, 0, 0, 0, 0, 0, 0, 0, 0, 0, 0, 0, 0, 0, 0, 0, 0, 0, 0, 0, 0, 0, 0, 0, 0, 0, 0, 0, 0, 0, 0, 0, 0, 0, 0, 0, 0, 0, 0, 0, 0, 0, 0, 0, 0, 0, 0, 0, 0, 0, 0, 0, 0, 0, 0, 0, 0, 0, 0, 0, 0, 0, 0, 0, 0, 0, 0, 0, 0, 0, 0, 0, 0, 0, 0, 0, 0, 0, 0, 0, 0, 0, 0, 0, 0, 0, 0, 0], [3, 29, 11576, 3, 18, 7, 134, 3, 19978, 5, 24274, 5, 12734, 87, 2266, 1, 0, 0, 0, 0, 0, 0, 0, 0, 0, 0, 0, 0, 0, 0, 0, 0, 0, 0, 0, 0, 0, 0, 0, 0, 0, 0, 0, 0, 0, 0, 0, 0, 0, 0, 0, 0, 0, 0, 0, 0, 0, 0, 0, 0, 0, 0, 0, 0, 0, 0, 0, 0, 0, 0, 0, 0, 0, 0, 0, 0, 0, 0, 0, 0, 0, 0, 0, 0, 0, 0, 0, 0, 0, 0, 0, 0, 0, 0, 0, 0, 0, 0, 0, 0, 0, 0, 0, 0, 0, 0, 0, 0, 0, 0, 0, 0, 0, 0, 0, 0, 0, 0, 0, 0, 0, 0, 0, 0, 0, 0, 0, 0], [3, 29, 11576, 3, 18, 7, 1265, 3, 19978, 5, 24274, 5, 12734, 87, 2266, 1, 0, 0, 0, 0, 0, 0, 0, 0, 0, 0, 0, 0, 0, 0, 0, 0, 0, 0, 0, 0, 0, 0, 0, 0, 0, 0, 0, 0, 0, 0, 0, 0, 0, 0, 0, 0, 0, 0, 0, 0, 0, 0, 0, 0, 0, 0, 0, 0, 0, 0, 0, 0, 0, 0, 0, 0, 0, 0, 0, 0, 0, 0, 0, 0, 0, 0, 0, 0, 0, 0, 0, 0, 0, 0, 0, 0, 0, 0, 0, 0, 0, 0, 0, 0, 0, 0, 0, 0, 0, 0, 0, 0, 0, 0, 0, 0, 0, 0, 0, 0, 0, 0, 0, 0, 0, 0, 0, 0, 0, 0, 0, 0], [3, 29, 11576, 3, 18, 382, 591, 3, 18, 371, 3, 19978, 5, 24274, 5, 12734, 87, 2266, 1, 0, 0, 0, 0, 0, 0, 0, 0, 0, 0, 0, 0, 0, 0, 0, 0, 0, 0, 0, 0, 0, 0, 0, 0, 0, 0, 0, 0, 0, 0, 0, 0, 0, 0, 0, 0, 0, 0, 0, 0, 0, 0, 0, 0, 0, 0, 0, 0, 0, 0, 0, 0, 0, 0, 0, 0, 0, 0, 0, 0, 0, 0, 0, 0, 0, 0, 0, 0, 0, 0, 0, 0, 0, 0, 0, 0, 0, 0, 0, 0, 0, 0, 0, 0, 0, 0, 0, 0, 0, 0, 0, 0, 0, 0, 0, 0, 0, 0, 0, 0, 0, 0, 0, 0, 0, 0, 0, 0, 0], [3, 29, 11576, 3, 18, 7, 134, 3, 18, 382, 591, 3, 18, 188, 3, 18, 208, 3, 19978, 5, 24274, 5, 12734, 87, 2266, 1, 0, 0, 0, 0, 0, 0, 0, 0, 0, 0, 0, 0, 0, 0, 0, 0, 0, 0, 0, 0, 0, 0, 0, 0, 0, 0, 0, 0, 0, 0, 0, 0, 0, 0, 0, 0, 0, 0, 0, 0, 0, 0, 0, 0, 0, 0, 0, 0, 0, 0, 0, 0, 0, 0, 0, 0, 0, 0, 0, 0, 0, 0, 0, 0, 0, 0, 0, 0, 0, 0, 0, 0, 0, 0, 0, 0, 0, 0, 0, 0, 0, 0, 0, 0, 0, 0, 0, 0, 0, 0, 0, 0, 0, 0, 0, 0, 0, 0, 0, 0, 0, 0], [3, 29, 11576, 3, 18, 7, 553, 3, 19978, 5, 24274, 5, 12734, 87, 2266, 1, 0, 0, 0, 0, 0, 0, 0, 0, 0, 0, 0, 0, 0, 0, 0, 0, 0, 0, 0, 0, 0, 0, 0, 0, 0, 0, 0, 0, 0, 0, 0, 0, 0, 0, 0, 0, 0, 0, 0, 0, 0, 0, 0, 0, 0, 0, 0, 0, 0, 0, 0, 0, 0, 0, 0, 0, 0, 0, 0, 0, 0, 0, 0, 0, 0, 0, 0, 0, 0, 0, 0, 0, 0, 0, 0, 0, 0, 0, 0, 0, 0, 0, 0, 0, 0, 0, 0, 0, 0, 0, 0, 0, 0, 0, 0, 0, 0, 0, 0, 0, 0, 0, 0, 0, 0, 0, 0, 0, 0, 0, 0, 0], [3, 29, 11576, 1636, 11815, 3, 7, 7, 40, 18, 1, 0, 0, 0, 0, 0, 0, 0, 0, 0, 0, 0, 0, 0, 0, 0, 0, 0, 0, 0, 0, 0, 0, 0, 0, 0, 0, 0, 0, 0, 0, 0, 0, 0, 0, 0, 0, 0, 0, 0, 0, 0, 0, 0, 0, 0, 0, 0, 0, 0, 0, 0, 0, 0, 0, 0, 0, 0, 0, 0, 0, 0, 0, 0, 0, 0, 0, 0, 0, 0, 0, 0, 0, 0, 0, 0, 0, 0, 0, 0, 0, 0, 0, 0, 0, 0, 0, 0, 0, 0, 0, 0, 0, 0, 0, 0, 0, 0, 0, 0, 0, 0, 0, 0, 0, 0, 0, 0, 0, 0, 0, 0, 0, 0, 0, 0, 0, 0], [3, 29, 11576, 1636, 11815, 3, 12388, 29, 3, 19978, 5, 24274, 5, 12734, 87, 2266, 1, 0, 0, 0, 0, 0, 0, 0, 0, 0, 0, 0, 0, 0, 0, 0, 0, 0, 0, 0, 0, 0, 0, 0, 0, 0, 0, 0, 0, 0, 0, 0, 0, 0, 0, 0, 0, 0, 0, 0, 0, 0, 0, 0, 0, 0, 0, 0, 0, 0, 0, 0, 0, 0, 0, 0, 0, 0, 0, 0, 0, 0, 0, 0, 0, 0, 0, 0, 0, 0, 0, 0, 0, 0, 0, 0, 0, 0, 0, 0, 0, 0, 0, 0, 0, 0, 0, 0, 0, 0, 0, 0, 0, 0, 0, 0, 0, 0, 0, 0, 0, 0, 0, 0, 0, 0, 0, 0, 0, 0, 0, 0], [3, 29, 11576, 3, 18, 7, 434, 3, 19978, 5, 24274, 5, 12734, 87, 2266, 1, 0, 0, 0, 0, 0, 0, 0, 0, 0, 0, 0, 0, 0, 0, 0, 0, 0, 0, 0, 0, 0, 0, 0, 0, 0, 0, 0, 0, 0, 0, 0, 0, 0, 0, 0, 0, 0, 0, 0, 0, 0, 0, 0, 0, 0, 0, 0, 0, 0, 0, 0, 0, 0, 0, 0, 0, 0, 0, 0, 0, 0, 0, 0, 0, 0, 0, 0, 0, 0, 0, 0, 0, 0, 0, 0, 0, 0, 0, 0, 0, 0, 0, 0, 0, 0, 0, 0, 0, 0, 0, 0, 0, 0, 0, 0, 0, 0, 0, 0, 0, 0, 0, 0, 0, 0, 0, 0, 0, 0, 0, 0, 0], [3, 29, 11576, 3, 18, 7, 188, 3, 19978, 5, 24274, 5, 12734, 87, 2266, 1, 0, 0, 0, 0, 0, 0, 0, 0, 0, 0, 0, 0, 0, 0, 0, 0, 0, 0, 0, 0, 0, 0, 0, 0, 0, 0, 0, 0, 0, 0, 0, 0, 0, 0, 0, 0, 0, 0, 0, 0, 0, 0, 0, 0, 0, 0, 0, 0, 0, 0, 0, 0, 0, 0, 0, 0, 0, 0, 0, 0, 0, 0, 0, 0, 0, 0, 0, 0, 0, 0, 0, 0, 0, 0, 0, 0, 0, 0, 0, 0, 0, 0, 0, 0, 0, 0, 0, 0, 0, 0, 0, 0, 0, 0, 0, 0, 0, 0, 0, 0, 0, 0, 0, 0, 0, 0, 0, 0, 0, 0, 0, 0], [3, 29, 11576, 3, 18, 7, 553, 3, 19978, 5, 24274, 5, 12734, 87, 2266, 1, 0, 0, 0, 0, 0, 0, 0, 0, 0, 0, 0, 0, 0, 0, 0, 0, 0, 0, 0, 0, 0, 0, 0, 0, 0, 0, 0, 0, 0, 0, 0, 0, 0, 0, 0, 0, 0, 0, 0, 0, 0, 0, 0, 0, 0, 0, 0, 0, 0, 0, 0, 0, 0, 0, 0, 0, 0, 0, 0, 0, 0, 0, 0, 0, 0, 0, 0, 0, 0, 0, 0, 0, 0, 0, 0, 0, 0, 0, 0, 0, 0, 0, 0, 0, 0, 0, 0, 0, 0, 0, 0, 0, 0, 0, 0, 0, 0, 0, 0, 0, 0, 0, 0, 0, 0, 0, 0, 0, 0, 0, 0, 0], [3, 29, 11576, 3, 18, 7, 345, 3, 19978, 5, 24274, 5, 12734, 87, 2266, 1, 0, 0, 0, 0, 0, 0, 0, 0, 0, 0, 0, 0, 0, 0, 0, 0, 0, 0, 0, 0, 0, 0, 0, 0, 0, 0, 0, 0, 0, 0, 0, 0, 0, 0, 0, 0, 0, 0, 0, 0, 0, 0, 0, 0, 0, 0, 0, 0, 0, 0, 0, 0, 0, 0, 0, 0, 0, 0, 0, 0, 0, 0, 0, 0, 0, 0, 0, 0, 0, 0, 0, 0, 0, 0, 0, 0, 0, 0, 0, 0, 0, 0, 0, 0, 0, 0, 0, 0, 0, 0, 0, 0, 0, 0, 0, 0, 0, 0, 0, 0, 0, 0, 0, 0, 0, 0, 0, 0, 0, 0, 0, 0], [3, 29, 11576, 3, 18, 188, 3, 19978, 5, 24274, 5, 12734, 87, 2266, 1, 0, 0, 0, 0, 0, 0, 0, 0, 0, 0, 0, 0, 0, 0, 0, 0, 0, 0, 0, 0, 0, 0, 0, 0, 0, 0, 0, 0, 0, 0, 0, 0, 0, 0, 0, 0, 0, 0, 0, 0, 0, 0, 0, 0, 0, 0, 0, 0, 0, 0, 0, 0, 0, 0, 0, 0, 0, 0, 0, 0, 0, 0, 0, 0, 0, 0, 0, 0, 0, 0, 0, 0, 0, 0, 0, 0, 0, 0, 0, 0, 0, 0, 0, 0, 0, 0, 0, 0, 0, 0, 0, 0, 0, 0, 0, 0, 0, 0, 0, 0, 0, 0, 0, 0, 0, 0, 0, 0, 0, 0, 0, 0, 0], [3, 29, 11576, 3, 18, 7, 134, 3, 18, 382, 591, 3, 18, 188, 3, 18, 208, 3, 19978, 5, 24274, 5, 12734, 87, 2266, 1, 0, 0, 0, 0, 0, 0, 0, 0, 0, 0, 0, 0, 0, 0, 0, 0, 0, 0, 0, 0, 0, 0, 0, 0, 0, 0, 0, 0, 0, 0, 0, 0, 0, 0, 0, 0, 0, 0, 0, 0, 0, 0, 0, 0, 0, 0, 0, 0, 0, 0, 0, 0, 0, 0, 0, 0, 0, 0, 0, 0, 0, 0, 0, 0, 0, 0, 0, 0, 0, 0, 0, 0, 0, 0, 0, 0, 0, 0, 0, 0, 0, 0, 0, 0, 0, 0, 0, 0, 0, 0, 0, 0, 0, 0, 0, 0, 0, 0, 0, 0, 0, 0], [3, 29, 11576, 3, 18, 7, 553, 3, 18, 102, 3, 27019, 3769, 2469, 3, 19978, 5, 24274, 5, 12734, 87, 2266, 1, 0, 0, 0, 0, 0, 0, 0, 0, 0, 0, 0, 0, 0, 0, 0, 0, 0, 0, 0, 0, 0, 0, 0, 0, 0, 0, 0, 0, 0, 0, 0, 0, 0, 0, 0, 0, 0, 0, 0, 0, 0, 0, 0, 0, 0, 0, 0, 0, 0, 0, 0, 0, 0, 0, 0, 0, 0, 0, 0, 0, 0, 0, 0, 0, 0, 0, 0, 0, 0, 0, 0, 0, 0, 0, 0, 0, 0, 0, 0, 0, 0, 0, 0, 0, 0, 0, 0, 0, 0, 0, 0, 0, 0, 0, 0, 0, 0, 0, 0, 0, 0, 0, 0, 0, 0], [3, 29, 11576, 3, 18, 382, 591, 3, 18, 371, 3, 19978, 5, 24274, 5, 12734, 87, 2266, 1, 0, 0, 0, 0, 0, 0, 0, 0, 0, 0, 0, 0, 0, 0, 0, 0, 0, 0, 0, 0, 0, 0, 0, 0, 0, 0, 0, 0, 0, 0, 0, 0, 0, 0, 0, 0, 0, 0, 0, 0, 0, 0, 0, 0, 0, 0, 0, 0, 0, 0, 0, 0, 0, 0, 0, 0, 0, 0, 0, 0, 0, 0, 0, 0, 0, 0, 0, 0, 0, 0, 0, 0, 0, 0, 0, 0, 0, 0, 0, 0, 0, 0, 0, 0, 0, 0, 0, 0, 0, 0, 0, 0, 0, 0, 0, 0, 0, 0, 0, 0, 0, 0, 0, 0, 0, 0, 0, 0, 0], [3, 29, 11576, 1636, 11815, 3, 7, 7, 40, 18, 35, 440, 18, 3389, 760, 7, 3, 19978, 5, 24274, 5, 12734, 87, 2266, 1, 0, 0, 0, 0, 0, 0, 0, 0, 0, 0, 0, 0, 0, 0, 0, 0, 0, 0, 0, 0, 0, 0, 0, 0, 0, 0, 0, 0, 0, 0, 0, 0, 0, 0, 0, 0, 0, 0, 0, 0, 0, 0, 0, 0, 0, 0, 0, 0, 0, 0, 0, 0, 0, 0, 0, 0, 0, 0, 0, 0, 0, 0, 0, 0, 0, 0, 0, 0, 0, 0, 0, 0, 0, 0, 0, 0, 0, 0, 0, 0, 0, 0, 0, 0, 0, 0, 0, 0, 0, 0, 0, 0, 0, 0, 0, 0, 0, 0, 0, 0, 0, 0, 0], [3, 29, 11576, 3, 18, 7, 134, 3, 19978, 5, 24274, 5, 12734, 87, 2266, 1, 0, 0, 0, 0, 0, 0, 0, 0, 0, 0, 0, 0, 0, 0, 0, 0, 0, 0, 0, 0, 0, 0, 0, 0, 0, 0, 0, 0, 0, 0, 0, 0, 0, 0, 0, 0, 0, 0, 0, 0, 0, 0, 0, 0, 0, 0, 0, 0, 0, 0, 0, 0, 0, 0, 0, 0, 0, 0, 0, 0, 0, 0, 0, 0, 0, 0, 0, 0, 0, 0, 0, 0, 0, 0, 0, 0, 0, 0, 0, 0, 0, 0, 0, 0, 0, 0, 0, 0, 0, 0, 0, 0, 0, 0, 0, 0, 0, 0, 0, 0, 0, 0, 0, 0, 0, 0, 0, 0, 0, 0, 0, 0], [3, 29, 11576, 1636, 11815, 2649, 18, 35, 440, 3, 19978, 5, 24274, 5, 12734, 87, 2266, 1, 0, 0, 0, 0, 0, 0, 0, 0, 0, 0, 0, 0, 0, 0, 0, 0, 0, 0, 0, 0, 0, 0, 0, 0, 0, 0, 0, 0, 0, 0, 0, 0, 0, 0, 0, 0, 0, 0, 0, 0, 0, 0, 0, 0, 0, 0, 0, 0, 0, 0, 0, 0, 0, 0, 0, 0, 0, 0, 0, 0, 0, 0, 0, 0, 0, 0, 0, 0, 0, 0, 0, 0, 0, 0, 0, 0, 0, 0, 0, 0, 0, 0, 0, 0, 0, 0, 0, 0, 0, 0, 0, 0, 0, 0, 0, 0, 0, 0, 0, 0, 0, 0, 0, 0, 0, 0, 0, 0, 0, 0], [3, 29, 11576, 3, 18, 32, 4, 5924, 834, 60, 7, 83, 17, 7, 5, 226, 51, 40, 3, 19978, 5, 24274, 5, 12734, 87, 2266, 1, 0, 0, 0, 0, 0, 0, 0, 0, 0, 0, 0, 0, 0, 0, 0, 0, 0, 0, 0, 0, 0, 0, 0, 0, 0, 0, 0, 0, 0, 0, 0, 0, 0, 0, 0, 0, 0, 0, 0, 0, 0, 0, 0, 0, 0, 0, 0, 0, 0, 0, 0, 0, 0, 0, 0, 0, 0, 0, 0, 0, 0, 0, 0, 0, 0, 0, 0, 0, 0, 0, 0, 0, 0, 0, 0, 0, 0, 0, 0, 0, 0, 0, 0, 0, 0, 0, 0, 0, 0, 0, 0, 0, 0, 0, 0, 0, 0, 0, 0, 0, 0], [3, 29, 11576, 1636, 11815, 3, 12388, 29, 3, 19978, 5, 24274, 5, 12734, 87, 2266, 1, 0, 0, 0, 0, 0, 0, 0, 0, 0, 0, 0, 0, 0, 0, 0, 0, 0, 0, 0, 0, 0, 0, 0, 0, 0, 0, 0, 0, 0, 0, 0, 0, 0, 0, 0, 0, 0, 0, 0, 0, 0, 0, 0, 0, 0, 0, 0, 0, 0, 0, 0, 0, 0, 0, 0, 0, 0, 0, 0, 0, 0, 0, 0, 0, 0, 0, 0, 0, 0, 0, 0, 0, 0, 0, 0, 0, 0, 0, 0, 0, 0, 0, 0, 0, 0, 0, 0, 0, 0, 0, 0, 0, 0, 0, 0, 0, 0, 0, 0, 0, 0, 0, 0, 0, 0, 0, 0, 0, 0, 0, 0], [3, 29, 11576, 3, 18, 667, 3, 19978, 5, 24274, 5, 12734, 87, 2266, 1, 0, 0, 0, 0, 0, 0, 0, 0, 0, 0, 0, 0, 0, 0, 0, 0, 0, 0, 0, 0, 0, 0, 0, 0, 0, 0, 0, 0, 0, 0, 0, 0, 0, 0, 0, 0, 0, 0, 0, 0, 0, 0, 0, 0, 0, 0, 0, 0, 0, 0, 0, 0, 0, 0, 0, 0, 0, 0, 0, 0, 0, 0, 0, 0, 0, 0, 0, 0, 0, 0, 0, 0, 0, 0, 0, 0, 0, 0, 0, 0, 0, 0, 0, 0, 0, 0, 0, 0, 0, 0, 0, 0, 0, 0, 0, 0, 0, 0, 0, 0, 0, 0, 0, 0, 0, 0, 0, 0, 0, 0, 0, 0, 0], [3, 29, 11576, 3, 18, 7, 1265, 3, 19978, 5, 24274, 5, 12734, 87, 2266, 1, 0, 0, 0, 0, 0, 0, 0, 0, 0, 0, 0, 0, 0, 0, 0, 0, 0, 0, 0, 0, 0, 0, 0, 0, 0, 0, 0, 0, 0, 0, 0, 0, 0, 0, 0, 0, 0, 0, 0, 0, 0, 0, 0, 0, 0, 0, 0, 0, 0, 0, 0, 0, 0, 0, 0, 0, 0, 0, 0, 0, 0, 0, 0, 0, 0, 0, 0, 0, 0, 0, 0, 0, 0, 0, 0, 0, 0, 0, 0, 0, 0, 0, 0, 0, 0, 0, 0, 0, 0, 0, 0, 0, 0, 0, 0, 0, 0, 0, 0, 0, 0, 0, 0, 0, 0, 0, 0, 0, 0, 0, 0, 0], [3, 29, 11576, 3, 18, 7, 29, 3, 19978, 5, 24274, 5, 12734, 87, 2266, 1, 0, 0, 0, 0, 0, 0, 0, 0, 0, 0, 0, 0, 0, 0, 0, 0, 0, 0, 0, 0, 0, 0, 0, 0, 0, 0, 0, 0, 0, 0, 0, 0, 0, 0, 0, 0, 0, 0, 0, 0, 0, 0, 0, 0, 0, 0, 0, 0, 0, 0, 0, 0, 0, 0, 0, 0, 0, 0, 0, 0, 0, 0, 0, 0, 0, 0, 0, 0, 0, 0, 0, 0, 0, 0, 0, 0, 0, 0, 0, 0, 0, 0, 0, 0, 0, 0, 0, 0, 0, 0, 0, 0, 0, 0, 0, 0, 0, 0, 0, 0, 0, 0, 0, 0, 0, 0, 0, 0, 0, 0, 0, 0], [3, 29, 11576, 3, 18, 7, 553, 3, 19978, 5, 24274, 5, 12734, 87, 2266, 1, 0, 0, 0, 0, 0, 0, 0, 0, 0, 0, 0, 0, 0, 0, 0, 0, 0, 0, 0, 0, 0, 0, 0, 0, 0, 0, 0, 0, 0, 0, 0, 0, 0, 0, 0, 0, 0, 0, 0, 0, 0, 0, 0, 0, 0, 0, 0, 0, 0, 0, 0, 0, 0, 0, 0, 0, 0, 0, 0, 0, 0, 0, 0, 0, 0, 0, 0, 0, 0, 0, 0, 0, 0, 0, 0, 0, 0, 0, 0, 0, 0, 0, 0, 0, 0, 0, 0, 0, 0, 0, 0, 0, 0, 0, 0, 0, 0, 0, 0, 0, 0, 0, 0, 0, 0, 0, 0, 0, 0, 0, 0, 0], [3, 29, 11576, 3, 18, 32, 4, 5924, 834, 60, 7, 83, 17, 7, 5, 226, 51, 40, 3, 19978, 5, 24274, 5, 12734, 87, 2266, 1, 0, 0, 0, 0, 0, 0, 0, 0, 0, 0, 0, 0, 0, 0, 0, 0, 0, 0, 0, 0, 0, 0, 0, 0, 0, 0, 0, 0, 0, 0, 0, 0, 0, 0, 0, 0, 0, 0, 0, 0, 0, 0, 0, 0, 0, 0, 0, 0, 0, 0, 0, 0, 0, 0, 0, 0, 0, 0, 0, 0, 0, 0, 0, 0, 0, 0, 0, 0, 0, 0, 0, 0, 0, 0, 0, 0, 0, 0, 0, 0, 0, 0, 0, 0, 0, 0, 0, 0, 0, 0, 0, 0, 0, 0, 0, 0, 0, 0, 0, 0, 0], [3, 29, 11576, 1636, 11815, 3, 7, 7, 40, 18, 35, 440, 18, 3389, 760, 7, 3, 19978, 5, 24274, 5, 12734, 87, 2266, 1, 0, 0, 0, 0, 0, 0, 0, 0, 0, 0, 0, 0, 0, 0, 0, 0, 0, 0, 0, 0, 0, 0, 0, 0, 0, 0, 0, 0, 0, 0, 0, 0, 0, 0, 0, 0, 0, 0, 0, 0, 0, 0, 0, 0, 0, 0, 0, 0, 0, 0, 0, 0, 0, 0, 0, 0, 0, 0, 0, 0, 0, 0, 0, 0, 0, 0, 0, 0, 0, 0, 0, 0, 0, 0, 0, 0, 0, 0, 0, 0, 0, 0, 0, 0, 0, 0, 0, 0, 0, 0, 0, 0, 0, 0, 0, 0, 0, 0, 0, 0, 0, 0, 0], [3, 29, 11576, 3, 18, 667, 3, 19978, 5, 24274, 5, 12734, 87, 2266, 1, 0, 0, 0, 0, 0, 0, 0, 0, 0, 0, 0, 0, 0, 0, 0, 0, 0, 0, 0, 0, 0, 0, 0, 0, 0, 0, 0, 0, 0, 0, 0, 0, 0, 0, 0, 0, 0, 0, 0, 0, 0, 0, 0, 0, 0, 0, 0, 0, 0, 0, 0, 0, 0, 0, 0, 0, 0, 0, 0, 0, 0, 0, 0, 0, 0, 0, 0, 0, 0, 0, 0, 0, 0, 0, 0, 0, 0, 0, 0, 0, 0, 0, 0, 0, 0, 0, 0, 0, 0, 0, 0, 0, 0, 0, 0, 0, 0, 0, 0, 0, 0, 0, 0, 0, 0, 0, 0, 0, 0, 0, 0, 0, 0], [3, 29, 11576, 3, 19978, 5, 24274, 5, 12734, 87, 2266, 1, 0, 0, 0, 0, 0, 0, 0, 0, 0, 0, 0, 0, 0, 0, 0, 0, 0, 0, 0, 0, 0, 0, 0, 0, 0, 0, 0, 0, 0, 0, 0, 0, 0, 0, 0, 0, 0, 0, 0, 0, 0, 0, 0, 0, 0, 0, 0, 0, 0, 0, 0, 0, 0, 0, 0, 0, 0, 0, 0, 0, 0, 0, 0, 0, 0, 0, 0, 0, 0, 0, 0, 0, 0, 0, 0, 0, 0, 0, 0, 0, 0, 0, 0, 0, 0, 0, 0, 0, 0, 0, 0, 0, 0, 0, 0, 0, 0, 0, 0, 0, 0, 0, 0, 0, 0, 0, 0, 0, 0, 0, 0, 0, 0, 0, 0, 0], [3, 29, 11576, 3, 19978, 5, 24274, 5, 12734, 87, 2266, 1636, 17898, 221, 3, 19978, 5, 24274, 5, 11039, 1, 0, 0, 0, 0, 0, 0, 0, 0, 0, 0, 0, 0, 0, 0, 0, 0, 0, 0, 0, 0, 0, 0, 0, 0, 0, 0, 0, 0, 0, 0, 0, 0, 0, 0, 0, 0, 0, 0, 0, 0, 0, 0, 0, 0, 0, 0, 0, 0, 0, 0, 0, 0, 0, 0, 0, 0, 0, 0, 0, 0, 0, 0, 0, 0, 0, 0, 0, 0, 0, 0, 0, 0, 0, 0, 0, 0, 0, 0, 0, 0, 0, 0, 0, 0, 0, 0, 0, 0, 0, 0, 0, 0, 0, 0, 0, 0, 0, 0, 0, 0, 0, 0, 0, 0, 0, 0, 0], [3, 29, 11576, 3, 18, 7, 382, 3, 19978, 5, 24274, 5, 12734, 87, 2266, 1, 0, 0, 0, 0, 0, 0, 0, 0, 0, 0, 0, 0, 0, 0, 0, 0, 0, 0, 0, 0, 0, 0, 0, 0, 0, 0, 0, 0, 0, 0, 0, 0, 0, 0, 0, 0, 0, 0, 0, 0, 0, 0, 0, 0, 0, 0, 0, 0, 0, 0, 0, 0, 0, 0, 0, 0, 0, 0, 0, 0, 0, 0, 0, 0, 0, 0, 0, 0, 0, 0, 0, 0, 0, 0, 0, 0, 0, 0, 0, 0, 0, 0, 0, 0, 0, 0, 0, 0, 0, 0, 0, 0, 0, 0, 0, 0, 0, 0, 0, 0, 0, 0, 0, 0, 0, 0, 0, 0, 0, 0, 0, 0], [3, 29, 11576, 3, 18, 188, 3, 19978, 5, 24274, 5, 12734, 87, 2266, 1, 0, 0, 0, 0, 0, 0, 0, 0, 0, 0, 0, 0, 0, 0, 0, 0, 0, 0, 0, 0, 0, 0, 0, 0, 0, 0, 0, 0, 0, 0, 0, 0, 0, 0, 0, 0, 0, 0, 0, 0, 0, 0, 0, 0, 0, 0, 0, 0, 0, 0, 0, 0, 0, 0, 0, 0, 0, 0, 0, 0, 0, 0, 0, 0, 0, 0, 0, 0, 0, 0, 0, 0, 0, 0, 0, 0, 0, 0, 0, 0, 0, 0, 0, 0, 0, 0, 0, 0, 0, 0, 0, 0, 0, 0, 0, 0, 0, 0, 0, 0, 0, 0, 0, 0, 0, 0, 0, 0, 0, 0, 0, 0, 0], [3, 29, 11576, 3, 18, 32, 567, 5924, 834, 60, 7, 83, 17, 7, 5, 17, 226, 17, 3, 19978, 5, 24274, 5, 12734, 87, 2266, 1, 0, 0, 0, 0, 0, 0, 0, 0, 0, 0, 0, 0, 0, 0, 0, 0, 0, 0, 0, 0, 0, 0, 0, 0, 0, 0, 0, 0, 0, 0, 0, 0, 0, 0, 0, 0, 0, 0, 0, 0, 0, 0, 0, 0, 0, 0, 0, 0, 0, 0, 0, 0, 0, 0, 0, 0, 0, 0, 0, 0, 0, 0, 0, 0, 0, 0, 0, 0, 0, 0, 0, 0, 0, 0, 0, 0, 0, 0, 0, 0, 0, 0, 0, 0, 0, 0, 0, 0, 0, 0, 0, 0, 0, 0, 0, 0, 0, 0, 0, 0, 0], [3, 29, 11576, 3, 18, 102, 1630, 3, 19978, 5, 24274, 5, 12734, 87, 2266, 1, 0, 0, 0, 0, 0, 0, 0, 0, 0, 0, 0, 0, 0, 0, 0, 0, 0, 0, 0, 0, 0, 0, 0, 0, 0, 0, 0, 0, 0, 0, 0, 0, 0, 0, 0, 0, 0, 0, 0, 0, 0, 0, 0, 0, 0, 0, 0, 0, 0, 0, 0, 0, 0, 0, 0, 0, 0, 0, 0, 0, 0, 0, 0, 0, 0, 0, 0, 0, 0, 0, 0, 0, 0, 0, 0, 0, 0, 0, 0, 0, 0, 0, 0, 0, 0, 0, 0, 0, 0, 0, 0, 0, 0, 0, 0, 0, 0, 0, 0, 0, 0, 0, 0, 0, 0, 0, 0, 0, 0, 0, 0, 0], [3, 29, 11576, 3, 18, 102, 3, 27019, 3769, 2469, 3, 19978, 5, 24274, 5, 12734, 87, 2266, 1, 0, 0, 0, 0, 0, 0, 0, 0, 0, 0, 0, 0, 0, 0, 0, 0, 0, 0, 0, 0, 0, 0, 0, 0, 0, 0, 0, 0, 0, 0, 0, 0, 0, 0, 0, 0, 0, 0, 0, 0, 0, 0, 0, 0, 0, 0, 0, 0, 0, 0, 0, 0, 0, 0, 0, 0, 0, 0, 0, 0, 0, 0, 0, 0, 0, 0, 0, 0, 0, 0, 0, 0, 0, 0, 0, 0, 0, 0, 0, 0, 0, 0, 0, 0, 0, 0, 0, 0, 0, 0, 0, 0, 0, 0, 0, 0, 0, 0, 0, 0, 0, 0, 0, 0, 0, 0, 0, 0, 0]]\n"
          ]
        },
        {
          "data": {
            "application/vnd.jupyter.widget-view+json": {
              "model_id": "5e1896d1d95c4ba68f5e8caa985efcd7",
              "version_major": 2,
              "version_minor": 0
            },
            "text/plain": [
              "Map:   0%|          | 0/14 [00:00<?, ? examples/s]"
            ]
          },
          "metadata": {},
          "output_type": "display_data"
        },
        {
          "name": "stdout",
          "output_type": "stream",
          "text": [
            "['nmap -sV 192.168.1.0/24', 'nmap -sA 192.168.1.0/24', 'nmap -v 192.168.1.0/24', 'nmap -sS 192.168.1.0/24', 'nmap -sV 192.168.1.0/24', 'nmap -sP 192.168.1.0/24', 'nmap --open 192.168.1.0/24', 'nmap -sA 192.168.1.0/24', 'nmap -sU 192.168.1.0/24', 'nmap -T4 -F 192.168.1.0/24', 'nmap -p- 192.168.1.0/24', 'nmap -sT 192.168.1.0/24', 'nmap -O 192.168.1.0/24', 'nmap -n 192.168.1.0/24']\n",
            "Input: nmap -sV 192.168.1.0/24 ======>>>> Label: nmap -sV 192.168.1.0/24\n",
            "Input: nmap -sA 192.168.1.0/24 ======>>>> Label: nmap -sA 192.168.1.0/24\n",
            "Input: nmap -v 192.168.1.0/24 ======>>>> Label: nmap -v 192.168.1.0/24\n",
            "Input: nmap -sS 192.168.1.0/24 ======>>>> Label: nmap -sS 192.168.1.0/24\n",
            "Input: nmap -sV 192.168.1.0/24 ======>>>> Label: nmap -sV 192.168.1.0/24\n",
            "Input: nmap -sP 192.168.1.0/24 ======>>>> Label: nmap -sP 192.168.1.0/24\n",
            "Input: nmap --open 192.168.1.0/24 ======>>>> Label: nmap --open 192.168.1.0/24\n",
            "Input: nmap -sA 192.168.1.0/24 ======>>>> Label: nmap -sA 192.168.1.0/24\n",
            "Input: nmap -sU 192.168.1.0/24 ======>>>> Label: nmap -sU 192.168.1.0/24\n",
            "Input: nmap -T4 -F 192.168.1.0/24 ======>>>> Label: nmap -T4 -F 192.168.1.0/24\n",
            "Input: nmap -p- 192.168.1.0/24 ======>>>> Label: nmap -p- 192.168.1.0/24\n",
            "Input: nmap -sT 192.168.1.0/24 ======>>>> Label: nmap -sT 192.168.1.0/24\n",
            "Input: nmap -O 192.168.1.0/24 ======>>>> Label: nmap -O 192.168.1.0/24\n",
            "Input: nmap -n 192.168.1.0/24 ======>>>> Label: nmap -n 192.168.1.0/24\n",
            "[[3, 29, 11576, 3, 18, 7, 553, 3, 19978, 5, 24274, 5, 12734, 87, 2266, 1, 0, 0, 0, 0, 0, 0, 0, 0, 0, 0, 0, 0, 0, 0, 0, 0, 0, 0, 0, 0, 0, 0, 0, 0, 0, 0, 0, 0, 0, 0, 0, 0, 0, 0, 0, 0, 0, 0, 0, 0, 0, 0, 0, 0, 0, 0, 0, 0, 0, 0, 0, 0, 0, 0, 0, 0, 0, 0, 0, 0, 0, 0, 0, 0, 0, 0, 0, 0, 0, 0, 0, 0, 0, 0, 0, 0, 0, 0, 0, 0, 0, 0, 0, 0, 0, 0, 0, 0, 0, 0, 0, 0, 0, 0, 0, 0, 0, 0, 0, 0, 0, 0, 0, 0, 0, 0, 0, 0, 0, 0, 0, 0], [3, 29, 11576, 3, 18, 7, 188, 3, 19978, 5, 24274, 5, 12734, 87, 2266, 1, 0, 0, 0, 0, 0, 0, 0, 0, 0, 0, 0, 0, 0, 0, 0, 0, 0, 0, 0, 0, 0, 0, 0, 0, 0, 0, 0, 0, 0, 0, 0, 0, 0, 0, 0, 0, 0, 0, 0, 0, 0, 0, 0, 0, 0, 0, 0, 0, 0, 0, 0, 0, 0, 0, 0, 0, 0, 0, 0, 0, 0, 0, 0, 0, 0, 0, 0, 0, 0, 0, 0, 0, 0, 0, 0, 0, 0, 0, 0, 0, 0, 0, 0, 0, 0, 0, 0, 0, 0, 0, 0, 0, 0, 0, 0, 0, 0, 0, 0, 0, 0, 0, 0, 0, 0, 0, 0, 0, 0, 0, 0, 0], [3, 29, 11576, 3, 18, 208, 3, 19978, 5, 24274, 5, 12734, 87, 2266, 1, 0, 0, 0, 0, 0, 0, 0, 0, 0, 0, 0, 0, 0, 0, 0, 0, 0, 0, 0, 0, 0, 0, 0, 0, 0, 0, 0, 0, 0, 0, 0, 0, 0, 0, 0, 0, 0, 0, 0, 0, 0, 0, 0, 0, 0, 0, 0, 0, 0, 0, 0, 0, 0, 0, 0, 0, 0, 0, 0, 0, 0, 0, 0, 0, 0, 0, 0, 0, 0, 0, 0, 0, 0, 0, 0, 0, 0, 0, 0, 0, 0, 0, 0, 0, 0, 0, 0, 0, 0, 0, 0, 0, 0, 0, 0, 0, 0, 0, 0, 0, 0, 0, 0, 0, 0, 0, 0, 0, 0, 0, 0, 0, 0], [3, 29, 11576, 3, 18, 7, 134, 3, 19978, 5, 24274, 5, 12734, 87, 2266, 1, 0, 0, 0, 0, 0, 0, 0, 0, 0, 0, 0, 0, 0, 0, 0, 0, 0, 0, 0, 0, 0, 0, 0, 0, 0, 0, 0, 0, 0, 0, 0, 0, 0, 0, 0, 0, 0, 0, 0, 0, 0, 0, 0, 0, 0, 0, 0, 0, 0, 0, 0, 0, 0, 0, 0, 0, 0, 0, 0, 0, 0, 0, 0, 0, 0, 0, 0, 0, 0, 0, 0, 0, 0, 0, 0, 0, 0, 0, 0, 0, 0, 0, 0, 0, 0, 0, 0, 0, 0, 0, 0, 0, 0, 0, 0, 0, 0, 0, 0, 0, 0, 0, 0, 0, 0, 0, 0, 0, 0, 0, 0, 0], [3, 29, 11576, 3, 18, 7, 553, 3, 19978, 5, 24274, 5, 12734, 87, 2266, 1, 0, 0, 0, 0, 0, 0, 0, 0, 0, 0, 0, 0, 0, 0, 0, 0, 0, 0, 0, 0, 0, 0, 0, 0, 0, 0, 0, 0, 0, 0, 0, 0, 0, 0, 0, 0, 0, 0, 0, 0, 0, 0, 0, 0, 0, 0, 0, 0, 0, 0, 0, 0, 0, 0, 0, 0, 0, 0, 0, 0, 0, 0, 0, 0, 0, 0, 0, 0, 0, 0, 0, 0, 0, 0, 0, 0, 0, 0, 0, 0, 0, 0, 0, 0, 0, 0, 0, 0, 0, 0, 0, 0, 0, 0, 0, 0, 0, 0, 0, 0, 0, 0, 0, 0, 0, 0, 0, 0, 0, 0, 0, 0], [3, 29, 11576, 3, 18, 7, 345, 3, 19978, 5, 24274, 5, 12734, 87, 2266, 1, 0, 0, 0, 0, 0, 0, 0, 0, 0, 0, 0, 0, 0, 0, 0, 0, 0, 0, 0, 0, 0, 0, 0, 0, 0, 0, 0, 0, 0, 0, 0, 0, 0, 0, 0, 0, 0, 0, 0, 0, 0, 0, 0, 0, 0, 0, 0, 0, 0, 0, 0, 0, 0, 0, 0, 0, 0, 0, 0, 0, 0, 0, 0, 0, 0, 0, 0, 0, 0, 0, 0, 0, 0, 0, 0, 0, 0, 0, 0, 0, 0, 0, 0, 0, 0, 0, 0, 0, 0, 0, 0, 0, 0, 0, 0, 0, 0, 0, 0, 0, 0, 0, 0, 0, 0, 0, 0, 0, 0, 0, 0, 0], [3, 29, 11576, 1636, 8751, 3, 19978, 5, 24274, 5, 12734, 87, 2266, 1, 0, 0, 0, 0, 0, 0, 0, 0, 0, 0, 0, 0, 0, 0, 0, 0, 0, 0, 0, 0, 0, 0, 0, 0, 0, 0, 0, 0, 0, 0, 0, 0, 0, 0, 0, 0, 0, 0, 0, 0, 0, 0, 0, 0, 0, 0, 0, 0, 0, 0, 0, 0, 0, 0, 0, 0, 0, 0, 0, 0, 0, 0, 0, 0, 0, 0, 0, 0, 0, 0, 0, 0, 0, 0, 0, 0, 0, 0, 0, 0, 0, 0, 0, 0, 0, 0, 0, 0, 0, 0, 0, 0, 0, 0, 0, 0, 0, 0, 0, 0, 0, 0, 0, 0, 0, 0, 0, 0, 0, 0, 0, 0, 0, 0], [3, 29, 11576, 3, 18, 7, 188, 3, 19978, 5, 24274, 5, 12734, 87, 2266, 1, 0, 0, 0, 0, 0, 0, 0, 0, 0, 0, 0, 0, 0, 0, 0, 0, 0, 0, 0, 0, 0, 0, 0, 0, 0, 0, 0, 0, 0, 0, 0, 0, 0, 0, 0, 0, 0, 0, 0, 0, 0, 0, 0, 0, 0, 0, 0, 0, 0, 0, 0, 0, 0, 0, 0, 0, 0, 0, 0, 0, 0, 0, 0, 0, 0, 0, 0, 0, 0, 0, 0, 0, 0, 0, 0, 0, 0, 0, 0, 0, 0, 0, 0, 0, 0, 0, 0, 0, 0, 0, 0, 0, 0, 0, 0, 0, 0, 0, 0, 0, 0, 0, 0, 0, 0, 0, 0, 0, 0, 0, 0, 0], [3, 29, 11576, 3, 18, 7, 1265, 3, 19978, 5, 24274, 5, 12734, 87, 2266, 1, 0, 0, 0, 0, 0, 0, 0, 0, 0, 0, 0, 0, 0, 0, 0, 0, 0, 0, 0, 0, 0, 0, 0, 0, 0, 0, 0, 0, 0, 0, 0, 0, 0, 0, 0, 0, 0, 0, 0, 0, 0, 0, 0, 0, 0, 0, 0, 0, 0, 0, 0, 0, 0, 0, 0, 0, 0, 0, 0, 0, 0, 0, 0, 0, 0, 0, 0, 0, 0, 0, 0, 0, 0, 0, 0, 0, 0, 0, 0, 0, 0, 0, 0, 0, 0, 0, 0, 0, 0, 0, 0, 0, 0, 0, 0, 0, 0, 0, 0, 0, 0, 0, 0, 0, 0, 0, 0, 0, 0, 0, 0, 0], [3, 29, 11576, 3, 18, 382, 591, 3, 18, 371, 3, 19978, 5, 24274, 5, 12734, 87, 2266, 1, 0, 0, 0, 0, 0, 0, 0, 0, 0, 0, 0, 0, 0, 0, 0, 0, 0, 0, 0, 0, 0, 0, 0, 0, 0, 0, 0, 0, 0, 0, 0, 0, 0, 0, 0, 0, 0, 0, 0, 0, 0, 0, 0, 0, 0, 0, 0, 0, 0, 0, 0, 0, 0, 0, 0, 0, 0, 0, 0, 0, 0, 0, 0, 0, 0, 0, 0, 0, 0, 0, 0, 0, 0, 0, 0, 0, 0, 0, 0, 0, 0, 0, 0, 0, 0, 0, 0, 0, 0, 0, 0, 0, 0, 0, 0, 0, 0, 0, 0, 0, 0, 0, 0, 0, 0, 0, 0, 0, 0], [3, 29, 11576, 3, 18, 102, 18, 3, 19978, 5, 24274, 5, 12734, 87, 2266, 1, 0, 0, 0, 0, 0, 0, 0, 0, 0, 0, 0, 0, 0, 0, 0, 0, 0, 0, 0, 0, 0, 0, 0, 0, 0, 0, 0, 0, 0, 0, 0, 0, 0, 0, 0, 0, 0, 0, 0, 0, 0, 0, 0, 0, 0, 0, 0, 0, 0, 0, 0, 0, 0, 0, 0, 0, 0, 0, 0, 0, 0, 0, 0, 0, 0, 0, 0, 0, 0, 0, 0, 0, 0, 0, 0, 0, 0, 0, 0, 0, 0, 0, 0, 0, 0, 0, 0, 0, 0, 0, 0, 0, 0, 0, 0, 0, 0, 0, 0, 0, 0, 0, 0, 0, 0, 0, 0, 0, 0, 0, 0, 0], [3, 29, 11576, 3, 18, 7, 382, 3, 19978, 5, 24274, 5, 12734, 87, 2266, 1, 0, 0, 0, 0, 0, 0, 0, 0, 0, 0, 0, 0, 0, 0, 0, 0, 0, 0, 0, 0, 0, 0, 0, 0, 0, 0, 0, 0, 0, 0, 0, 0, 0, 0, 0, 0, 0, 0, 0, 0, 0, 0, 0, 0, 0, 0, 0, 0, 0, 0, 0, 0, 0, 0, 0, 0, 0, 0, 0, 0, 0, 0, 0, 0, 0, 0, 0, 0, 0, 0, 0, 0, 0, 0, 0, 0, 0, 0, 0, 0, 0, 0, 0, 0, 0, 0, 0, 0, 0, 0, 0, 0, 0, 0, 0, 0, 0, 0, 0, 0, 0, 0, 0, 0, 0, 0, 0, 0, 0, 0, 0, 0], [3, 29, 11576, 3, 18, 667, 3, 19978, 5, 24274, 5, 12734, 87, 2266, 1, 0, 0, 0, 0, 0, 0, 0, 0, 0, 0, 0, 0, 0, 0, 0, 0, 0, 0, 0, 0, 0, 0, 0, 0, 0, 0, 0, 0, 0, 0, 0, 0, 0, 0, 0, 0, 0, 0, 0, 0, 0, 0, 0, 0, 0, 0, 0, 0, 0, 0, 0, 0, 0, 0, 0, 0, 0, 0, 0, 0, 0, 0, 0, 0, 0, 0, 0, 0, 0, 0, 0, 0, 0, 0, 0, 0, 0, 0, 0, 0, 0, 0, 0, 0, 0, 0, 0, 0, 0, 0, 0, 0, 0, 0, 0, 0, 0, 0, 0, 0, 0, 0, 0, 0, 0, 0, 0, 0, 0, 0, 0, 0, 0], [3, 29, 11576, 3, 18, 29, 3, 19978, 5, 24274, 5, 12734, 87, 2266, 1, 0, 0, 0, 0, 0, 0, 0, 0, 0, 0, 0, 0, 0, 0, 0, 0, 0, 0, 0, 0, 0, 0, 0, 0, 0, 0, 0, 0, 0, 0, 0, 0, 0, 0, 0, 0, 0, 0, 0, 0, 0, 0, 0, 0, 0, 0, 0, 0, 0, 0, 0, 0, 0, 0, 0, 0, 0, 0, 0, 0, 0, 0, 0, 0, 0, 0, 0, 0, 0, 0, 0, 0, 0, 0, 0, 0, 0, 0, 0, 0, 0, 0, 0, 0, 0, 0, 0, 0, 0, 0, 0, 0, 0, 0, 0, 0, 0, 0, 0, 0, 0, 0, 0, 0, 0, 0, 0, 0, 0, 0, 0, 0, 0]]\n",
            "Dataset({\n",
            "    features: ['input', 'output', '__index_level_0__', 'input_ids', 'attention_mask', 'labels'],\n",
            "    num_rows: 54\n",
            "})\n",
            "Dataset({\n",
            "    features: ['input', 'output', '__index_level_0__', 'input_ids', 'attention_mask', 'labels'],\n",
            "    num_rows: 14\n",
            "})\n",
            "nmap -sV 192.168.1.0/24</s><pad><pad><pad><pad><pad><pad><pad><pad><pad><pad><pad><pad><pad><pad><pad><pad><pad><pad><pad><pad><pad><pad><pad><pad><pad><pad><pad><pad><pad><pad><pad><pad><pad><pad><pad><pad><pad><pad><pad><pad><pad><pad><pad><pad><pad><pad><pad><pad><pad><pad><pad><pad><pad><pad><pad><pad><pad><pad><pad><pad><pad><pad><pad><pad><pad><pad><pad><pad><pad><pad><pad><pad><pad><pad><pad><pad><pad><pad><pad><pad><pad><pad><pad><pad><pad><pad><pad><pad><pad><pad><pad><pad><pad><pad><pad><pad><pad><pad><pad><pad><pad><pad><pad><pad><pad><pad><pad><pad><pad><pad><pad><pad> Probe 192.168.1.0/24 for services with Nmap's version detection.</s><pad><pad><pad><pad><pad><pad><pad><pad><pad><pad><pad><pad><pad><pad><pad><pad><pad><pad><pad><pad><pad><pad><pad><pad><pad><pad><pad><pad><pad><pad><pad><pad><pad><pad><pad><pad><pad><pad><pad><pad><pad><pad><pad><pad><pad><pad><pad><pad><pad><pad><pad><pad><pad><pad><pad><pad><pad><pad><pad><pad><pad><pad><pad><pad><pad><pad><pad><pad><pad><pad><pad><pad><pad><pad><pad><pad><pad><pad><pad><pad><pad><pad><pad><pad><pad><pad><pad><pad><pad><pad><pad><pad><pad><pad><pad><pad><pad><pad><pad><pad><pad><pad><pad><pad><pad><pad><pad><pad>\n",
            "nmap -sA 192.168.1.0/24</s><pad><pad><pad><pad><pad><pad><pad><pad><pad><pad><pad><pad><pad><pad><pad><pad><pad><pad><pad><pad><pad><pad><pad><pad><pad><pad><pad><pad><pad><pad><pad><pad><pad><pad><pad><pad><pad><pad><pad><pad><pad><pad><pad><pad><pad><pad><pad><pad><pad><pad><pad><pad><pad><pad><pad><pad><pad><pad><pad><pad><pad><pad><pad><pad><pad><pad><pad><pad><pad><pad><pad><pad><pad><pad><pad><pad><pad><pad><pad><pad><pad><pad><pad><pad><pad><pad><pad><pad><pad><pad><pad><pad><pad><pad><pad><pad><pad><pad><pad><pad><pad><pad><pad><pad><pad><pad><pad><pad><pad><pad><pad><pad> Scan 192.168.1.0/24 network and detect firewall presence with Nmap.</s><pad><pad><pad><pad><pad><pad><pad><pad><pad><pad><pad><pad><pad><pad><pad><pad><pad><pad><pad><pad><pad><pad><pad><pad><pad><pad><pad><pad><pad><pad><pad><pad><pad><pad><pad><pad><pad><pad><pad><pad><pad><pad><pad><pad><pad><pad><pad><pad><pad><pad><pad><pad><pad><pad><pad><pad><pad><pad><pad><pad><pad><pad><pad><pad><pad><pad><pad><pad><pad><pad><pad><pad><pad><pad><pad><pad><pad><pad><pad><pad><pad><pad><pad><pad><pad><pad><pad><pad><pad><pad><pad><pad><pad><pad><pad><pad><pad><pad><pad><pad><pad><pad><pad><pad><pad><pad><pad><pad>\n",
            "nmap -v 192.168.1.0/24</s><pad><pad><pad><pad><pad><pad><pad><pad><pad><pad><pad><pad><pad><pad><pad><pad><pad><pad><pad><pad><pad><pad><pad><pad><pad><pad><pad><pad><pad><pad><pad><pad><pad><pad><pad><pad><pad><pad><pad><pad><pad><pad><pad><pad><pad><pad><pad><pad><pad><pad><pad><pad><pad><pad><pad><pad><pad><pad><pad><pad><pad><pad><pad><pad><pad><pad><pad><pad><pad><pad><pad><pad><pad><pad><pad><pad><pad><pad><pad><pad><pad><pad><pad><pad><pad><pad><pad><pad><pad><pad><pad><pad><pad><pad><pad><pad><pad><pad><pad><pad><pad><pad><pad><pad><pad><pad><pad><pad><pad><pad><pad><pad><pad> Identify devices in 192.168.1.0/24 subnet with Nmap and display verbose output.</s><pad><pad><pad><pad><pad><pad><pad><pad><pad><pad><pad><pad><pad><pad><pad><pad><pad><pad><pad><pad><pad><pad><pad><pad><pad><pad><pad><pad><pad><pad><pad><pad><pad><pad><pad><pad><pad><pad><pad><pad><pad><pad><pad><pad><pad><pad><pad><pad><pad><pad><pad><pad><pad><pad><pad><pad><pad><pad><pad><pad><pad><pad><pad><pad><pad><pad><pad><pad><pad><pad><pad><pad><pad><pad><pad><pad><pad><pad><pad><pad><pad><pad><pad><pad><pad><pad><pad><pad><pad><pad><pad><pad><pad><pad><pad><pad><pad><pad><pad><pad><pad><pad>\n",
            "nmap -sS 192.168.1.0/24</s><pad><pad><pad><pad><pad><pad><pad><pad><pad><pad><pad><pad><pad><pad><pad><pad><pad><pad><pad><pad><pad><pad><pad><pad><pad><pad><pad><pad><pad><pad><pad><pad><pad><pad><pad><pad><pad><pad><pad><pad><pad><pad><pad><pad><pad><pad><pad><pad><pad><pad><pad><pad><pad><pad><pad><pad><pad><pad><pad><pad><pad><pad><pad><pad><pad><pad><pad><pad><pad><pad><pad><pad><pad><pad><pad><pad><pad><pad><pad><pad><pad><pad><pad><pad><pad><pad><pad><pad><pad><pad><pad><pad><pad><pad><pad><pad><pad><pad><pad><pad><pad><pad><pad><pad><pad><pad><pad><pad><pad><pad><pad><pad> Perform a stealth scan on 192.168.1.0/24 subnet with Nmap.</s><pad><pad><pad><pad><pad><pad><pad><pad><pad><pad><pad><pad><pad><pad><pad><pad><pad><pad><pad><pad><pad><pad><pad><pad><pad><pad><pad><pad><pad><pad><pad><pad><pad><pad><pad><pad><pad><pad><pad><pad><pad><pad><pad><pad><pad><pad><pad><pad><pad><pad><pad><pad><pad><pad><pad><pad><pad><pad><pad><pad><pad><pad><pad><pad><pad><pad><pad><pad><pad><pad><pad><pad><pad><pad><pad><pad><pad><pad><pad><pad><pad><pad><pad><pad><pad><pad><pad><pad><pad><pad><pad><pad><pad><pad><pad><pad><pad><pad><pad><pad><pad><pad><pad><pad><pad><pad>\n",
            "nmap -sV 192.168.1.0/24</s><pad><pad><pad><pad><pad><pad><pad><pad><pad><pad><pad><pad><pad><pad><pad><pad><pad><pad><pad><pad><pad><pad><pad><pad><pad><pad><pad><pad><pad><pad><pad><pad><pad><pad><pad><pad><pad><pad><pad><pad><pad><pad><pad><pad><pad><pad><pad><pad><pad><pad><pad><pad><pad><pad><pad><pad><pad><pad><pad><pad><pad><pad><pad><pad><pad><pad><pad><pad><pad><pad><pad><pad><pad><pad><pad><pad><pad><pad><pad><pad><pad><pad><pad><pad><pad><pad><pad><pad><pad><pad><pad><pad><pad><pad><pad><pad><pad><pad><pad><pad><pad><pad><pad><pad><pad><pad><pad><pad><pad><pad><pad><pad> Scan 192.168.1.0/24 network and perform a service version detection.</s><pad><pad><pad><pad><pad><pad><pad><pad><pad><pad><pad><pad><pad><pad><pad><pad><pad><pad><pad><pad><pad><pad><pad><pad><pad><pad><pad><pad><pad><pad><pad><pad><pad><pad><pad><pad><pad><pad><pad><pad><pad><pad><pad><pad><pad><pad><pad><pad><pad><pad><pad><pad><pad><pad><pad><pad><pad><pad><pad><pad><pad><pad><pad><pad><pad><pad><pad><pad><pad><pad><pad><pad><pad><pad><pad><pad><pad><pad><pad><pad><pad><pad><pad><pad><pad><pad><pad><pad><pad><pad><pad><pad><pad><pad><pad><pad><pad><pad><pad><pad><pad><pad><pad><pad><pad><pad><pad><pad>\n",
            "nmap -sP 192.168.1.0/24</s><pad><pad><pad><pad><pad><pad><pad><pad><pad><pad><pad><pad><pad><pad><pad><pad><pad><pad><pad><pad><pad><pad><pad><pad><pad><pad><pad><pad><pad><pad><pad><pad><pad><pad><pad><pad><pad><pad><pad><pad><pad><pad><pad><pad><pad><pad><pad><pad><pad><pad><pad><pad><pad><pad><pad><pad><pad><pad><pad><pad><pad><pad><pad><pad><pad><pad><pad><pad><pad><pad><pad><pad><pad><pad><pad><pad><pad><pad><pad><pad><pad><pad><pad><pad><pad><pad><pad><pad><pad><pad><pad><pad><pad><pad><pad><pad><pad><pad><pad><pad><pad><pad><pad><pad><pad><pad><pad><pad><pad><pad><pad><pad> Investigate which IP addresses are up in the 192.168.1.0/24 subnet using Nmap.</s><pad><pad><pad><pad><pad><pad><pad><pad><pad><pad><pad><pad><pad><pad><pad><pad><pad><pad><pad><pad><pad><pad><pad><pad><pad><pad><pad><pad><pad><pad><pad><pad><pad><pad><pad><pad><pad><pad><pad><pad><pad><pad><pad><pad><pad><pad><pad><pad><pad><pad><pad><pad><pad><pad><pad><pad><pad><pad><pad><pad><pad><pad><pad><pad><pad><pad><pad><pad><pad><pad><pad><pad><pad><pad><pad><pad><pad><pad><pad><pad><pad><pad><pad><pad><pad><pad><pad><pad><pad><pad><pad><pad><pad><pad><pad><pad><pad><pad><pad><pad><pad><pad><pad>\n",
            "nmap --open 192.168.1.0/24</s><pad><pad><pad><pad><pad><pad><pad><pad><pad><pad><pad><pad><pad><pad><pad><pad><pad><pad><pad><pad><pad><pad><pad><pad><pad><pad><pad><pad><pad><pad><pad><pad><pad><pad><pad><pad><pad><pad><pad><pad><pad><pad><pad><pad><pad><pad><pad><pad><pad><pad><pad><pad><pad><pad><pad><pad><pad><pad><pad><pad><pad><pad><pad><pad><pad><pad><pad><pad><pad><pad><pad><pad><pad><pad><pad><pad><pad><pad><pad><pad><pad><pad><pad><pad><pad><pad><pad><pad><pad><pad><pad><pad><pad><pad><pad><pad><pad><pad><pad><pad><pad><pad><pad><pad><pad><pad><pad><pad><pad><pad><pad><pad><pad><pad> Scan 192.168.1.0/24 network and only show open ports.</s><pad><pad><pad><pad><pad><pad><pad><pad><pad><pad><pad><pad><pad><pad><pad><pad><pad><pad><pad><pad><pad><pad><pad><pad><pad><pad><pad><pad><pad><pad><pad><pad><pad><pad><pad><pad><pad><pad><pad><pad><pad><pad><pad><pad><pad><pad><pad><pad><pad><pad><pad><pad><pad><pad><pad><pad><pad><pad><pad><pad><pad><pad><pad><pad><pad><pad><pad><pad><pad><pad><pad><pad><pad><pad><pad><pad><pad><pad><pad><pad><pad><pad><pad><pad><pad><pad><pad><pad><pad><pad><pad><pad><pad><pad><pad><pad><pad><pad><pad><pad><pad><pad><pad><pad><pad><pad><pad><pad><pad><pad>\n",
            "nmap -sA 192.168.1.0/24</s><pad><pad><pad><pad><pad><pad><pad><pad><pad><pad><pad><pad><pad><pad><pad><pad><pad><pad><pad><pad><pad><pad><pad><pad><pad><pad><pad><pad><pad><pad><pad><pad><pad><pad><pad><pad><pad><pad><pad><pad><pad><pad><pad><pad><pad><pad><pad><pad><pad><pad><pad><pad><pad><pad><pad><pad><pad><pad><pad><pad><pad><pad><pad><pad><pad><pad><pad><pad><pad><pad><pad><pad><pad><pad><pad><pad><pad><pad><pad><pad><pad><pad><pad><pad><pad><pad><pad><pad><pad><pad><pad><pad><pad><pad><pad><pad><pad><pad><pad><pad><pad><pad><pad><pad><pad><pad><pad><pad><pad><pad><pad><pad> Scan 192.168.1.0/24 network and detect firewall presence with Nmap.</s><pad><pad><pad><pad><pad><pad><pad><pad><pad><pad><pad><pad><pad><pad><pad><pad><pad><pad><pad><pad><pad><pad><pad><pad><pad><pad><pad><pad><pad><pad><pad><pad><pad><pad><pad><pad><pad><pad><pad><pad><pad><pad><pad><pad><pad><pad><pad><pad><pad><pad><pad><pad><pad><pad><pad><pad><pad><pad><pad><pad><pad><pad><pad><pad><pad><pad><pad><pad><pad><pad><pad><pad><pad><pad><pad><pad><pad><pad><pad><pad><pad><pad><pad><pad><pad><pad><pad><pad><pad><pad><pad><pad><pad><pad><pad><pad><pad><pad><pad><pad><pad><pad><pad><pad><pad><pad><pad><pad>\n",
            "nmap -sU 192.168.1.0/24</s><pad><pad><pad><pad><pad><pad><pad><pad><pad><pad><pad><pad><pad><pad><pad><pad><pad><pad><pad><pad><pad><pad><pad><pad><pad><pad><pad><pad><pad><pad><pad><pad><pad><pad><pad><pad><pad><pad><pad><pad><pad><pad><pad><pad><pad><pad><pad><pad><pad><pad><pad><pad><pad><pad><pad><pad><pad><pad><pad><pad><pad><pad><pad><pad><pad><pad><pad><pad><pad><pad><pad><pad><pad><pad><pad><pad><pad><pad><pad><pad><pad><pad><pad><pad><pad><pad><pad><pad><pad><pad><pad><pad><pad><pad><pad><pad><pad><pad><pad><pad><pad><pad><pad><pad><pad><pad><pad><pad><pad><pad><pad><pad> Scan 192.168.1.0/24 network and perform a UDP scan.</s><pad><pad><pad><pad><pad><pad><pad><pad><pad><pad><pad><pad><pad><pad><pad><pad><pad><pad><pad><pad><pad><pad><pad><pad><pad><pad><pad><pad><pad><pad><pad><pad><pad><pad><pad><pad><pad><pad><pad><pad><pad><pad><pad><pad><pad><pad><pad><pad><pad><pad><pad><pad><pad><pad><pad><pad><pad><pad><pad><pad><pad><pad><pad><pad><pad><pad><pad><pad><pad><pad><pad><pad><pad><pad><pad><pad><pad><pad><pad><pad><pad><pad><pad><pad><pad><pad><pad><pad><pad><pad><pad><pad><pad><pad><pad><pad><pad><pad><pad><pad><pad><pad><pad><pad><pad><pad><pad><pad>\n",
            "nmap -T4 -F 192.168.1.0/24</s><pad><pad><pad><pad><pad><pad><pad><pad><pad><pad><pad><pad><pad><pad><pad><pad><pad><pad><pad><pad><pad><pad><pad><pad><pad><pad><pad><pad><pad><pad><pad><pad><pad><pad><pad><pad><pad><pad><pad><pad><pad><pad><pad><pad><pad><pad><pad><pad><pad><pad><pad><pad><pad><pad><pad><pad><pad><pad><pad><pad><pad><pad><pad><pad><pad><pad><pad><pad><pad><pad><pad><pad><pad><pad><pad><pad><pad><pad><pad><pad><pad><pad><pad><pad><pad><pad><pad><pad><pad><pad><pad><pad><pad><pad><pad><pad><pad><pad><pad><pad><pad><pad><pad><pad><pad><pad><pad><pad><pad> Scan 192.168.1.0/24 network and perform a quick scan with Nmap.</s><pad><pad><pad><pad><pad><pad><pad><pad><pad><pad><pad><pad><pad><pad><pad><pad><pad><pad><pad><pad><pad><pad><pad><pad><pad><pad><pad><pad><pad><pad><pad><pad><pad><pad><pad><pad><pad><pad><pad><pad><pad><pad><pad><pad><pad><pad><pad><pad><pad><pad><pad><pad><pad><pad><pad><pad><pad><pad><pad><pad><pad><pad><pad><pad><pad><pad><pad><pad><pad><pad><pad><pad><pad><pad><pad><pad><pad><pad><pad><pad><pad><pad><pad><pad><pad><pad><pad><pad><pad><pad><pad><pad><pad><pad><pad><pad><pad><pad><pad><pad><pad><pad><pad><pad><pad><pad>\n",
            "nmap -p- 192.168.1.0/24</s><pad><pad><pad><pad><pad><pad><pad><pad><pad><pad><pad><pad><pad><pad><pad><pad><pad><pad><pad><pad><pad><pad><pad><pad><pad><pad><pad><pad><pad><pad><pad><pad><pad><pad><pad><pad><pad><pad><pad><pad><pad><pad><pad><pad><pad><pad><pad><pad><pad><pad><pad><pad><pad><pad><pad><pad><pad><pad><pad><pad><pad><pad><pad><pad><pad><pad><pad><pad><pad><pad><pad><pad><pad><pad><pad><pad><pad><pad><pad><pad><pad><pad><pad><pad><pad><pad><pad><pad><pad><pad><pad><pad><pad><pad><pad><pad><pad><pad><pad><pad><pad><pad><pad><pad><pad><pad><pad><pad><pad><pad><pad><pad> Scan 192.168.1.0/24 network and perform a full port scan.</s><pad><pad><pad><pad><pad><pad><pad><pad><pad><pad><pad><pad><pad><pad><pad><pad><pad><pad><pad><pad><pad><pad><pad><pad><pad><pad><pad><pad><pad><pad><pad><pad><pad><pad><pad><pad><pad><pad><pad><pad><pad><pad><pad><pad><pad><pad><pad><pad><pad><pad><pad><pad><pad><pad><pad><pad><pad><pad><pad><pad><pad><pad><pad><pad><pad><pad><pad><pad><pad><pad><pad><pad><pad><pad><pad><pad><pad><pad><pad><pad><pad><pad><pad><pad><pad><pad><pad><pad><pad><pad><pad><pad><pad><pad><pad><pad><pad><pad><pad><pad><pad><pad><pad><pad><pad><pad><pad><pad>\n",
            "nmap -sT 192.168.1.0/24</s><pad><pad><pad><pad><pad><pad><pad><pad><pad><pad><pad><pad><pad><pad><pad><pad><pad><pad><pad><pad><pad><pad><pad><pad><pad><pad><pad><pad><pad><pad><pad><pad><pad><pad><pad><pad><pad><pad><pad><pad><pad><pad><pad><pad><pad><pad><pad><pad><pad><pad><pad><pad><pad><pad><pad><pad><pad><pad><pad><pad><pad><pad><pad><pad><pad><pad><pad><pad><pad><pad><pad><pad><pad><pad><pad><pad><pad><pad><pad><pad><pad><pad><pad><pad><pad><pad><pad><pad><pad><pad><pad><pad><pad><pad><pad><pad><pad><pad><pad><pad><pad><pad><pad><pad><pad><pad><pad><pad><pad><pad><pad><pad> Scan 192.168.1.0/24 network and perform a TCP connect scan.</s><pad><pad><pad><pad><pad><pad><pad><pad><pad><pad><pad><pad><pad><pad><pad><pad><pad><pad><pad><pad><pad><pad><pad><pad><pad><pad><pad><pad><pad><pad><pad><pad><pad><pad><pad><pad><pad><pad><pad><pad><pad><pad><pad><pad><pad><pad><pad><pad><pad><pad><pad><pad><pad><pad><pad><pad><pad><pad><pad><pad><pad><pad><pad><pad><pad><pad><pad><pad><pad><pad><pad><pad><pad><pad><pad><pad><pad><pad><pad><pad><pad><pad><pad><pad><pad><pad><pad><pad><pad><pad><pad><pad><pad><pad><pad><pad><pad><pad><pad><pad><pad><pad><pad><pad><pad><pad><pad>\n",
            "nmap -O 192.168.1.0/24</s><pad><pad><pad><pad><pad><pad><pad><pad><pad><pad><pad><pad><pad><pad><pad><pad><pad><pad><pad><pad><pad><pad><pad><pad><pad><pad><pad><pad><pad><pad><pad><pad><pad><pad><pad><pad><pad><pad><pad><pad><pad><pad><pad><pad><pad><pad><pad><pad><pad><pad><pad><pad><pad><pad><pad><pad><pad><pad><pad><pad><pad><pad><pad><pad><pad><pad><pad><pad><pad><pad><pad><pad><pad><pad><pad><pad><pad><pad><pad><pad><pad><pad><pad><pad><pad><pad><pad><pad><pad><pad><pad><pad><pad><pad><pad><pad><pad><pad><pad><pad><pad><pad><pad><pad><pad><pad><pad><pad><pad><pad><pad><pad><pad> Identify OS of devices in 192.168.1.0/24 subnet with Nmap.</s><pad><pad><pad><pad><pad><pad><pad><pad><pad><pad><pad><pad><pad><pad><pad><pad><pad><pad><pad><pad><pad><pad><pad><pad><pad><pad><pad><pad><pad><pad><pad><pad><pad><pad><pad><pad><pad><pad><pad><pad><pad><pad><pad><pad><pad><pad><pad><pad><pad><pad><pad><pad><pad><pad><pad><pad><pad><pad><pad><pad><pad><pad><pad><pad><pad><pad><pad><pad><pad><pad><pad><pad><pad><pad><pad><pad><pad><pad><pad><pad><pad><pad><pad><pad><pad><pad><pad><pad><pad><pad><pad><pad><pad><pad><pad><pad><pad><pad><pad><pad><pad><pad><pad><pad><pad><pad><pad>\n",
            "nmap -n 192.168.1.0/24</s><pad><pad><pad><pad><pad><pad><pad><pad><pad><pad><pad><pad><pad><pad><pad><pad><pad><pad><pad><pad><pad><pad><pad><pad><pad><pad><pad><pad><pad><pad><pad><pad><pad><pad><pad><pad><pad><pad><pad><pad><pad><pad><pad><pad><pad><pad><pad><pad><pad><pad><pad><pad><pad><pad><pad><pad><pad><pad><pad><pad><pad><pad><pad><pad><pad><pad><pad><pad><pad><pad><pad><pad><pad><pad><pad><pad><pad><pad><pad><pad><pad><pad><pad><pad><pad><pad><pad><pad><pad><pad><pad><pad><pad><pad><pad><pad><pad><pad><pad><pad><pad><pad><pad><pad><pad><pad><pad><pad><pad><pad><pad><pad><pad> Scan 192.168.1.0/24 network and disable DNS resolution.</s><pad><pad><pad><pad><pad><pad><pad><pad><pad><pad><pad><pad><pad><pad><pad><pad><pad><pad><pad><pad><pad><pad><pad><pad><pad><pad><pad><pad><pad><pad><pad><pad><pad><pad><pad><pad><pad><pad><pad><pad><pad><pad><pad><pad><pad><pad><pad><pad><pad><pad><pad><pad><pad><pad><pad><pad><pad><pad><pad><pad><pad><pad><pad><pad><pad><pad><pad><pad><pad><pad><pad><pad><pad><pad><pad><pad><pad><pad><pad><pad><pad><pad><pad><pad><pad><pad><pad><pad><pad><pad><pad><pad><pad><pad><pad><pad><pad><pad><pad><pad><pad><pad><pad><pad><pad><pad><pad><pad><pad><pad><pad>\n"
          ]
        }
      ],
      "source": [
        "token_train_data = train_data.map(preprocess , batched=True)\n",
        "\n",
        "token_val_data = validation_data.map(preprocess , batched=True)\n",
        "\n",
        "print(token_train_data)\n",
        "\n",
        "print(token_val_data)\n",
        "\n",
        "# for i in token_train_data:\n",
        "\n",
        "#   for input_ids, label_ids in zip(token_train_data[\"labels\"], token_train_data[\"input_ids\"]):\n",
        "#     decoded_input = tokenizer.decode(input_ids, skip_special_tokens=True)\n",
        "#     decoded_label = tokenizer.decode(label_ids, skip_special_tokens=True)\n",
        "#     print(f\"Input: {decoded_input} ======>>>> Label: {decoded_label}\")\n",
        "\n",
        "# print()\n",
        "\n",
        "for i in token_val_data:\n",
        "\n",
        "  print(tokenizer.decode(i['labels']), tokenizer.decode(i['input_ids']))"
      ]
    },
    {
      "cell_type": "code",
      "execution_count": null,
      "metadata": {
        "colab": {
          "background_save": true
        },
        "id": "ro4Luso87KsQ"
      },
      "outputs": [],
      "source": []
    },
    {
      "cell_type": "code",
      "execution_count": null,
      "metadata": {
        "colab": {
          "background_save": true
        },
        "id": "HVuNdSAg69GA",
        "outputId": "81d75b34-5685-4e54-d157-195deaf4fcdb"
      },
      "outputs": [
        {
          "name": "stdout",
          "output_type": "stream",
          "text": [
            "Requirement already satisfied: accelerate in /usr/local/lib/python3.10/dist-packages (0.32.1)\n",
            "Collecting accelerate\n",
            "  Downloading accelerate-0.33.0-py3-none-any.whl (315 kB)\n",
            "\u001b[2K     \u001b[90m━━━━━━━━━━━━━━━━━━━━━━━━━━━━━━━━━━━━━━━━\u001b[0m \u001b[32m315.1/315.1 kB\u001b[0m \u001b[31m5.7 MB/s\u001b[0m eta \u001b[36m0:00:00\u001b[0m\n",
            "\u001b[?25hRequirement already satisfied: numpy<2.0.0,>=1.17 in /usr/local/lib/python3.10/dist-packages (from accelerate) (1.25.2)\n",
            "Requirement already satisfied: packaging>=20.0 in /usr/local/lib/python3.10/dist-packages (from accelerate) (24.1)\n",
            "Requirement already satisfied: psutil in /usr/local/lib/python3.10/dist-packages (from accelerate) (5.9.5)\n",
            "Requirement already satisfied: pyyaml in /usr/local/lib/python3.10/dist-packages (from accelerate) (6.0.1)\n",
            "Requirement already satisfied: torch>=1.10.0 in /usr/local/lib/python3.10/dist-packages (from accelerate) (2.3.1+cu121)\n",
            "Requirement already satisfied: huggingface-hub>=0.21.0 in /usr/local/lib/python3.10/dist-packages (from accelerate) (0.23.5)\n",
            "Requirement already satisfied: safetensors>=0.3.1 in /usr/local/lib/python3.10/dist-packages (from accelerate) (0.4.3)\n",
            "Requirement already satisfied: filelock in /usr/local/lib/python3.10/dist-packages (from huggingface-hub>=0.21.0->accelerate) (3.15.4)\n",
            "Requirement already satisfied: fsspec>=2023.5.0 in /usr/local/lib/python3.10/dist-packages (from huggingface-hub>=0.21.0->accelerate) (2023.6.0)\n",
            "Requirement already satisfied: requests in /usr/local/lib/python3.10/dist-packages (from huggingface-hub>=0.21.0->accelerate) (2.32.3)\n",
            "Requirement already satisfied: tqdm>=4.42.1 in /usr/local/lib/python3.10/dist-packages (from huggingface-hub>=0.21.0->accelerate) (4.66.4)\n",
            "Requirement already satisfied: typing-extensions>=3.7.4.3 in /usr/local/lib/python3.10/dist-packages (from huggingface-hub>=0.21.0->accelerate) (4.12.2)\n",
            "Requirement already satisfied: sympy in /usr/local/lib/python3.10/dist-packages (from torch>=1.10.0->accelerate) (1.13.0)\n",
            "Requirement already satisfied: networkx in /usr/local/lib/python3.10/dist-packages (from torch>=1.10.0->accelerate) (3.3)\n",
            "Requirement already satisfied: jinja2 in /usr/local/lib/python3.10/dist-packages (from torch>=1.10.0->accelerate) (3.1.4)\n",
            "Collecting nvidia-cuda-nvrtc-cu12==12.1.105 (from torch>=1.10.0->accelerate)\n",
            "  Using cached nvidia_cuda_nvrtc_cu12-12.1.105-py3-none-manylinux1_x86_64.whl (23.7 MB)\n",
            "Collecting nvidia-cuda-runtime-cu12==12.1.105 (from torch>=1.10.0->accelerate)\n",
            "  Using cached nvidia_cuda_runtime_cu12-12.1.105-py3-none-manylinux1_x86_64.whl (823 kB)\n",
            "Collecting nvidia-cuda-cupti-cu12==12.1.105 (from torch>=1.10.0->accelerate)\n",
            "  Using cached nvidia_cuda_cupti_cu12-12.1.105-py3-none-manylinux1_x86_64.whl (14.1 MB)\n",
            "Collecting nvidia-cudnn-cu12==8.9.2.26 (from torch>=1.10.0->accelerate)\n",
            "  Using cached nvidia_cudnn_cu12-8.9.2.26-py3-none-manylinux1_x86_64.whl (731.7 MB)\n",
            "Collecting nvidia-cublas-cu12==12.1.3.1 (from torch>=1.10.0->accelerate)\n",
            "  Using cached nvidia_cublas_cu12-12.1.3.1-py3-none-manylinux1_x86_64.whl (410.6 MB)\n",
            "Collecting nvidia-cufft-cu12==11.0.2.54 (from torch>=1.10.0->accelerate)\n",
            "  Using cached nvidia_cufft_cu12-11.0.2.54-py3-none-manylinux1_x86_64.whl (121.6 MB)\n",
            "Collecting nvidia-curand-cu12==10.3.2.106 (from torch>=1.10.0->accelerate)\n",
            "  Using cached nvidia_curand_cu12-10.3.2.106-py3-none-manylinux1_x86_64.whl (56.5 MB)\n",
            "Collecting nvidia-cusolver-cu12==11.4.5.107 (from torch>=1.10.0->accelerate)\n",
            "  Using cached nvidia_cusolver_cu12-11.4.5.107-py3-none-manylinux1_x86_64.whl (124.2 MB)\n",
            "Collecting nvidia-cusparse-cu12==12.1.0.106 (from torch>=1.10.0->accelerate)\n",
            "  Using cached nvidia_cusparse_cu12-12.1.0.106-py3-none-manylinux1_x86_64.whl (196.0 MB)\n",
            "Collecting nvidia-nccl-cu12==2.20.5 (from torch>=1.10.0->accelerate)\n",
            "  Using cached nvidia_nccl_cu12-2.20.5-py3-none-manylinux2014_x86_64.whl (176.2 MB)\n",
            "Collecting nvidia-nvtx-cu12==12.1.105 (from torch>=1.10.0->accelerate)\n",
            "  Using cached nvidia_nvtx_cu12-12.1.105-py3-none-manylinux1_x86_64.whl (99 kB)\n",
            "Requirement already satisfied: triton==2.3.1 in /usr/local/lib/python3.10/dist-packages (from torch>=1.10.0->accelerate) (2.3.1)\n",
            "Collecting nvidia-nvjitlink-cu12 (from nvidia-cusolver-cu12==11.4.5.107->torch>=1.10.0->accelerate)\n",
            "  Downloading nvidia_nvjitlink_cu12-12.5.82-py3-none-manylinux2014_x86_64.whl (21.3 MB)\n",
            "\u001b[2K     \u001b[90m━━━━━━━━━━━━━━━━━━━━━━━━━━━━━━━━━━━━━━━━\u001b[0m \u001b[32m21.3/21.3 MB\u001b[0m \u001b[31m54.1 MB/s\u001b[0m eta \u001b[36m0:00:00\u001b[0m\n",
            "\u001b[?25hRequirement already satisfied: MarkupSafe>=2.0 in /usr/local/lib/python3.10/dist-packages (from jinja2->torch>=1.10.0->accelerate) (2.1.5)\n",
            "Requirement already satisfied: charset-normalizer<4,>=2 in /usr/local/lib/python3.10/dist-packages (from requests->huggingface-hub>=0.21.0->accelerate) (3.3.2)\n",
            "Requirement already satisfied: idna<4,>=2.5 in /usr/local/lib/python3.10/dist-packages (from requests->huggingface-hub>=0.21.0->accelerate) (3.7)\n",
            "Requirement already satisfied: urllib3<3,>=1.21.1 in /usr/local/lib/python3.10/dist-packages (from requests->huggingface-hub>=0.21.0->accelerate) (2.0.7)\n",
            "Requirement already satisfied: certifi>=2017.4.17 in /usr/local/lib/python3.10/dist-packages (from requests->huggingface-hub>=0.21.0->accelerate) (2024.7.4)\n",
            "Requirement already satisfied: mpmath<1.4,>=1.1.0 in /usr/local/lib/python3.10/dist-packages (from sympy->torch>=1.10.0->accelerate) (1.3.0)\n",
            "Installing collected packages: nvidia-nvtx-cu12, nvidia-nvjitlink-cu12, nvidia-nccl-cu12, nvidia-curand-cu12, nvidia-cufft-cu12, nvidia-cuda-runtime-cu12, nvidia-cuda-nvrtc-cu12, nvidia-cuda-cupti-cu12, nvidia-cublas-cu12, nvidia-cusparse-cu12, nvidia-cudnn-cu12, nvidia-cusolver-cu12, accelerate\n",
            "  Attempting uninstall: accelerate\n",
            "    Found existing installation: accelerate 0.32.1\n",
            "    Uninstalling accelerate-0.32.1:\n",
            "      Successfully uninstalled accelerate-0.32.1\n",
            "Successfully installed accelerate-0.33.0 nvidia-cublas-cu12-12.1.3.1 nvidia-cuda-cupti-cu12-12.1.105 nvidia-cuda-nvrtc-cu12-12.1.105 nvidia-cuda-runtime-cu12-12.1.105 nvidia-cudnn-cu12-8.9.2.26 nvidia-cufft-cu12-11.0.2.54 nvidia-curand-cu12-10.3.2.106 nvidia-cusolver-cu12-11.4.5.107 nvidia-cusparse-cu12-12.1.0.106 nvidia-nccl-cu12-2.20.5 nvidia-nvjitlink-cu12-12.5.82 nvidia-nvtx-cu12-12.1.105\n"
          ]
        },
        {
          "data": {
            "application/vnd.colab-display-data+json": {
              "id": "840a6994091a4d809a0d302eca0dc543",
              "pip_warning": {
                "packages": [
                  "accelerate"
                ]
              }
            }
          },
          "metadata": {},
          "output_type": "display_data"
        }
      ],
      "source": [
        "!pip install accelerate -U\n"
      ]
    },
    {
      "cell_type": "code",
      "execution_count": null,
      "metadata": {
        "colab": {
          "background_save": true
        },
        "collapsed": true,
        "id": "wxDnVEVyeT2y",
        "outputId": "4070cfcd-4bf7-4440-8fac-a2d7c5ec8123"
      },
      "outputs": [
        {
          "name": "stderr",
          "output_type": "stream",
          "text": [
            "/usr/local/lib/python3.10/dist-packages/transformers/training_args.py:1494: FutureWarning: `evaluation_strategy` is deprecated and will be removed in version 4.46 of 🤗 Transformers. Use `eval_strategy` instead\n",
            "  warnings.warn(\n"
          ]
        }
      ],
      "source": [
        "\n",
        "# import\n",
        "from transformers import TrainingArguments , Trainer\n",
        "\n",
        "\n",
        "training_args = TrainingArguments(\n",
        "    output_dir='./results',\n",
        "    num_train_epochs=50,\n",
        "    per_device_train_batch_size=4,\n",
        "    per_device_eval_batch_size=4,\n",
        "    warmup_steps=500,\n",
        "    weight_decay=0.01,\n",
        "    logging_dir='./logs',\n",
        "    logging_steps=10,\n",
        "    evaluation_strategy=\"epoch\",\n",
        ")\n"
      ]
    },
    {
      "cell_type": "code",
      "execution_count": null,
      "metadata": {
        "colab": {
          "background_save": true
        },
        "id": "---ixs7fwuQ-"
      },
      "outputs": [],
      "source": [
        "trainer = Trainer(\n",
        "    model = model,\n",
        "    args = training_args,\n",
        "    train_dataset = token_train_data,\n",
        "    eval_dataset = token_val_data\n",
        ")"
      ]
    },
    {
      "cell_type": "code",
      "execution_count": null,
      "metadata": {
        "colab": {
          "background_save": true
        },
        "id": "o8lUT5tTfNlI",
        "outputId": "a1b2e3df-af3f-4cca-ed36-0dc5e77bc21d"
      },
      "outputs": [
        {
          "data": {
            "text/html": [
              "\n",
              "    <div>\n",
              "      \n",
              "      <progress value='700' max='700' style='width:300px; height:20px; vertical-align: middle;'></progress>\n",
              "      [700/700 01:14, Epoch 50/50]\n",
              "    </div>\n",
              "    <table border=\"1\" class=\"dataframe\">\n",
              "  <thead>\n",
              " <tr style=\"text-align: left;\">\n",
              "      <th>Epoch</th>\n",
              "      <th>Training Loss</th>\n",
              "      <th>Validation Loss</th>\n",
              "    </tr>\n",
              "  </thead>\n",
              "  <tbody>\n",
              "    <tr>\n",
              "      <td>1</td>\n",
              "      <td>15.586500</td>\n",
              "      <td>15.238416</td>\n",
              "    </tr>\n",
              "    <tr>\n",
              "      <td>2</td>\n",
              "      <td>15.497700</td>\n",
              "      <td>14.793922</td>\n",
              "    </tr>\n",
              "    <tr>\n",
              "      <td>3</td>\n",
              "      <td>15.021600</td>\n",
              "      <td>13.977633</td>\n",
              "    </tr>\n",
              "    <tr>\n",
              "      <td>4</td>\n",
              "      <td>14.607200</td>\n",
              "      <td>12.517141</td>\n",
              "    </tr>\n",
              "    <tr>\n",
              "      <td>5</td>\n",
              "      <td>13.092100</td>\n",
              "      <td>11.493066</td>\n",
              "    </tr>\n",
              "    <tr>\n",
              "      <td>6</td>\n",
              "      <td>12.381400</td>\n",
              "      <td>10.103866</td>\n",
              "    </tr>\n",
              "    <tr>\n",
              "      <td>7</td>\n",
              "      <td>11.575500</td>\n",
              "      <td>8.465281</td>\n",
              "    </tr>\n",
              "    <tr>\n",
              "      <td>8</td>\n",
              "      <td>9.004000</td>\n",
              "      <td>6.513869</td>\n",
              "    </tr>\n",
              "    <tr>\n",
              "      <td>9</td>\n",
              "      <td>8.056800</td>\n",
              "      <td>3.746967</td>\n",
              "    </tr>\n",
              "    <tr>\n",
              "      <td>10</td>\n",
              "      <td>4.490900</td>\n",
              "      <td>2.236159</td>\n",
              "    </tr>\n",
              "    <tr>\n",
              "      <td>11</td>\n",
              "      <td>3.494000</td>\n",
              "      <td>1.463201</td>\n",
              "    </tr>\n",
              "    <tr>\n",
              "      <td>12</td>\n",
              "      <td>2.476100</td>\n",
              "      <td>0.760564</td>\n",
              "    </tr>\n",
              "    <tr>\n",
              "      <td>13</td>\n",
              "      <td>2.138300</td>\n",
              "      <td>0.578179</td>\n",
              "    </tr>\n",
              "    <tr>\n",
              "      <td>14</td>\n",
              "      <td>1.585700</td>\n",
              "      <td>0.449339</td>\n",
              "    </tr>\n",
              "    <tr>\n",
              "      <td>15</td>\n",
              "      <td>1.309600</td>\n",
              "      <td>0.400519</td>\n",
              "    </tr>\n",
              "    <tr>\n",
              "      <td>16</td>\n",
              "      <td>0.892900</td>\n",
              "      <td>0.395264</td>\n",
              "    </tr>\n",
              "    <tr>\n",
              "      <td>17</td>\n",
              "      <td>0.887200</td>\n",
              "      <td>0.376893</td>\n",
              "    </tr>\n",
              "    <tr>\n",
              "      <td>18</td>\n",
              "      <td>0.592600</td>\n",
              "      <td>0.356129</td>\n",
              "    </tr>\n",
              "    <tr>\n",
              "      <td>19</td>\n",
              "      <td>0.513200</td>\n",
              "      <td>0.338228</td>\n",
              "    </tr>\n",
              "    <tr>\n",
              "      <td>20</td>\n",
              "      <td>0.486000</td>\n",
              "      <td>0.307745</td>\n",
              "    </tr>\n",
              "    <tr>\n",
              "      <td>21</td>\n",
              "      <td>0.466200</td>\n",
              "      <td>0.277448</td>\n",
              "    </tr>\n",
              "    <tr>\n",
              "      <td>22</td>\n",
              "      <td>0.386800</td>\n",
              "      <td>0.258986</td>\n",
              "    </tr>\n",
              "    <tr>\n",
              "      <td>23</td>\n",
              "      <td>0.364100</td>\n",
              "      <td>0.239466</td>\n",
              "    </tr>\n",
              "    <tr>\n",
              "      <td>24</td>\n",
              "      <td>0.384900</td>\n",
              "      <td>0.216120</td>\n",
              "    </tr>\n",
              "    <tr>\n",
              "      <td>25</td>\n",
              "      <td>0.322100</td>\n",
              "      <td>0.188720</td>\n",
              "    </tr>\n",
              "    <tr>\n",
              "      <td>26</td>\n",
              "      <td>0.296900</td>\n",
              "      <td>0.150036</td>\n",
              "    </tr>\n",
              "    <tr>\n",
              "      <td>27</td>\n",
              "      <td>0.247500</td>\n",
              "      <td>0.107942</td>\n",
              "    </tr>\n",
              "    <tr>\n",
              "      <td>28</td>\n",
              "      <td>0.230500</td>\n",
              "      <td>0.067353</td>\n",
              "    </tr>\n",
              "    <tr>\n",
              "      <td>29</td>\n",
              "      <td>0.172700</td>\n",
              "      <td>0.060391</td>\n",
              "    </tr>\n",
              "    <tr>\n",
              "      <td>30</td>\n",
              "      <td>0.185900</td>\n",
              "      <td>0.056430</td>\n",
              "    </tr>\n",
              "    <tr>\n",
              "      <td>31</td>\n",
              "      <td>0.140800</td>\n",
              "      <td>0.054520</td>\n",
              "    </tr>\n",
              "    <tr>\n",
              "      <td>32</td>\n",
              "      <td>0.183700</td>\n",
              "      <td>0.051605</td>\n",
              "    </tr>\n",
              "    <tr>\n",
              "      <td>33</td>\n",
              "      <td>0.144200</td>\n",
              "      <td>0.048889</td>\n",
              "    </tr>\n",
              "    <tr>\n",
              "      <td>34</td>\n",
              "      <td>0.137200</td>\n",
              "      <td>0.048107</td>\n",
              "    </tr>\n",
              "    <tr>\n",
              "      <td>35</td>\n",
              "      <td>0.103600</td>\n",
              "      <td>0.047103</td>\n",
              "    </tr>\n",
              "    <tr>\n",
              "      <td>36</td>\n",
              "      <td>0.111800</td>\n",
              "      <td>0.045133</td>\n",
              "    </tr>\n",
              "    <tr>\n",
              "      <td>37</td>\n",
              "      <td>0.116400</td>\n",
              "      <td>0.043452</td>\n",
              "    </tr>\n",
              "    <tr>\n",
              "      <td>38</td>\n",
              "      <td>0.093100</td>\n",
              "      <td>0.041367</td>\n",
              "    </tr>\n",
              "    <tr>\n",
              "      <td>39</td>\n",
              "      <td>0.102600</td>\n",
              "      <td>0.042554</td>\n",
              "    </tr>\n",
              "    <tr>\n",
              "      <td>40</td>\n",
              "      <td>0.080000</td>\n",
              "      <td>0.039634</td>\n",
              "    </tr>\n",
              "    <tr>\n",
              "      <td>41</td>\n",
              "      <td>0.090200</td>\n",
              "      <td>0.039565</td>\n",
              "    </tr>\n",
              "    <tr>\n",
              "      <td>42</td>\n",
              "      <td>0.071000</td>\n",
              "      <td>0.039599</td>\n",
              "    </tr>\n",
              "    <tr>\n",
              "      <td>43</td>\n",
              "      <td>0.081000</td>\n",
              "      <td>0.040161</td>\n",
              "    </tr>\n",
              "    <tr>\n",
              "      <td>44</td>\n",
              "      <td>0.075500</td>\n",
              "      <td>0.040773</td>\n",
              "    </tr>\n",
              "    <tr>\n",
              "      <td>45</td>\n",
              "      <td>0.073000</td>\n",
              "      <td>0.040450</td>\n",
              "    </tr>\n",
              "    <tr>\n",
              "      <td>46</td>\n",
              "      <td>0.079100</td>\n",
              "      <td>0.040105</td>\n",
              "    </tr>\n",
              "    <tr>\n",
              "      <td>47</td>\n",
              "      <td>0.079700</td>\n",
              "      <td>0.039917</td>\n",
              "    </tr>\n",
              "    <tr>\n",
              "      <td>48</td>\n",
              "      <td>0.064000</td>\n",
              "      <td>0.040159</td>\n",
              "    </tr>\n",
              "    <tr>\n",
              "      <td>49</td>\n",
              "      <td>0.071000</td>\n",
              "      <td>0.040145</td>\n",
              "    </tr>\n",
              "    <tr>\n",
              "      <td>50</td>\n",
              "      <td>0.069200</td>\n",
              "      <td>0.040119</td>\n",
              "    </tr>\n",
              "  </tbody>\n",
              "</table><p>"
            ],
            "text/plain": [
              "<IPython.core.display.HTML object>"
            ]
          },
          "metadata": {},
          "output_type": "display_data"
        },
        {
          "data": {
            "text/plain": [
              "('./t5_nmap_tokenizer/tokenizer_config.json',\n",
              " './t5_nmap_tokenizer/special_tokens_map.json',\n",
              " './t5_nmap_tokenizer/spiece.model',\n",
              " './t5_nmap_tokenizer/added_tokens.json')"
            ]
          },
          "execution_count": 13,
          "metadata": {},
          "output_type": "execute_result"
        }
      ],
      "source": [
        "trainer.train()\n",
        "model.save_pretrained(\"./t5_nmap_model\")\n",
        "tokenizer.save_pretrained(\"./t5_nmap_tokenizer\")"
      ]
    },
    {
      "cell_type": "code",
      "execution_count": null,
      "metadata": {
        "colab": {
          "background_save": true
        },
        "id": "QcKU37n7Wn4X",
        "outputId": "aaacfcf1-7dd3-468b-8da1-b76ca888ff32"
      },
      "outputs": [
        {
          "name": "stderr",
          "output_type": "stream",
          "text": [
            "Special tokens have been added in the vocabulary, make sure the associated word embeddings are fine-tuned or trained.\n"
          ]
        },
        {
          "name": "stdout",
          "output_type": "stream",
          "text": [
            "Input Query: Check for SSH services on 192.168.1.0/24 subnet using Nmap.\n",
            "Predicted Command: Kommandos für SSH-Dienste auf nmap 192.168.1.0/24\n"
          ]
        }
      ],
      "source": [
        "import torch\n",
        "from transformers import T5Tokenizer, T5ForConditionalGeneration\n",
        "\n",
        "tokenizer = T5Tokenizer.from_pretrained('./t5_nmap_tokenizer')\n",
        "model = T5ForConditionalGeneration.from_pretrained('./t5_nmap_model')\n",
        "\n",
        "\n",
        "input_query = \"Check for SSH services on 192.168.1.0/24 subnet using Nmap.\"\n",
        "\n",
        "\n",
        "inputs = tokenizer.encode(\"translate English to Commands: \" + input_query, return_tensors=\"pt\")\n",
        "\n",
        "\n",
        "outputs = model.generate(inputs, max_length=128, num_beams=4, early_stopping=True)\n",
        "\n",
        "\n",
        "predicted_command = tokenizer.decode(outputs[0], skip_special_tokens=True)\n",
        "\n",
        "\n",
        "print(f\"Input Query: {input_query}\")\n",
        "print(f\"Predicted Command: {predicted_command}\")\n"
      ]
    },
    {
      "cell_type": "code",
      "execution_count": null,
      "metadata": {
        "colab": {
          "background_save": true
        },
        "id": "ZFRVUKu1f7Zi"
      },
      "outputs": [],
      "source": [
        "# !pip install transformers datasets\n",
        "# import pandas as pd\n",
        "# from datasets import Dataset\n",
        "# from sklearn.model_selection import train_test_split\n",
        "# from transformers import T5Tokenizer, T5ForConditionalGeneration, Trainer, TrainingArguments\n",
        "# data = [\n",
        "#     {\"input\": \"Identify reachable IP addresses using Nmap, excluding 192.168.1.1.\", \"output\": \"nmap 192.168.1.0/24 --exclude 192.168.1.1\"},\n",
        "#     {\"input\": \"Scan the local network for active services.\", \"output\": \"nmap 192.168.1.0/24\"},\n",
        "#     {\"input\": \"Investigate which devices are online in the 192.168.1.0/24 subnet.\", \"output\": \"nmap 192.168.1.0/24\"},\n",
        "#     {\"input\": \"Perform an Nmap scan on the IP addresses listed in targets.txt.\", \"output\": \"nmap -iL targets.txt\"},\n",
        "#     {\"input\": \"Scan a random set of 100 IP addresses.\", \"output\": \"nmap -iR 100\"},\n",
        "#     {\"input\": \"Probe 192.168.1.1 for open ports using Nmap’s SYN scan.\", \"output\": \"nmap 192.168.1.1 -sS\"},\n",
        "#     {\"input\": \"Check for open ports on 192.168.1.0/24 network using Nmap.\", \"output\": \"nmap 192.168.1.0/24 -p 1-65535\"},\n",
        "#     {\"input\": \"Perform an intense scan on 192.168.1.0/24 subnet with Nmap.\", \"output\": \"nmap -T4 -A -v 192.168.1.0/24\"},\n",
        "#     {\"input\": \"Scan 192.168.1.0/24 network and output results to a file.\", \"output\": \"nmap -oN scan_results.txt 192.168.1.0/24\"},\n",
        "#     {\"input\": \"Identify live hosts on the local network using Nmap.\", \"output\": \"nmap -sn 192.168.1.0/24\"},\n",
        "#     {\"input\": \"Perform a stealth scan on 192.168.1.0/24 subnet with Nmap.\", \"output\": \"nmap -sS 192.168.1.0/24\"},\n",
        "#     {\"input\": \"Scan 192.168.1.0/24 network and only show open ports.\", \"output\": \"nmap --open 192.168.1.0/24\"},\n",
        "#     {\"input\": \"Check for vulnerable services on 192.168.1.0/24 subnet using Nmap.\", \"output\": \"nmap --script vuln 192.168.1.0/24\"},\n",
        "#     {\"input\": \"Probe 192.168.1.0/24 for services with Nmap's version detection.\", \"output\": \"nmap -sV 192.168.1.0/24\"},\n",
        "#     {\"input\": \"Scan 192.168.1.0/24 network and perform a UDP scan.\", \"output\": \"nmap -sU 192.168.1.0/24\"},\n",
        "#     {\"input\": \"Identify OS of devices in 192.168.1.0/24 subnet using Nmap.\", \"output\": \"nmap -O 192.168.1.0/24\"},\n",
        "#     {\"input\": \"Scan 192.168.1.0/24 network and perform a ping scan.\", \"output\": \"nmap -sP 192.168.1.0/24\"},\n",
        "#     {\"input\": \"Perform a quick scan on 192.168.1.0/24 subnet with Nmap.\", \"output\": \"nmap -T4 -F 192.168.1.0/24\"},\n",
        "#     {\"input\": \"Scan 192.168.1.0/24 network and disable DNS resolution.\", \"output\": \"nmap -n 192.168.1.0/24\"},\n",
        "#     {\"input\": \"Investigate live hosts on 192.168.1.0/24 subnet with aggressive scan.\", \"output\": \"nmap -A 192.168.1.0/24\"},\n",
        "#     {\"input\": \"Scan 192.168.1.0/24 network and detect firewall presence.\", \"output\": \"nmap -sA 192.168.1.0/24\"},\n",
        "#     {\"input\": \"Check for SSL/TLS services on 192.168.1.0/24 subnet using Nmap.\", \"output\": \"nmap --script ssl-enum-ciphers 192.168.1.0/24\"},\n",
        "#     {\"input\": \"Scan 192.168.1.0/24 network and perform a TCP connect scan.\", \"output\": \"nmap -sT 192.168.1.0/24\"},\n",
        "#     {\"input\": \"Identify IP addresses in 192.168.1.0/24 subnet with Nmap.\", \"output\": \"nmap -sL 192.168.1.0/24\"},\n",
        "#     {\"input\": \"Scan 192.168.1.0/24 network and output results in XML format.\", \"output\": \"nmap -oX scan_results.xml 192.168.1.0/24\"},\n",
        "#     {\"input\": \"Investigate which services are running on 192.168.1.0/24 subnet using Nmap.\", \"output\": \"nmap -sV -p 1-65535 192.168.1.0/24\"},\n",
        "#     {\"input\": \"Scan 192.168.1.0/24 network and perform a service version detection.\", \"output\": \"nmap -sV 192.168.1.0/24\"},\n",
        "#     {\"input\": \"Identify devices in 192.168.1.0/24 subnet with Nmap and display verbose output.\", \"output\": \"nmap -v 192.168.1.0/24\"},\n",
        "#     {\"input\": \"Scan 192.168.1.0/24 network and perform a full port scan.\", \"output\": \"nmap -p- 192.168.1.0/24\"},\n",
        "#     {\"input\": \"Investigate which IP addresses are up in the 192.168.1.0/24 subnet using Nmap.\", \"output\": \"nmap -sP 192.168.1.0/24\"},\n",
        "#     {\"input\": \"Scan 192.168.1.0/24 network and detect HTTP services.\", \"output\": \"nmap --script http-enum 192.168.1.0/24\"},\n",
        "#     {\"input\": \"Check for SSH services on 192.168.1.0/24 subnet using Nmap.\", \"output\": \"nmap -p 22 192.168.1.0/24\"},\n",
        "#     {\"input\": \"Probe 192.168.1.0/24 for open ports using Nmap with TCP SYN scan.\", \"output\": \"nmap -sS 192.168.1.0/24\"},\n",
        "#     {\"input\": \"Scan 192.168.1.0/24 network and perform a stealthy scan with Nmap.\", \"output\": \"nmap -sS -T4 -A -v 192.168.1.0/24\"},\n",
        "#     {\"input\": \"Investigate which devices are live in the 192.168.1.0/24 subnet using Nmap.\", \"output\": \"nmap -sn 192.168.1.0/24\"},\n",
        "#     {\"input\": \"Scan 192.168.1.0/24 network and perform a UDP scan with Nmap.\", \"output\": \"nmap -sU 192.168.1.0/24\"},\n",
        "#     {\"input\": \"Check for vulnerable services in the 192.168.1.0/24 subnet using Nmap.\", \"output\": \"nmap --script vuln 192.168.1.0/24\"},\n",
        "#     {\"input\": \"Probe 192.168.1.0/24 for services with Nmap's version detection.\", \"output\": \"nmap -sV 192.168.1.0/24\"},\n",
        "#     {\"input\": \"Scan 192.168.1.0/24 network and perform a ping scan using Nmap.\", \"output\": \"nmap -sP 192.168.1.0/24\"},\n",
        "#     {\"input\": \"Identify OS of devices in 192.168.1.0/24 subnet with Nmap.\", \"output\": \"nmap -O 192.168.1.0/24\"},\n",
        "#     {\"input\": \"Scan 192.168.1.0/24 network and perform a quick scan with Nmap.\", \"output\": \"nmap -T4 -F 192.168.1.0/24\"},\n",
        "#     {\"input\": \"Check for open ports on 192.168.1.0/24 network using Nmap.\", \"output\": \"nmap -p 1-65535 192.168.1.0/24\"},\n",
        "#     {\"input\": \"Investigate live hosts on the 192.168.1.0/24 subnet with Nmap.\", \"output\": \"nmap -A 192.168.1.0/24\"},\n",
        "#     {\"input\": \"Scan 192.168.1.0/24 network and detect firewall presence with Nmap.\", \"output\": \"nmap -sA 192.168.1.0/24\"},\n",
        "#     {\"input\": \"Identify SSL/TLS services on 192.168.1.0/24 subnet using Nmap.\", \"output\": \"nmap --script ssl-enum-ciphers 192.168.1.0/24\"},\n",
        "#     {\"input\": \"Scan 192.168.1.0/24 network and perform a TCP connect scan.\", \"output\": \"nmap -sT 192.168.1.0/24\"},\n",
        "#     {\"input\": \"Identify IP addresses in 192.168.1.0/24 subnet with Nmap.\", \"output\": \"nmap -sL 192.168.1.0/24\"},\n",
        "#     {\"input\": \"Scan 192.168.1.0/24 network and output results in XML format.\", \"output\": \"nmap -oX scan_results.xml 192.168.1.0/24\"},\n",
        "#     {\"input\": \"Investigate which services are running on 192.168.1.0/24 subnet using Nmap.\", \"output\": \"nmap -sV -p 1-65535 192.168.1.0/24\"},\n",
        "#     {\"input\": \"Scan 192.168.1.0/24 network and perform a service version detection.\", \"output\": \"nmap -sV 192.168.1.0/24\"},\n",
        "#     {\"input\": \"Identify devices in 192.168.1.0/24 subnet with Nmap and display verbose output.\", \"output\": \"nmap -v 192.168.1.0/24\"},\n",
        "#     {\"input\": \"Scan 192.168.1.0/24 network and perform a full port scan.\", \"output\": \"nmap -p- 192.168.1.0/24\"},\n",
        "#     {\"input\": \"Investigate which IP addresses are up in the 192.168.1.0/24 subnet using Nmap.\", \"output\": \"nmap -sP 192.168.1.0/24\"},\n",
        "#     {\"input\": \"Scan 192.168.1.0/24 network and detect HTTP services.\", \"output\": \"nmap --script http-enum 192.168.1.0/24\"},\n",
        "#     {\"input\": \"Check for SSH services on 192.168.1.0/24 subnet using Nmap.\", \"output\": \"nmap -p 22 192.168.1.0/24\"},\n",
        "#     {\"input\": \"Probe 192.168.1.0/24 for open ports using Nmap with TCP SYN scan.\", \"output\": \"nmap -sS 192.168.1.0/24\"},\n",
        "#     {\"input\": \"Scan 192.168.1.0/24 network and perform a stealthy scan with Nmap.\", \"output\": \"nmap -sS -T4 -A -v 192.168.1.0/24\"},\n",
        "#     {\"input\": \"Investigate which devices are live in the 192.168.1.0/24 subnet using Nmap.\", \"output\": \"nmap -sn 192.168.1.0/24\"},\n",
        "#     {\"input\": \"Scan 192.168.1.0/24 network and perform a UDP scan with Nmap.\", \"output\": \"nmap -sU 192.168.1.0/24\"},\n",
        "#     {\"input\": \"Check for vulnerable services in the 192.168.1.0/24 subnet using Nmap.\", \"output\": \"nmap --script vuln 192.168.1.0/24\"},\n",
        "#     {\"input\": \"Probe 192.168.1.0/24 for services with Nmap's version detection.\", \"output\": \"nmap -sV 192.168.1.0/24\"},\n",
        "#     {\"input\": \"Scan 192.168.1.0/24 network and perform a ping scan using Nmap.\", \"output\": \"nmap -sP 192.168.1.0/24\"},\n",
        "#     {\"input\": \"Identify OS of devices in 192.168.1.0/24 subnet with Nmap.\", \"output\": \"nmap -O 192.168.1.0/24\"},\n",
        "#     {\"input\": \"Scan 192.168.1.0/24 network and perform a quick scan with Nmap.\", \"output\": \"nmap -T4 -F 192.168.1.0/24\"},\n",
        "#     {\"input\": \"Check for open ports on 192.168.1.0/24 network using Nmap.\", \"output\": \"nmap -p 1-65535 192.168.1.0/24\"},\n",
        "#     {\"input\": \"Investigate live hosts on the 192.168.1.0/24 subnet with Nmap.\", \"output\": \"nmap -A 192.168.1.0/24\"},\n",
        "#     {\"input\": \"Scan 192.168.1.0/24 network and detect firewall presence with Nmap.\", \"output\": \"nmap -sA 192.168.1.0/24\"},\n",
        "#     {\"input\": \"Identify SSL/TLS services on 192.168.1.0/24 subnet using Nmap.\", \"output\": \"nmap --script ssl-\"}\n",
        "# ]\n",
        "\n",
        "# # Convert the data to DataFrame\n",
        "# df = pd.DataFrame(data)\n",
        "# train_df, val_df = train_test_split(df, test_size=0.2)\n",
        "# train_dataset = Dataset.from_pandas(train_df)\n",
        "# val_dataset = Dataset.from_pandas(val_df)\n",
        "# tokenizer = T5Tokenizer.from_pretrained('t5-small')\n",
        "# model = T5ForConditionalGeneration.from_pretrained('t5-small')\n",
        "# def preprocess_function(examples):\n",
        "#     inputs = [ex for ex in examples['input']]\n",
        "#     targets = [ex for ex in examples['output']]\n",
        "#     model_inputs = tokenizer(inputs, max_length=128, truncation=True, padding='max_length')\n",
        "\n",
        "#     # Setup the tokenizer for targets\n",
        "#     with tokenizer.as_target_tokenizer():\n",
        "#         labels = tokenizer(targets, max_length=128, truncation=True, padding='max_length')\n",
        "\n",
        "#     model_inputs[\"labels\"] = labels[\"input_ids\"]\n",
        "#     return model_inputs\n",
        "\n",
        "# tokenized_train_dataset = train_dataset.map(preprocess_function, batched=True)\n",
        "# tokenized_val_dataset = val_dataset.map(preprocess_function, batched=True)\n",
        "# training_args = TrainingArguments(\n",
        "#     output_dir='./results',\n",
        "#     num_train_epochs=30,\n",
        "#     per_device_train_batch_size=4,\n",
        "#     per_device_eval_batch_size=4,\n",
        "#     warmup_steps=500,\n",
        "#     weight_decay=0.01,\n",
        "#     logging_dir='./logs',\n",
        "#     logging_steps=10,\n",
        "#     evaluation_strategy=\"epoch\",\n",
        "# )\n",
        "# trainer = Trainer(\n",
        "#     model=model,\n",
        "#     args=training_args,\n",
        "#     train_dataset=tokenized_train_dataset,\n",
        "#     eval_dataset=tokenized_val_dataset,\n",
        "# )\n",
        "# trainer = Trainer(\n",
        "#     model=model,\n",
        "#     args=training_args,\n",
        "#     train_dataset=tokenized_train_dataset,\n",
        "#     eval_dataset=tokenized_val_dataset,\n",
        "# )\n",
        "# trainer.train()\n",
        "# model.save_pretrained('./t5_command_model')\n",
        "# tokenizer.save_pretrained('./t5_command_model')\n",
        "# def generate_command(input_query):\n",
        "#     inputs = tokenizer.encode(input_query, return_tensors=\"pt\")\n",
        "#     outputs = model.generate(inputs, max_length=128, num_beams=4, early_stopping=True)\n",
        "#     predicted_command = tokenizer.decode(outputs[0], skip_special_tokens=True)\n",
        "#     return predicted_command\n",
        "\n",
        "# # Sample prediction\n",
        "# input_query = \"Identify reachable IP addresses using Nmap, excluding 192.168.1.1.\"\n",
        "# predicted_command = generate_command(input_query)\n",
        "\n",
        "# print(f\"Input Query: {input_query}\")\n",
        "# print(f\"Predicted Command: {predicted_command}\")\n"
      ]
    },
    {
      "cell_type": "code",
      "execution_count": null,
      "metadata": {
        "colab": {
          "background_save": true
        },
        "id": "A5coJRSZaA9X"
      },
      "outputs": [],
      "source": [
        "# import pandas as pd\n",
        "# from datasets import Dataset\n",
        "# from sklearn.model_selection import train_test_split\n",
        "# from transformers import BartTokenizer, BartForConditionalGeneration, Trainer, TrainingArguments\n",
        "\n",
        "# # Define your data\n",
        "# data = [\n",
        "#     {\"input\": \"Identify reachable IP addresses using Nmap, excluding 192.168.1.1.\", \"output\": \"nmap 192.168.1.0/24 --exclude 192.168.1.1\"},\n",
        "#     {\"input\": \"Scan the local network for active services.\", \"output\": \"nmap 192.168.1.0/24\"},\n",
        "#     {\"input\": \"Investigate which devices are online in the 192.168.1.0/24 subnet.\", \"output\": \"nmap 192.168.1.0/24\"},\n",
        "#     # Add more examples...\n",
        "# ]\n",
        "\n",
        "# # Convert the data to DataFrame\n",
        "# df = pd.DataFrame(data)\n",
        "\n",
        "# # Split the data into training and validation sets\n",
        "# train_df, val_df = train_test_split(df, test_size=0.2)\n",
        "\n",
        "# # Convert the data to Huggingface Dataset\n",
        "# train_dataset = Dataset.from_pandas(train_df)\n",
        "# val_dataset = Dataset.from_pandas(val_df)\n",
        "\n",
        "# # Load tokenizer and model\n",
        "# tokenizer = BartTokenizer.from_pretrained('facebook/bart-base')\n",
        "# model = BartForConditionalGeneration.from_pretrained('facebook/bart-base')\n",
        "\n",
        "# # Preprocess function\n",
        "# def preprocess_function(examples):\n",
        "#     inputs = examples['input']\n",
        "#     targets = examples['output']\n",
        "#     model_inputs = tokenizer(inputs, max_length=128, truncation=True, padding='max_length')\n",
        "\n",
        "#     # Setup the tokenizer for targets\n",
        "#     with tokenizer.as_target_tokenizer():\n",
        "#         labels = tokenizer(targets, max_length=128, truncation=True, padding='max_length')\n",
        "\n",
        "#     model_inputs[\"labels\"] = labels[\"input_ids\"]\n",
        "#     return model_inputs\n",
        "\n",
        "# # Tokenize the datasets\n",
        "# tokenized_train_dataset = train_dataset.map(preprocess_function, batched=True)\n",
        "# tokenized_val_dataset = val_dataset.map(preprocess_function, batched=True)\n",
        "\n",
        "# # Define training arguments\n",
        "# training_args = TrainingArguments(\n",
        "#     output_dir='./results',\n",
        "#     num_train_epochs=3,\n",
        "#     per_device_train_batch_size=4,\n",
        "#     per_device_eval_batch_size=4,\n",
        "#     warmup_steps=500,\n",
        "#     weight_decay=0.01,\n",
        "#     logging_dir='./logs',\n",
        "#     logging_steps=10,\n",
        "#     evaluation_strategy=\"epoch\",\n",
        "# )\n",
        "\n",
        "# # Initialize the Trainer\n",
        "# trainer = Trainer(\n",
        "#     model=model,\n",
        "#     args=training_args,\n",
        "#     train_dataset=tokenized_train_dataset,\n",
        "#     eval_dataset=tokenized_val_dataset,\n",
        "# )\n",
        "\n",
        "# # Train the model\n",
        "# trainer.train()\n",
        "\n",
        "# # Save the model and tokenizer\n",
        "# model.save_pretrained('./bart_command_model')\n",
        "# tokenizer.save_pretrained('./bart_command_model')\n",
        "\n",
        "# # Function to generate commands\n",
        "# def generate_command(input_query):\n",
        "#     inputs = tokenizer.encode(input_query, return_tensors=\"pt\")\n",
        "#     outputs = model.generate(inputs, max_length=128, num_beams=4, early_stopping=True)\n",
        "#     predicted_command = tokenizer.decode(outputs[0], skip_special_tokens=True)\n",
        "#     return predicted_command\n",
        "\n",
        "# # Sample prediction\n",
        "# input_query = \"Identify reachable IP addresses using Nmap, excluding 192.168.1.1.\"\n",
        "# predicted_command = generate_command(input_query)\n",
        "\n",
        "# print(f\"Input Query: {input_query}\")\n",
        "# print(f\"Predicted Command: {predicted_command}\")\n"
      ]
    }
  ],
  "metadata": {
    "accelerator": "GPU",
    "colab": {
      "gpuType": "T4",
      "provenance": []
    },
    "kernelspec": {
      "display_name": "Python 3",
      "name": "python3"
    },
    "language_info": {
      "name": "python"
    }
  },
  "nbformat": 4,
  "nbformat_minor": 0
}